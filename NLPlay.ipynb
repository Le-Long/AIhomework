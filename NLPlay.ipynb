{
 "cells": [
  {
   "cell_type": "code",
   "execution_count": 2,
   "metadata": {},
   "outputs": [],
   "source": [
    "import re\n",
    "import nltk\n",
    "import string\n",
    "from collections import Counter\n",
    "import matplotlib.pyplot as plt\n",
    "%matplotlib inline"
   ]
  },
  {
   "cell_type": "markdown",
   "metadata": {},
   "source": [
    "# I. Data preparation"
   ]
  },
  {
   "cell_type": "markdown",
   "metadata": {},
   "source": [
    "To learn to tokenize words, we first have a text to learn the most common words. Here I use the wikitext103 dataset from https://www.salesforce.com/products/einstein/ai-research/the-wikitext-dependency-language-modeling-dataset/."
   ]
  },
  {
   "cell_type": "code",
   "execution_count": 3,
   "metadata": {},
   "outputs": [],
   "source": [
    "wikitext = open('C:\\\\Users\\\\TA\\\\Downloads\\\\wiki.train.tokens', encoding = 'utf8').read()"
   ]
  },
  {
   "cell_type": "code",
   "execution_count": 4,
   "metadata": {},
   "outputs": [
    {
     "data": {
      "text/plain": [
       "10780437"
      ]
     },
     "execution_count": 4,
     "metadata": {},
     "output_type": "execute_result"
    }
   ],
   "source": [
    "len(wikitext)"
   ]
  },
  {
   "cell_type": "code",
   "execution_count": 5,
   "metadata": {},
   "outputs": [
    {
     "data": {
      "text/plain": [
       "' \\n = Valkyria Chronicles III = \\n \\n Senjō no Valkyr'"
      ]
     },
     "execution_count": 5,
     "metadata": {},
     "output_type": "execute_result"
    }
   ],
   "source": [
    "wikitext[:50]"
   ]
  },
  {
   "cell_type": "markdown",
   "metadata": {},
   "source": [
    "Then we do a simple word tokenization and compute the probability of each words."
   ]
  },
  {
   "cell_type": "code",
   "execution_count": 6,
   "metadata": {},
   "outputs": [
    {
     "data": {
      "text/plain": [
       "1827460"
      ]
     },
     "execution_count": 6,
     "metadata": {},
     "output_type": "execute_result"
    }
   ],
   "source": [
    "wikitext = re.compile(r'[.?!]').sub('_S_', wikitext)\n",
    "words = re.findall(re.compile(r'\\w+'), wikitext)\n",
    "n = len(words)\n",
    "n"
   ]
  },
  {
   "cell_type": "code",
   "execution_count": 7,
   "metadata": {},
   "outputs": [
    {
     "data": {
      "text/plain": [
       "[('the', 113161),\n",
       " ('_S_', 77305),\n",
       " ('of', 56889),\n",
       " ('unk', 54625),\n",
       " ('and', 50603),\n",
       " ('in', 39486),\n",
       " ('to', 39190),\n",
       " ('a', 34250),\n",
       " ('was', 20985),\n",
       " ('The', 17602)]"
      ]
     },
     "execution_count": 7,
     "metadata": {},
     "output_type": "execute_result"
    }
   ],
   "source": [
    "bow = Counter(words)\n",
    "bow.most_common(10)"
   ]
  },
  {
   "cell_type": "code",
   "execution_count": 8,
   "metadata": {},
   "outputs": [
    {
     "data": {
      "text/plain": [
       "0.0619225591805019"
      ]
     },
     "execution_count": 8,
     "metadata": {},
     "output_type": "execute_result"
    }
   ],
   "source": [
    "unigram = dict(zip(words, [bow[word]/n for word in words]))\n",
    "unigram['the']"
   ]
  },
  {
   "cell_type": "markdown",
   "metadata": {},
   "source": [
    "# II. Finding a suitable segmenter"
   ]
  },
  {
   "cell_type": "markdown",
   "metadata": {},
   "source": [
    "## 1. Greedy Algorithm"
   ]
  },
  {
   "cell_type": "markdown",
   "metadata": {},
   "source": [
    "Now come to the main part, tokenize a continous alphabetical character string into words with the vocabulary we have. First I try a longest-match-first greedy algorithm called maxmatch."
   ]
  },
  {
   "cell_type": "code",
   "execution_count": 9,
   "metadata": {},
   "outputs": [],
   "source": [
    "def maxmatch(text, desc=False):\n",
    "    '''If you want to take the longest word from left to right, set desc to true. \n",
    "    If you take the longest word from right to left, set desc to false.'''\n",
    "    if not text:\n",
    "        return []\n",
    "    if (desc):\n",
    "        for i in range(len(text),-1,-1):\n",
    "            firstword = text[:i]\n",
    "            remainder = text[i:len(text)]\n",
    "            if firstword in words:\n",
    "                return [firstword] + maxmatch(remainder, desc=True)\n",
    "    else:\n",
    "        for i in range(len(text)+1):\n",
    "            firstword = text[:i]\n",
    "            remainder = text[i:len(text)]\n",
    "            if remainder in words:\n",
    "                return maxmatch(firstword, desc=False) + [remainder]\n",
    "    return [text]"
   ]
  },
  {
   "cell_type": "markdown",
   "metadata": {},
   "source": [
    "Let's try it with some phrase!"
   ]
  },
  {
   "cell_type": "code",
   "execution_count": 10,
   "metadata": {},
   "outputs": [
    {
     "data": {
      "text/plain": [
       "['go', 'to', 'school']"
      ]
     },
     "execution_count": 10,
     "metadata": {},
     "output_type": "execute_result"
    }
   ],
   "source": [
    "maxmatch(\"gotoschool\", desc=False)"
   ]
  },
  {
   "cell_type": "code",
   "execution_count": 11,
   "metadata": {},
   "outputs": [
    {
     "data": {
      "text/plain": [
       "['I', 'am', 'as', 't', 'u', 'dent']"
      ]
     },
     "execution_count": 11,
     "metadata": {},
     "output_type": "execute_result"
    }
   ],
   "source": [
    "maxmatch(\"Iamastudent\", desc=True)"
   ]
  },
  {
   "cell_type": "code",
   "execution_count": 12,
   "metadata": {},
   "outputs": [
    {
     "data": {
      "text/plain": [
       "['I', 'am', 'a', 'student']"
      ]
     },
     "execution_count": 12,
     "metadata": {},
     "output_type": "execute_result"
    }
   ],
   "source": [
    "maxmatch(\"Iamastudent\", desc=False)"
   ]
  },
  {
   "cell_type": "code",
   "execution_count": 13,
   "metadata": {},
   "outputs": [
    {
     "data": {
      "text/plain": [
       "['speed', 'of', 'art']"
      ]
     },
     "execution_count": 13,
     "metadata": {},
     "output_type": "execute_result"
    }
   ],
   "source": [
    "maxmatch(\"speedofart\", desc=False)"
   ]
  },
  {
   "cell_type": "code",
   "execution_count": 14,
   "metadata": {},
   "outputs": [
    {
     "data": {
      "text/plain": [
       "['s', 'mal', 'land', 'insignificant']"
      ]
     },
     "execution_count": 14,
     "metadata": {},
     "output_type": "execute_result"
    }
   ],
   "source": [
    "maxmatch(\"smallandinsignificant\", desc=False)"
   ]
  },
  {
   "cell_type": "markdown",
   "metadata": {},
   "source": [
    "## 2. N-gram Language Model "
   ]
  },
  {
   "cell_type": "markdown",
   "metadata": {},
   "source": [
    "Another way to tokenize words is to accept the bag-of-word assumption and choose the phrase with highest probability. Now we will try it out."
   ]
  },
  {
   "cell_type": "code",
   "execution_count": 15,
   "metadata": {},
   "outputs": [],
   "source": [
    "def unigramProb(words):\n",
    "    '''Compute the probility of a word sequence.'''\n",
    "    prob = 1\n",
    "    for word in words:\n",
    "        if word in unigram:\n",
    "            prob *= unigram[word]\n",
    "        else:\n",
    "            prob *= 0\n",
    "            break\n",
    "    return prob"
   ]
  },
  {
   "cell_type": "code",
   "execution_count": 16,
   "metadata": {},
   "outputs": [],
   "source": [
    "def memo(func):\n",
    "    '''A decorator that kinda saves the results to a cache'''\n",
    "    cache = {}\n",
    "    def fmemo(*args):\n",
    "        if args not in cache:\n",
    "            cache[args] = func(*args)\n",
    "        return cache[args]\n",
    "    fmemo.cache = cache\n",
    "    return fmemo"
   ]
  },
  {
   "cell_type": "code",
   "execution_count": 17,
   "metadata": {},
   "outputs": [],
   "source": [
    "@memo\n",
    "def ngramModel(text, probFunction):\n",
    "    '''A n-gram model for word tokenization'''\n",
    "    if not text:\n",
    "        return []\n",
    "    candidate = [[text[:i+1]] + ngramModel(text[i+1:], probFunction) for i in range(len(text)+1)]\n",
    "    return max(candidate, key=probFunction)"
   ]
  },
  {
   "cell_type": "code",
   "execution_count": 18,
   "metadata": {},
   "outputs": [
    {
     "data": {
      "text/plain": [
       "['i', 'am', 'a', 'student']"
      ]
     },
     "execution_count": 18,
     "metadata": {},
     "output_type": "execute_result"
    }
   ],
   "source": [
    "ngramModel('iamastudent', unigramProb)"
   ]
  },
  {
   "cell_type": "code",
   "execution_count": 19,
   "metadata": {},
   "outputs": [
    {
     "data": {
      "text/plain": [
       "['small', 'and', 'insignificant']"
      ]
     },
     "execution_count": 19,
     "metadata": {},
     "output_type": "execute_result"
    }
   ],
   "source": [
    "ngramModel('smallandinsignificant', unigramProb)"
   ]
  },
  {
   "cell_type": "code",
   "execution_count": 20,
   "metadata": {},
   "outputs": [
    {
     "data": {
      "text/plain": [
       "['T', 'urn', 'off', 'the', 'light', 'before', 'going', 'out']"
      ]
     },
     "execution_count": 20,
     "metadata": {},
     "output_type": "execute_result"
    }
   ],
   "source": [
    "ngramModel('Turnoffthelightbeforegoingout', unigramProb)"
   ]
  },
  {
   "cell_type": "markdown",
   "metadata": {},
   "source": [
    "The result is pretty good but the model still depends the bag-of-word assumption and new words. How about using bigram with smoothing (we can't use simple smoothing technique like add-k because it can't distinguish likely unknown from unlikely unknown words)"
   ]
  },
  {
   "cell_type": "code",
   "execution_count": 21,
   "metadata": {},
   "outputs": [
    {
     "data": {
      "text/plain": [
       "1827459"
      ]
     },
     "execution_count": 21,
     "metadata": {},
     "output_type": "execute_result"
    }
   ],
   "source": [
    "twowords = list(nltk.bigrams(words))\n",
    "m = len(twowords)\n",
    "m"
   ]
  },
  {
   "cell_type": "code",
   "execution_count": 22,
   "metadata": {},
   "outputs": [
    {
     "data": {
      "text/plain": [
       "[(('of', 'the'), 16991),\n",
       " (('_S_', 'The'), 13635),\n",
       " (('in', 'the'), 10580),\n",
       " (('to', 'the'), 5911),\n",
       " (('unk', 'unk'), 5722),\n",
       " (('_S_', 'In'), 4930),\n",
       " (('unk', '_S_'), 4607),\n",
       " (('unk', 'and'), 4272),\n",
       " (('and', 'the'), 4259),\n",
       " (('on', 'the'), 4194)]"
      ]
     },
     "execution_count": 22,
     "metadata": {},
     "output_type": "execute_result"
    }
   ],
   "source": [
    "bigrams = Counter(twowords)\n",
    "bigrams.most_common(10)"
   ]
  },
  {
   "cell_type": "code",
   "execution_count": 24,
   "metadata": {},
   "outputs": [
    {
     "data": {
      "text/plain": [
       "(55, 3.0096434448050544e-05)"
      ]
     },
     "execution_count": 24,
     "metadata": {},
     "output_type": "execute_result"
    }
   ],
   "source": [
    "bigram = dict(zip(twowords, [bigrams[twoword]/m for twoword in twowords]))\n",
    "(bigrams['I', 'am'], bigram['I', 'am'])"
   ]
  },
  {
   "cell_type": "code",
   "execution_count": 28,
   "metadata": {},
   "outputs": [],
   "source": [
    "def bigramProbLTR(words):\n",
    "    '''Compute the probility of a word sequence with bigram and stupid back-off from left to right.'''\n",
    "    prob = 1\n",
    "    i = 0\n",
    "    for word in words:\n",
    "            if i == 0: \n",
    "                prev = '_S_'\n",
    "            else:\n",
    "                prev = words[i-1]\n",
    "            if (prev + ' ' + word) in bigram and prev in unigram:\n",
    "                prob *= bigram[prev + ' ' + word]\n",
    "            else:\n",
    "                if word in unigram:\n",
    "                    prob *= unigram[word]*0.4\n",
    "                else:\n",
    "                    prob *= 0\n",
    "                    break\n",
    "            i+=1\n",
    "    return prob"
   ]
  },
  {
   "cell_type": "code",
   "execution_count": 29,
   "metadata": {},
   "outputs": [],
   "source": [
    "def bigramProbRTL(words):\n",
    "    '''Compute the probility of a word sequence with bigram and stupid back-off from right to left.'''\n",
    "    prob = 1\n",
    "    i = -1\n",
    "    for word in words:\n",
    "            if i == -1: \n",
    "                following = '_S_'\n",
    "            else:\n",
    "                following = words[i+1]\n",
    "            if (word + ' ' + following) in bigram and prev in unigram:\n",
    "                prob *= bigram[word + ' ' + following]\n",
    "            else:\n",
    "                if word in unigram:\n",
    "                    prob *= unigram[word]*0.4\n",
    "                else:\n",
    "                    prob *= 0\n",
    "                    break\n",
    "            i-=1\n",
    "    return prob"
   ]
  },
  {
   "cell_type": "code",
   "execution_count": 30,
   "metadata": {},
   "outputs": [
    {
     "data": {
      "text/plain": [
       "['small', 'and', 'insignificant']"
      ]
     },
     "execution_count": 30,
     "metadata": {},
     "output_type": "execute_result"
    }
   ],
   "source": [
    "ngramModel('smallandinsignificant', bigramProbLTR)"
   ]
  },
  {
   "cell_type": "code",
   "execution_count": 31,
   "metadata": {},
   "outputs": [
    {
     "data": {
      "text/plain": [
       "['Would', 'you', 'like', 'a', 'cup', 'of', 'tea']"
      ]
     },
     "execution_count": 31,
     "metadata": {},
     "output_type": "execute_result"
    }
   ],
   "source": [
    "ngramModel('Wouldyoulikeacupoftea',bigramProbRTL)"
   ]
  },
  {
   "cell_type": "code",
   "execution_count": 32,
   "metadata": {},
   "outputs": [
    {
     "data": {
      "text/plain": [
       "['a',\n",
       " 'dry',\n",
       " 'bare',\n",
       " 'sandy',\n",
       " 'hole',\n",
       " 'with',\n",
       " 'nothing',\n",
       " 'in',\n",
       " 'it',\n",
       " 'to',\n",
       " 'sit',\n",
       " 'down',\n",
       " 'on',\n",
       " 'or',\n",
       " 'to',\n",
       " 'eat']"
      ]
     },
     "execution_count": 32,
     "metadata": {},
     "output_type": "execute_result"
    }
   ],
   "source": [
    "ngramModel('adrybaresandyholewithnothinginittositdownonortoeat', bigramProbRTL)"
   ]
  },
  {
   "cell_type": "markdown",
   "metadata": {},
   "source": [
    "## 3. Smoothing with NLTK "
   ]
  },
  {
   "cell_type": "markdown",
   "metadata": {},
   "source": [
    "Bigram model seems better than unigram, but still not really good because we still can't handle oov words. We can do some smoothing (Katz backoff, Kneser-Ney,...) to have better results. For example, now I will use nltk to make a bigram model without and with Kneser-Ney smoothing and see the result."
   ]
  },
  {
   "cell_type": "code",
   "execution_count": 87,
   "metadata": {},
   "outputs": [
    {
     "name": "stdout",
     "output_type": "stream",
     "text": [
      "<NgramCounter with 2 ngram orders and 3654919 ngrams>\n"
     ]
    }
   ],
   "source": [
    "from nltk.lm import NgramCounter, Vocabulary, MLE, KneserNeyInterpolated\n",
    "newVocab = Vocabulary(bow)\n",
    "count = NgramCounter([list((word,) for word in words) + list(nltk.bigrams(words))])\n",
    "simpleModel = MLE(2, vocabulary=newVocab, counter=count)\n",
    "print(simpleModel.counts)"
   ]
  },
  {
   "cell_type": "code",
   "execution_count": 88,
   "metadata": {},
   "outputs": [],
   "source": [
    "def newProb(words):\n",
    "    '''Another way to compute the log probability of a word sequence with bigram.'''\n",
    "    logprob = 0\n",
    "    bigramText = [('_S_', words[0])] + list(nltk.bigrams(words))\n",
    "    for ngram in bigramText:\n",
    "        logprob += simpleModel.logscore(ngram[0], [ngram[1]])\n",
    "    return logprob"
   ]
  },
  {
   "cell_type": "code",
   "execution_count": 89,
   "metadata": {},
   "outputs": [
    {
     "data": {
      "text/plain": [
       "['go', 'to', 'school']"
      ]
     },
     "execution_count": 89,
     "metadata": {},
     "output_type": "execute_result"
    }
   ],
   "source": [
    "ngramModel('gotoschool', newProb)"
   ]
  },
  {
   "cell_type": "code",
   "execution_count": 90,
   "metadata": {},
   "outputs": [
    {
     "data": {
      "text/plain": [
       "['s', 'p', 'e', 'e', 'd', 'of', 'art']"
      ]
     },
     "execution_count": 90,
     "metadata": {},
     "output_type": "execute_result"
    }
   ],
   "source": [
    "ngramModel('speedofart', newProb)"
   ]
  },
  {
   "cell_type": "code",
   "execution_count": 91,
   "metadata": {},
   "outputs": [
    {
     "data": {
      "text/plain": [
       "2"
      ]
     },
     "execution_count": 91,
     "metadata": {},
     "output_type": "execute_result"
    }
   ],
   "source": [
    "smoothedModel = KneserNeyInterpolated(2, vocabulary=newVocab, counter=count)\n",
    "len(smoothedModel.counts)"
   ]
  },
  {
   "cell_type": "code",
   "execution_count": 92,
   "metadata": {},
   "outputs": [],
   "source": [
    "def smoothedProb(words):\n",
    "    '''Compute the log probability of a word sequence with Kneser-Ney Interpolated.'''\n",
    "    logprob = 0\n",
    "    bigramText = [('_S_', words[0])] + list(nltk.bigrams(words))\n",
    "    for ngram in bigramText:\n",
    "        logprob += smoothedModel.logscore(ngram[0], [ngram[1]])\n",
    "    return logprob"
   ]
  },
  {
   "cell_type": "code",
   "execution_count": 93,
   "metadata": {},
   "outputs": [
    {
     "data": {
      "text/plain": [
       "['gotoschool']"
      ]
     },
     "execution_count": 93,
     "metadata": {},
     "output_type": "execute_result"
    }
   ],
   "source": [
    "ngramModel('gotoschool', smoothedProb)"
   ]
  },
  {
   "cell_type": "code",
   "execution_count": 94,
   "metadata": {},
   "outputs": [
    {
     "data": {
      "text/plain": [
       "-15.017895817356235"
      ]
     },
     "execution_count": 94,
     "metadata": {},
     "output_type": "execute_result"
    }
   ],
   "source": [
    "smoothedProb(['gotoschool'])"
   ]
  },
  {
   "cell_type": "code",
   "execution_count": 95,
   "metadata": {},
   "outputs": [
    {
     "data": {
      "text/plain": [
       "-20.304866550884615"
      ]
     },
     "execution_count": 95,
     "metadata": {},
     "output_type": "execute_result"
    }
   ],
   "source": [
    "smoothedProb(['go', 'to', 'school'])"
   ]
  },
  {
   "cell_type": "markdown",
   "metadata": {},
   "source": [
    "Using nltk to make a n-gram model with Kneser-Ney smoothing leads to a very bad result. Maybe there's something wrong with my code, but for now we only have good enough results from unigram and bigram model.  "
   ]
  },
  {
   "cell_type": "markdown",
   "metadata": {},
   "source": [
    "# III. Evaluation"
   ]
  },
  {
   "cell_type": "markdown",
   "metadata": {},
   "source": [
    "To evaluate precisely each algorithm, we can use a test set. But how to use it efficiently will take a bit of time."
   ]
  },
  {
   "cell_type": "code",
   "execution_count": 34,
   "metadata": {},
   "outputs": [
    {
     "data": {
      "text/plain": [
       "1255018"
      ]
     },
     "execution_count": 34,
     "metadata": {},
     "output_type": "execute_result"
    }
   ],
   "source": [
    "testset = open('C:\\\\Users\\\\TA\\\\Downloads\\\\wiki.test.tokens', encoding = 'utf8').read()\n",
    "len(testset)"
   ]
  },
  {
   "cell_type": "code",
   "execution_count": 65,
   "metadata": {},
   "outputs": [
    {
     "data": {
      "text/plain": [
       "9668"
      ]
     },
     "execution_count": 65,
     "metadata": {},
     "output_type": "execute_result"
    }
   ],
   "source": [
    "tests = re.split(r'[.?!\\n]', testset)\n",
    "tests = [sentences for sentences in tests if len(sentences) > 30]\n",
    "len(tests)"
   ]
  },
  {
   "cell_type": "markdown",
   "metadata": {},
   "source": [
    "The testset has about 10000 sentences, that's a lot. We can test by running the model with the first 1000 sentences and getting the number of sentences that they guess right."
   ]
  },
  {
   "cell_type": "code",
   "execution_count": 83,
   "metadata": {},
   "outputs": [],
   "source": [
    "def test_model(tests, otherParam):\n",
    "    \"Try segmenter on tests; report failures; return fraction correct.\"\n",
    "    return sum([test_one_sentence(test, otherParam) \n",
    "               for test in tests]), len(tests)\n",
    "\n",
    "def test_one_sentence(test, otherParam):\n",
    "    words = re.findall(re.compile(r'\\w+'), test)\n",
    "    result = ngramModel(''.join(words), otherParam)\n",
    "    correct = (result == words)\n",
    "    if not correct:\n",
    "        print(str(words))\n",
    "        print(str(result))\n",
    "    return correct"
   ]
  },
  {
   "cell_type": "code",
   "execution_count": 84,
   "metadata": {},
   "outputs": [
    {
     "name": "stdout",
     "output_type": "stream",
     "text": [
      "['Robert', 'unk', 'is', 'an', 'English', 'film', 'television', 'and', 'theatre', 'actor']\n",
      "['Robert', 'unk', 'is', 'an', 'English', 'film', 'television', 'and', 'the', 'at', 'reactor']\n",
      "['Stephen', 'Owen', 'suggests', 'a', 'third', 'factor', 'particular', 'to', 'Du', 'Fu', 'arguing', 'that', 'the', 'variety', 'of', 'the', 'poet', 's', 'work', 'required', 'consideration', 'of', 'his', 'whole', 'life', 'rather', 'than', 'the', 'unk', 'unk', 'used', 'for', 'more', 'limited', 'poets']\n",
      "['Stephen', 'Owen', 'suggests', 'a', 'third', 'factor', 'particular', 'to', 'Du', 'Fu', 'arguing', 'that', 'the', 'variety', 'of', 'the', 'poets', 'work', 'required', 'consideration', 'of', 'his', 'whole', 'life', 'rather', 'than', 'the', 'unk', 'unk', 'used', 'for', 'more', 'limited', 'poets']\n",
      "['Du', 'Fu', 'would', 'have', 'been', 'allowed', 'to', 'enter', 'the', 'civil', 'service', 'because', 'of', 'his', 'father', 's', 'rank', 'but', 'he', 'is', 'thought', 'to', 'have', 'given', 'up', 'the', 'privilege', 'in', 'favour', 'of', 'one', 'of', 'his', 'half', 'brothers']\n",
      "['Du', 'Fu', 'would', 'have', 'been', 'allowed', 'to', 'enter', 'the', 'civil', 'service', 'because', 'of', 'his', 'fathers', 'rank', 'but', 'he', 'is', 'thought', 'to', 'have', 'given', 'up', 'the', 'privilege', 'in', 'favour', 'of', 'one', 'of', 'his', 'half', 'brothers']\n",
      "['Like', 'many', 'other', 'poems', 'in', 'the', 'Tang', 'it', 'featured', 'the', 'theme', 'of', 'a', 'long', 'parting', 'between', 'friends', 'which', 'was', 'often', 'due', 'to', 'officials', 'being', 'frequently', 'transferred', 'to', 'the', 'provinces']\n",
      "['Like', 'many', 'other', 'poems', 'in', 'the', 'Tang', 'it', 'featured', 'the', 'theme', 'of', 'along', 'parting', 'between', 'friends', 'which', 'was', 'often', 'due', 'to', 'officials', 'being', 'frequently', 'transferred', 'to', 'the', 'provinces']\n",
      "['Du', 'Fu', 's', 'political', 'comments', 'are', 'based', 'on', 'emotion', 'rather', 'than', 'calculation', 'his', 'unk', 'have', 'been', 'unk', 'as', 'Let', 'us', 'all', 'be', 'less', 'selfish', 'let', 'us', 'all', 'do', 'what', 'we', 'are', 'supposed', 'to', 'do']\n",
      "['Du', 'Fu', 's', 'political', 'comments', 'are', 'based', 'one', 'motion', 'rather', 'than', 'calculation', 'his', 'unk', 'have', 'been', 'unk', 'as', 'Let', 'us', 'all', 'be', 'less', 'selfish', 'let', 'us', 'all', 'do', 'what', 'we', 'are', 'supposed', 'to', 'do']\n",
      "['A', 'second', 'favourite', 'epithet', 'of', 'Chinese', 'critics', 'is', 'that', 'of', 'poet', 'sage', 'unk', 'unk', 'unk', 'a', 'counterpart', 'to', 'the', 'philosophical', 'sage', 'unk']\n",
      "['A', 'second', 'favourite', 'epithet', 'of', 'Chinese', 'critics', 'is', 'that', 'of', 'poets', 'age', 'unk', 'unk', 'unk', 'a', 'counterpart', 'to', 'the', 'philosophical', 'sage', 'unk']\n",
      "['Early', 'positive', 'comments', 'came', 'from', 'unk', 'unk', 'who', 'praised', 'the', 'moral', 'sentiments', 'of', 'some', 'of', 'Du', 'Fu', 's', 'works', 'although', 'he', 'found', 'these', 'in', 'only', 'a', 'small', 'fraction', 'of', 'the', 'poems', 'and', 'from', 'Han', 'Yu', 'who', 'wrote', 'a', 'piece', 'defending', 'Du', 'Fu', 'and', 'Li', 'unk', 'on', 'aesthetic', 'grounds', 'from', 'attacks', 'made', 'against', 'them']\n",
      "['Early', 'positive', 'comments', 'came', 'from', 'unk', 'unk', 'who', 'praised', 'the', 'moral', 'sentiments', 'of', 'some', 'of', 'Du', 'Fu', 's', 'works', 'although', 'he', 'found', 'these', 'in', 'only', 'a', 'small', 'fraction', 'of', 'the', 'poems', 'and', 'from', 'Han', 'Yu', 'who', 'wrote', 'apiece', 'defending', 'Du', 'Fu', 'and', 'Li', 'unk', 'on', 'aesthetic', 'grounds', 'from', 'attacks', 'made', 'against', 'them']\n",
      "['Since', 'the', 'establishment', 'of', 'the', 'People', 's', 'Republic', 'of', 'China', 'Du', 'Fu', 's', 'loyalty', 'to', 'the', 'state', 'and', 'concern', 'for', 'the', 'poor', 'have', 'been', 'interpreted', 'as', 'embryonic', 'nationalism', 'and', 'socialism', 'and', 'he', 'has', 'been', 'praised', 'for', 'his', 'use', 'of', 'simple', 'people', 's', 'language']\n",
      "['Since', 'the', 'establishment', 'of', 'the', 'Peoples', 'Republic', 'of', 'China', 'Du', 'Fu', 's', 'loyalty', 'to', 'the', 'state', 'and', 'concern', 'for', 'the', 'poor', 'have', 'been', 'interpreted', 'as', 'embryonic', 'nationalism', 'and', 'socialism', 'and', 'he', 'has', 'been', 'praised', 'for', 'his', 'use', 'of', 'simple', 'peoples', 'language']\n",
      "['While', 'there', 'was', 'never', 'another', 'Du', 'Fu', 'individual', 'poets', 'followed', 'in', 'the', 'traditions', 'of', 'specific', 'aspects', 'of', 'his', 'work', 'unk', 'unk', 's', 'concern', 'for', 'the', 'poor', 'Lu', 'You', 's', 'patriotism', 'and', 'unk', 'unk', 's', 'unk', 'on', 'the', 'unk', 'are', 'a', 'few', 'examples']\n",
      "['While', 'there', 'was', 'never', 'another', 'Du', 'Fu', 'individual', 'poets', 'followed', 'in', 'the', 'traditions', 'of', 'specific', 'aspects', 'of', 'his', 'work', 'unk', 'unk', 's', 'concern', 'for', 'the', 'poor', 'Lu', 'You', 's', 'patriotism', 'and', 'unk', 'unk', 's', 'unk', 'on', 'the', 'unk', 'area', 'few', 'examples']\n",
      "['More', 'broadly', 'Du', 'Fu', 's', 'work', 'in', 'transforming', 'the', 'unk', 'from', 'mere', 'word', 'play', 'into', 'a', 'vehicle', 'for', 'serious', 'poetic', 'unk', 'set', 'the', 'stage', 'for', 'every', 'subsequent', 'writer', 'in', 'the', 'genre']\n",
      "['More', 'broadly', 'Du', 'Fu', 's', 'work', 'in', 'transforming', 'the', 'unk', 'from', 'mere', 'wordplay', 'into', 'a', 'vehicle', 'for', 'serious', 'poetic', 'unk', 'set', 'the', 'stage', 'for', 'every', 'subsequent', 'writer', 'in', 'the', 'genre']\n",
      "['It', 'is', 'said', 'that', 'when', 'he', 'died', 'in', 'Osaka', 'during', 'a', 'long', 'travel', 'a', 'copy', 'of', 'Du', 'Fu', 's', 'poetry', 'was', 'found', 'with', 'him', 'as', 'one', 'of', 'a', 'few', 'precious', 'items', 'which', 'he', 'was', 'able', 'to', 'carry', 'around']\n",
      "['It', 'is', 'said', 'that', 'when', 'he', 'died', 'in', 'Osaka', 'during', 'along', 'travel', 'a', 'copy', 'of', 'Du', 'Fu', 's', 'poetry', 'was', 'found', 'with', 'him', 'as', 'one', 'of', 'a', 'few', 'precious', 'items', 'which', 'he', 'was', 'able', 'to', 'carry', 'around']\n",
      "['It', 'was', 'released', 'as', 'the', 'record', 's', 'second', 'single', 'in', 'Germany', 'and', 'the', 'third', 'overall', 'single', 'on', '7', 'January', '2013']\n",
      "['It', 'was', 'released', 'as', 'the', 'records', 'second', 'single', 'in', 'Germany', 'and', 'the', 'third', 'overall', 'single', 'on', '7', 'January', '2013']\n",
      "['Kiss', 'You', 'is', 'an', 'upbeat', 'power', 'pop', 'song', 'with', 'electronic', 'effects', 'the', 'lyrics', 'detail', 'a', 'protagonist', 's', 'infatuation', 'with', 'a', 'significant', 'other']\n",
      "['Kiss', 'You', 'is', 'an', 'upbeat', 'power', 'pop', 'song', 'with', 'electronic', 'effects', 'the', 'lyrics', 'detail', 'a', 'protagonists', 'infatuation', 'with', 'a', 'significant', 'other']\n",
      "['Critics', 'praised', 'the', 'song', 'for', 'its', 'production', 'calling', 'it', 'a', 'stand', 'out', 'track', 'on', 'Take', 'Me', 'Home']\n",
      "['Critics', 'praised', 'the', 'song', 'for', 'its', 'production', 'calling', 'it', 'a', 'standout', 'track', 'on', 'Take', 'Me', 'Home']\n",
      "['The', 'track', 'became', 'the', 'group', 's', 'sixth', 'top', 'ten', 'hit', 'in', 'Ireland', 'and', 'the', 'United', 'Kingdom', 'while', 'attaining', 'top', 'forty', 'positions', 'in', 'both', 'Belgian', 'territories', 'Flanders', 'and', 'Wallonia', 'as', 'well', 'as', 'in', 'Australia', 'Canada', 'Denmark', 'France', 'New', 'Zealand', 'and', 'the', 'Netherlands']\n",
      "['The', 'track', 'became', 'the', 'groups', 'sixth', 'top', 'ten', 'hit', 'in', 'Ireland', 'and', 'the', 'United', 'Kingdom', 'while', 'attaining', 'top', 'forty', 'positions', 'in', 'both', 'Belgian', 'territories', 'Flanders', 'and', 'Wallonia', 'as', 'well', 'as', 'in', 'Australia', 'Canada', 'Denmark', 'France', 'New', 'Zealand', 'and', 'the', 'Netherlands']\n",
      "['An', 'accompanying', 'music', 'video', 'designed', 'to', 'display', 'the', 'group', 's', 'comedic', 'timing', 'was', 'directed', 'by', 'Vaughan', 'unk', 'who', 'had', 'previously', 'worked', 'with', 'the', 'group', 'on', 'two', 'other', 'music', 'videos']\n",
      "['An', 'accompanying', 'music', 'video', 'designed', 'to', 'display', 'the', 'groups', 'comedic', 'timing', 'was', 'directed', 'by', 'Vaughan', 'unk', 'who', 'had', 'previously', 'worked', 'with', 'the', 'group', 'on', 'two', 'other', 'music', 'videos']\n",
      "['unk', 'unk', 'and', 'unk', 'had', 'unk', 'composed', 'One', 'Direction', 's', 'previous', 'hit', 'singles', 'What', 'Makes', 'You', 'Beautiful', 'One', 'Thing', 'and', 'Live', 'While', 'We', 're', 'Young']\n",
      "['unk', 'unk', 'and', 'unk', 'had', 'unk', 'composed', 'One', 'Directions', 'previous', 'hit', 'singles', 'What', 'Makes', 'You', 'Beautiful', 'One', 'Thing', 'and', 'Live', 'While', 'Were', 'Young']\n",
      "['In', 'April', '2012', 'The', 'Independent', 'reported', 'that', 'Simon', 'Cowell', 'the', 'group', 's', 'manager', 'had', 'challenged', 'prominent', 'songwriters', 'to', 'compete', 'for', 'space', 'on', 'One', 'Direction', 's', 'second', 'album']\n",
      "['In', 'April', '2012', 'The', 'Independent', 'reported', 'that', 'Simon', 'Cowell', 'the', 'groups', 'manager', 'had', 'challenged', 'prominent', 'songwriters', 'to', 'compete', 'for', 'space', 'on', 'One', 'Directions', 'second', 'album']\n",
      "['unk', 'said', 'It', 's', 'important', 'to', 'get', 'their', 'personalities', 'on', 'the', 'music']\n",
      "['unk', 'said', 'Its', 'important', 'to', 'get', 'their', 'personalities', 'on', 'the', 'music']\n",
      "['Liam', 'Payne', 'a', 'group', 'member', 'in', 'a', 'November', '2012', 'interview', 'with', 'MTV', 'News', 'explained', 'why', 'they', 'chose', 'Kiss', 'You', 'as', 'the', 'album', 's', 'second', 'single', 'in', 'the', 'US']\n",
      "['Liam', 'Payne', 'a', 'group', 'member', 'in', 'a', 'November', '2012', 'interview', 'with', 'MTV', 'News', 'explained', 'why', 'they', 'chose', 'Kiss', 'You', 'as', 'the', 'albums', 'second', 'single', 'in', 'the', 'US']\n",
      "['The', 'track', 'however', 'was', 'released', 'by', 'Sony', 'Music', 'Entertainment', 'on', '8', 'February', '2013', 'as', 'the', 'record', 's', 'second', 'single', 'in', 'Germany']\n",
      "['The', 'track', 'however', 'was', 'released', 'by', 'Sony', 'Music', 'Entertainment', 'on', '8', 'February', '2013', 'as', 'the', 'records', 'second', 'single', 'in', 'Germany']\n",
      "['Kiss', 'You', 'is', 'an', 'uptempo', 'upbeat', 'power', 'pop', 'song', 'which', 'runs', 'for', 'a', 'duration', 'of', '3', '04', '3', 'minutes', 'four', 'seconds']\n",
      "['Kiss', 'You', 'is', 'an', 'uptempo', 'upbeat', 'power', 'pop', 'song', 'which', 'runs', 'for', 'a', 'duration', 'of', '30', '43', 'minutes', 'four', 'seconds']\n",
      "['The', 'track', 'features', 'electronic', 'effects', 'colossal', 'hooks', 'a', 'na', 'na', 'na', 'breakdown', 'and', 'a', 'Motown', 'unk', 'melody']\n",
      "['The', 'track', 'features', 'electronic', 'effects', 'colossal', 'hooks', 'an', 'an', 'an', 'a', 'breakdown', 'and', 'a', 'Motown', 'unk', 'melody']\n",
      "['One', 'Direction', 's', 'vocal', 'range', 'in', 'the', 'song', 'span', 'from', 'the', 'note', 'of', 'E4', 'to', 'C', '6']\n",
      "['One', 'Directions', 'vocal', 'range', 'in', 'the', 'song', 'span', 'from', 'the', 'note', 'of', 'E4', 'to', 'C', '6']\n",
      "['Written', 'in', 'the', 'key', 'of', 'E', 'major', 'the', 'beat', 'is', 'set', 'in', 'common', 'time', 'and', 'moves', 'at', 'a', 'quick', '90', 'beats', 'per', 'minute', 'according', 'to', 'the', 'digital', 'sheet', 'music', 'published', 'at', 'Musicnotes']\n",
      "['Written', 'in', 'the', 'key', 'of', 'E', 'major', 'the', 'beat', 'is', 'set', 'in', 'common', 'time', 'and', 'moves', 'at', 'a', 'quick', '90', 'beats', 'per', 'minute', 'according', 'to', 'the', 'digital', 'sheet', 'music', 'published', 'at', 'Music', 'notes']\n",
      "['com', 'by', 'Sony', 'ATV', 'Music', 'Publishing']\n",
      "['co', 'm', 'by', 'Sony', 'ATV', 'Music', 'Publishing']\n",
      "['The', 'lyrical', 'content', 'regards', 'the', 'protagonist', 's', 'infatuation', 'with', 'a', 'significant', 'other', 'and', 'incorporates', 'unk', 'for', 'sexual', 'intercourse', 'in', 'the', 'lines', 'If', 'you', 'don', 't', 'wanna', 'take', 'it', 'slow', 'And', 'you', 'just', 'wanna', 'take', 'me', 'home', 'Baby', 'say', 'yeah', 'yeah', 'yeah', 'yeah', 'yeah']\n",
      "['The', 'lyrical', 'content', 'regards', 'the', 'protagonists', 'infatuation', 'with', 'a', 'significant', 'other', 'and', 'incorporates', 'unk', 'for', 'sexual', 'intercourse', 'in', 'the', 'lines', 'If', 'you', 'don', 't', 'wanna', 'take', 'its', 'low', 'And', 'you', 'just', 'wanna', 'take', 'me', 'home', 'Baby', 'say', 'yeah', 'yeah', 'yeah', 'yeah', 'yeah']\n",
      "['Both', 'Rolling', 'Stone', 's', 'Jon', 'Dolan', 'who', 'praised', 'its', 'effectiveness', 'and', 'Chris', 'Payne', 'of', 'Billboard', 'who', 'appreciated', 'the', 'melody', 'described', 'Kiss', 'You', 'as', 'one', 'of', 'the', 'album', 's', 'highlights']\n",
      "['Both', 'Rolling', 'Stones', 'Jon', 'Dolan', 'who', 'praised', 'its', 'effectiveness', 'and', 'Chris', 'Payne', 'of', 'Billboard', 'who', 'appreciated', 'the', 'melody', 'described', 'Kiss', 'You', 'as', 'one', 'of', 'the', 'albums', 'highlights']\n",
      "['Alexis', 'unk', 'for', 'The', 'Guardian', 'commended', 'the', 'track', 's', 'chorus', 'as', 'hard', 'to', 'unk', 'from', 'your', 'brain']\n",
      "['Alexis', 'unk', 'for', 'The', 'Guardian', 'commended', 'the', 'tracks', 'chorus', 'as', 'hard', 'to', 'unk', 'from', 'your', 'brain']\n",
      "['Robert', 'Copsey', 'of', 'Digital', 'Spy', 'noted', 'the', 'song', 's', 'possibility', 'to', 'become', 'an', 'international', 'hit', 'unk', 'it', 'unk']\n",
      "['Robert', 'Copsey', 'of', 'Digital', 'Spy', 'noted', 'the', 'songs', 'possibility', 'to', 'become', 'an', 'international', 'hit', 'unk', 'it', 'unk']\n",
      "['A', 'reviewer', 'for', 'MTV', 'News', 'described', 'the', 'track', 's', 'unk', 'as', 'butterflies', 'inducing', 'and', 'Sam', 'unk', 'of', 'Idolator', 'wrote', 'that', 'Kiss', 'You', 'is', 'noticeably', 'a', 'stand', 'out', 'track', 'on', 'its', 'parent', 'album']\n",
      "['A', 'reviewer', 'for', 'MTV', 'News', 'described', 'the', 'tracks', 'unk', 'as', 'butterflies', 'inducing', 'and', 'Sam', 'unk', 'of', 'Idolator', 'wrote', 'that', 'Kiss', 'You', 'is', 'noticeably', 'a', 'standout', 'track', 'on', 'its', 'parent', 'album']\n",
      "['Melinda', 'Newman', 'writing', 'for', 'HitFix', 'regarded', 'the', 'song', 'as', 'a', 'unk', 'electronic', 'infectious', 'ditty', 'while', 'Chris', 'unk', 'a', 'critic', 'from', 'unk', 'deemed', 'it', 'an', 'amazing', 'pop', 'song', 'lauding', 'the', 'group', 's', 'falsetto', 'and', 'its', 'head', 'unk', 'unk', 'chorus']\n",
      "['Melinda', 'Newman', 'writing', 'for', 'HitFix', 'regarded', 'the', 'song', 'as', 'a', 'unk', 'electronic', 'infectious', 'ditty', 'while', 'Chris', 'unk', 'a', 'critic', 'from', 'unk', 'deemed', 'it', 'an', 'amazing', 'pop', 'song', 'lauding', 'the', 'groups', 'falsetto', 'and', 'its', 'head', 'unk', 'unk', 'chorus']\n",
      "['It', 'peaked', 'at', 'number', 'nine', 'on', 'the', 'UK', 'Singles', 'Chart', 'on', '26', 'January', '2013', 'becoming', 'One', 'Direction', 's', 'sixth', 'top', 'ten', 'hit', 'in', 'the', 'United', 'Kingdom']\n",
      "['It', 'peaked', 'at', 'number', 'nine', 'on', 'the', 'UK', 'Singles', 'Chart', 'on', '26', 'January', '2013', 'becoming', 'One', 'Directions', 'sixth', 'top', 'ten', 'hit', 'in', 'the', 'United', 'Kingdom']\n",
      "['The', 'song', 'became', 'One', 'Direction', 's', 'fourth', 'top', 'forty', 'hit', 'on', 'the', 'Canadian', 'Hot', '100', 'peaking', 'at', 'number', '30']\n",
      "['The', 'song', 'became', 'One', 'Directions', 'fourth', 'top', 'forty', 'hit', 'on', 'the', 'Canadian', 'Hot', '100', 'peaking', 'at', 'number', '30']\n",
      "['The', 'single', 'bowed', 'at', 'number', '13', 'on', 'the', 'Australian', 'Singles', 'Chart', 'on', '27', 'January', '2013', 'marking', 'its', 'peak', 'position', 'and', 'the', 'group', 's', 'fourth', 'top', 'twenty', 'hit', 'in', 'Australia']\n",
      "['The', 'single', 'bowed', 'at', 'number', '13', 'on', 'the', 'Australian', 'Singles', 'Chart', 'on', '27', 'January', '2013', 'marking', 'its', 'peak', 'position', 'and', 'the', 'groups', 'fourth', 'top', 'twenty', 'hit', 'in', 'Australia']\n",
      "['It', 'peaked', 'at', 'number', '13', 'in', 'its', 'third', 'and', 'fourth', 'charting', 'weeks', 'unk', 'the', 'group', 's', 'sixth', 'top', 'forty', 'appearance', 'in', 'New', 'Zealand']\n",
      "['It', 'peaked', 'at', 'number', '13', 'in', 'its', 'third', 'and', 'fourth', 'charting', 'weeks', 'unk', 'the', 'groups', 'sixth', 'top', 'forty', 'appearance', 'in', 'New', 'Zealand']\n",
      "['The', 'accompanying', 'music', 'video', 'directed', 'by', 'Vaughan', 'unk', 'who', 'had', 'previously', 'directed', 'One', 'Direction', 's', 'music', 'videos', 'for', 'Live', 'While', 'We', 're', 'Young', 'and', 'Little', 'Things', 'was', 'designed', 'to', 'showcase', 'the', 'group', 's', 'comedic', 'timing']\n",
      "['The', 'accompanying', 'music', 'video', 'directed', 'by', 'Vaughan', 'unk', 'who', 'had', 'previously', 'directed', 'One', 'Directions', 'music', 'videos', 'for', 'Live', 'While', 'Were', 'Young', 'and', 'Little', 'Things', 'was', 'designed', 'to', 'showcase', 'the', 'groups', 'comedic', 'timing']\n",
      "['Inspired', 'by', 'the', 'Beach', 'Boys', 'cult', 'surfing', 'films', 'old', 'Hollywood', 'and', 'British', 'cinema', 'the', 'music', 'video', 'incorporates', 'a', 'unk', 'vibe', 'and', 'a', 'British', 'kind', 'of', 'romp', 'as', 'noted', 'by', 'unk', 'in', 'a', 'MTV', 'News', 'interview']\n",
      "['Inspired', 'by', 'the', 'Beach', 'Boys', 'cult', 'surfing', 'film', 'sold', 'Hollywood', 'and', 'British', 'cinema', 'the', 'music', 'video', 'incorporates', 'a', 'unk', 'vibe', 'and', 'a', 'British', 'kind', 'of', 'romp', 'as', 'noted', 'by', 'unk', 'in', 'a', 'MTV', 'News', 'interview']\n",
      "['Shot', 'by', 'November', '2012', 'the', 'music', 'video', 'was', 'characterised', 'in', 'several', 'MTV', 'News', 'interviews', 'as', 'bigger', 'than', 'anything', 'we', 've', 'done', 'before', 'by', 'unk', 'unk', 'as', 'a', 'lot', 'of', 'hard', 'work', 'by', 'Payne', 'as', 'pure', 'unk', 'by', 'Louis', 'unk', 'and', 'as', 'I', 'wouldn', 't', 'say', 'it', 's', 'comedy', 'it', 's', 'all', 'tongue', 'in', 'cheek', 'by', 'unk']\n",
      "['Shot', 'by', 'November', '2012', 'the', 'music', 'video', 'was', 'characterised', 'in', 'several', 'MTV', 'News', 'interviews', 'as', 'bigger', 'than', 'anything', 'we', 've', 'done', 'before', 'by', 'unk', 'unk', 'as', 'a', 'lot', 'of', 'hard', 'work', 'by', 'Payne', 'as', 'pure', 'unk', 'by', 'Louis', 'unk', 'and', 'as', 'I', 'wouldn', 't', 'say', 'its', 'comedy', 'its', 'all', 'tongue', 'in', 'cheek', 'by', 'unk']\n",
      "['Despite', 'a', '34', 'gain', 'in', 'weekly', 'activity', 'to', 'their', 'unk', 'channel', 'with', 'the', 'clip', 's', 'success', 'and', 'preceding', 'teaser', 'videos', 'earning', '38', 'million', 'views', 'during', 'the', 'week', 'One', 'Direction', 'held', 'at', 'number', 'two', 'on', 'the', 'Billboard', 's', 'Social', '50', 'chart', 'A', '15', 'rise', 'in', 'Facebook', 'reaction', 'gave', 'way', 'to', 'a', '154', '000', 'increase', 'in', 'Facebook', 'likes', 'during', 'the', 'week']\n",
      "['Despite', 'a', '34', 'gain', 'in', 'weekly', 'activity', 'to', 'their', 'unk', 'channel', 'with', 'the', 'clips', 'success', 'and', 'preceding', 'teaser', 'videos', 'earning', '38', 'million', 'views', 'during', 'the', 'week', 'One', 'Direction', 'held', 'at', 'number', 'two', 'on', 'the', 'Billboard', 's', 'Social', '50', 'chart', 'A', '15', 'rise', 'in', 'Facebook', 'reaction', 'gave', 'way', 'to', 'a', '154', '000', 'increase', 'in', 'Facebook', 'likes', 'during', 'the', 'week']\n",
      "['191', '000', 'Twitter', 'followers', 'added', 'contributed', 'to', 'their', 'overall', 'fan', 'base', 'increase', 'as', 'well']\n",
      "['19', '1000', 'Twitter', 'followers', 'added', 'contributed', 'to', 'their', 'overall', 'fanbase', 'increase', 'as', 'well']\n",
      "['Melinda', 'Newman', 'a', 'contributor', 'for', 'HitFix', 'favoured', 'the', 'clip', 'as', 'having', 'everything', 'a', 'video', 'by', 'a', 'boy', 'band', 'should', 'be', 'and', 'found', 'group', 's', 'careless', 'tone', 'delightful']\n",
      "['Melinda', 'Newman', 'a', 'contributor', 'for', 'HitFix', 'favoured', 'the', 'clip', 'as', 'having', 'everything', 'a', 'video', 'by', 'a', 'boy', 'band', 'should', 'be', 'and', 'found', 'groups', 'careless', 'tone', 'delightful']\n",
      "['Kiss', 'You', 'was', 'included', 'in', 'the', 'set', 'list', 'of', 'the', 'group', 's', '3', 'December', '2012', 'sold', 'out', 'show', 'at', 'New', 'York', 'City', 's', 'Madison', 'Square', 'Garden']\n",
      "['Kiss', 'You', 'was', 'included', 'in', 'the', 'setlist', 'of', 'the', 'groups', '3', 'December', '2012', 'sold', 'out', 'show', 'at', 'New', 'York', 'City', 's', 'Madison', 'Square', 'Garden']\n",
      "['Considering', 'One', 'Direction', 'the', 'franchise', 's', 'biggest', 'success', 'story', 'an', 'editor', 'for', 'The', 'Huffington', 'Post', 'opined', 'that', 'the', 'boy', 'band', 's', 'prominent', 'presence', 'on', 'both', 'the', 'US', 'and', 'UK', 'versions', 'of', 'The', 'X', 'Factor', 'seemed', 'fitting']\n",
      "['Considering', 'One', 'Direction', 'the', 'franchises', 'biggest', 'success', 'story', 'an', 'editor', 'for', 'The', 'Huffington', 'Post', 'opined', 'that', 'the', 'boy', 'bands', 'prominent', 'presence', 'on', 'both', 'the', 'US', 'and', 'UK', 'versions', 'of', 'The', 'X', 'Factor', 'seemed', 'fitting']\n",
      "['They', 'were', 'modernized', 'in', '1934', '37', 'with', 'improvements', 'to', 'their', 'armour', 'and', 'machinery', 'and', 'a', 'rebuilt', 'superstructure', 'in', 'the', 'pagoda', 'mast', 'style']\n",
      "['They', 'were', 'modernized', 'in', '1934', '37', 'with', 'improvements', 'to', 'their', 'armour', 'and', 'machinery', 'and', 'are', 'built', 'superstructure', 'in', 'the', 'pagoda', 'mast', 'style']\n",
      "['The', 'sisters', 'were', 'then', 'reduced', 'to', 'reserve', 'until', 'they', 'were', 'sunk', 'during', 'American', 'airstrikes', 'in', 'July']\n",
      "['The', 'sisters', 'were', 'then', 'reduced', 'to', 'reserve', 'until', 'they', 'were', 's', 'unk', 'during', 'American', 'airstrikes', 'in', 'July']\n",
      "['Accordingly', 'the', '1907', 'Imperial', 'Defence', 'Policy', 'called', 'for', 'the', 'construction', 'of', 'a', 'battle', 'fleet', 'of', 'eight', 'modern', 'battleships', '20', '000', 'long', 'tons', '20', '321', 't', 'each', 'and', 'eight', 'modern', 'armoured', 'cruisers', '18', '000', 'long', 'tons', '18', 'unk', 't', 'each']\n",
      "['Accordingly', 'the', '1907', 'Imperial', 'Defence', 'Policy', 'called', 'for', 'the', 'construction', 'of', 'a', 'battle', 'fleet', 'of', 'eight', 'modern', 'battleships', '20', '000', 'long', 'tons', '203', '21', 'teach', 'and', 'eight', 'modern', 'armoured', 'cruisers', '18', '000', 'long', 'tons', '18', 'unk', 'teach']\n",
      "['This', 'was', 'the', 'genesis', 'of', 'the', 'Eight', 'Eight', 'Fleet', 'Program', 'the', 'development', 'of', 'a', 'cohesive', 'battle', 'line', 'of', 'sixteen', 'capital', 'ships']\n",
      "['This', 'was', 'the', 'genesis', 'of', 'the', 'Eight', 'Eight', 'Fleet', 'Program', 'the', 'development', 'of', 'a', 'cohesive', 'battleline', 'of', 'sixteen', 'capital', 'ships']\n",
      "['It', 'also', 'decided', 'that', 'the', 'barbette', 'armour', 'of', 'the', 'earlier', 'ships', 'was', 'too', 'thin', 'and', 'wanted', 'a', 'modest', 'increase', 'in', 'speed', 'to', 'partially', 'counter', 'the', 'higher', 'speeds', 'of', 'the', 'latest', 'foreign', 'ships', 'like', 'the', 'British', 'Queen', 'Elizabeth', 'class', 'battleships', 'and', 'Russian', 'unk', 'class', 'battlecruisers']\n",
      "['It', 'also', 'decided', 'that', 'the', 'barbette', 'armour', 'of', 'the', 'earlier', 'ships', 'was', 'tooth', 'in', 'and', 'wanted', 'a', 'modest', 'increase', 'in', 'speed', 'to', 'partially', 'counter', 'the', 'higher', 'speeds', 'of', 'the', 'latest', 'foreign', 'ships', 'like', 'the', 'British', 'Queen', 'Elizabeth', 'class', 'battleships', 'and', 'Russian', 'unk', 'class', 'battlecruisers']\n",
      "['This', 'reduced', 'the', 'crew', 's', 'accommodations', 'despite', 'a', 'significant', 'increase', 'in', 'the', 'crew', 's', 'numbers', 'and', 'naval', 'historian', 'unk', 'unk', 'believed', 'that', 'these', 'ships', 'had', 'the', 'worst', 'unk', 'of', 'any', 'Japanese', 'capital', 'ship']\n",
      "['This', 'reduced', 'the', 'crews', 'accommodations', 'despite', 'a', 'significant', 'increase', 'in', 'the', 'crews', 'numbers', 'and', 'naval', 'historian', 'unk', 'unk', 'believed', 'that', 'these', 'ships', 'had', 'the', 'worst', 'unk', 'of', 'any', 'Japanese', 'capital', 'ship']\n",
      "['18', 'metres', 'unk', 'ft', '0', 'in', 'overall', 'a', 'beam', 'of', '28']\n",
      "['18', 'metres', 'unk', 'ft', '0', 'in', 'overall', 'abeam', 'of', '28']\n",
      "['Their', 'displacement', 'increased', 'over', '5', '000', 'long', 'tons', '5', '100', 't', 'to', '42', '001', 'long', 'tons', '42', 'unk', 't', 'at', 'deep', 'load']\n",
      "['Their', 'displacement', 'increased', 'over', '5000', 'long', 'tons', '5', '100', 't', 'to', '4', '2001', 'long', 'tons', '42', 'unk', 't', 'at', 'deep', 'load']\n",
      "['The', 'unk', 'class', 'ships', 'had', 'two', 'sets', 'of', 'direct', 'drive', 'steam', 'turbines', 'each', 'of', 'which', 'drove', 'two', 'propeller', 'shafts', 'with', '3']\n",
      "['The', 'unk', 'class', 'ships', 'had', 'two', 'sets', 'of', 'direct', 'drives', 'team', 'turbines', 'each', 'of', 'which', 'drove', 'two', 'propeller', 'shafts', 'with', '3']\n",
      "['9', 'kg', 'unk', '1', '275', '1', 'unk', 'unk', '185', '240', 'unk']\n",
      "['9', 'kg', 'unk', '1275', '1', 'unk', 'unk', '1852', '40', 'unk']\n",
      "['Each', 'of', 'the', 'boilers', 'consumed', 'a', 'mixture', 'of', 'coal', 'and', 'oil', 'and', 'the', 'ships', 'had', 'a', 'stowage', 'capacity', 'of', '4', 'unk', 'long', 'tons', '4', 'unk', 't', 'of', 'coal', 'and', '1', 'unk', 'long', 'tons', '1', 'unk', 't', 'of', 'fuel', 'oil', 'which', 'gave', 'them', 'a', 'range', 'of', '9', '680', 'nautical', 'miles', '17', '930', 'km', '11', '140', 'mi', 'at', 'a', 'speed', 'of', '14', 'knots', '26', 'km', 'h', '16', 'mph']\n",
      "['Each', 'of', 'the', 'boilers', 'consumed', 'a', 'mixture', 'of', 'coal', 'and', 'oil', 'and', 'the', 'ships', 'had', 'a', 'stowage', 'capacity', 'of', '4', 'unk', 'long', 'tons', '4', 'unk', 't', 'of', 'coal', 'and', '1', 'unk', 'long', 'tons', '1', 'unk', 't', 'of', 'fuel', 'oil', 'which', 'gave', 'them', 'a', 'range', 'of', '96', '80', 'nautical', 'miles', '1793', '0', 'km', '11', '140', 'mi', 'at', 'a', 'speed', 'of', '14', 'knots', '26', 'km', 'h', '16', 'mph']\n",
      "['On', 'her', 'trials', 'unk', 'reached', 'a', 'top', 'speed', 'of', '25']\n",
      "['On', 'her', 'trials', 'unk', 'reached', 'atop', 'speed', 'of', '25']\n",
      "['The', 'fuel', 'storage', 'of', 'the', 'ships', 'was', 'increased', 'to', 'a', 'total', 'of', '5', '113', 'long', 'tons', '5', '195', 't', 'of', 'fuel', 'oil', 'that', 'gave', 'them', 'a', 'range', 'of', '7', 'unk', 'nautical', 'miles', '14', '580', 'km', '9', '060', 'mi', 'at', 'a', 'speed', 'of', '16', 'knots', '30', 'km', 'h', '18', 'mph']\n",
      "['The', 'fuel', 'storage', 'of', 'the', 'ships', 'was', 'increased', 'to', 'a', 'total', 'of', '51', '13', 'long', 'tons', '51', '95', 't', 'of', 'fuel', 'oil', 'that', 'gave', 'them', 'a', 'range', 'of', '7', 'unk', 'nautical', 'miles', '145', '80', 'km', '90', '60', 'mi', 'at', 'a', 'speed', 'of', '16', 'knots', '30', 'km', 'h', '18', 'mph']\n",
      "['The', 'unk', 'powered', 'turrets', 'had', 'an', 'elevation', 'capability', 'of', '5', '20', 'degrees']\n",
      "['The', 'unk', 'powered', 'turrets', 'had', 'an', 'elevation', 'capability', 'of', '520', 'degrees']\n",
      "['5', '2', 'rounds', 'per', 'minute', 'and', 'could', 'be', 'loaded', 'at', 'any', 'angle', 'between', 'unk', 'and', '20', 'degrees']\n",
      "['52', 'rounds', 'per', 'minute', 'and', 'could', 'be', 'loaded', 'at', 'any', 'angle', 'between', 'unk', 'and', '20', 'degrees']\n",
      "['5', 'kilograms', '1', 'unk', 'lb', 'and', 'was', 'fired', 'at', 'a', 'muzzle', 'velocity', 'of', '770', '775', 'metres', 'per', 'second', '2', 'unk', '2', '540', 'ft', 's']\n",
      "['5', 'kilograms', '1', 'unk', 'lb', 'and', 'was', 'fire', 'data', 'muzzle', 'velocity', 'of', '770', '775', 'metres', 'per', 'second', '2', 'unk', '25', '40', 'ft', 's']\n",
      "['Also', 'available', 'was', 'a', '625', 'kilogram', '1', 'unk', 'lb', 'high', 'explosive', 'shell', 'that', 'had', 'a', 'muzzle', 'velocity', 'of', '805', 'metres', 'per', 'second', '2', '640', 'ft', 's']\n",
      "['Also', 'available', 'was', 'a', '625', 'kilogram', '1', 'unk', 'lb', 'high', 'explosive', 'shell', 'that', 'had', 'a', 'muzzle', 'velocity', 'of', '805', 'metres', 'per', 'second', '26', '40', 'ft', 's']\n",
      "['They', 'had', 'three', 'settings', 'for', 'range', 'and', 'speed', '15', '000', 'metres', '16', '000', 'yd', 'at', '26', 'knots', '48', 'km', 'h', '30', 'mph', '10', '000', 'metres', '11', '000', 'yd', 'at', '32', 'knots', '59', 'km', 'h', '37', 'mph', 'or', '7', '000', 'metres', '7', '700', 'yd', 'at', '37', 'knots', '69', 'km', 'h', '43', 'mph']\n",
      "['They', 'had', 'three', 'settings', 'for', 'range', 'and', 'speed', '15', '000', 'metres', '16', '000', 'yd', 'at', '26', 'knots', '48', 'km', 'h', '30', 'mph', '10', '000', 'metres', '11', '000', 'yd', 'at', '32', 'knots', '59', 'km', 'h', '37', 'mph', 'or', '7000', 'metres', '7', '700', 'yd', 'at', '37', 'knots', '69', 'km', 'h', '43', 'mph']\n",
      "['When', 'firing', 'at', 'surface', 'targets', 'the', 'guns', 'had', 'a', 'range', 'of', '14', '700', 'metres', '16', '100', 'yd', 'they', 'had', 'a', 'ceiling', 'of', '9', '440', 'metres', '30', '970', 'ft', 'at', 'their', 'maximum', 'elevation', 'of', '90', 'degrees']\n",
      "['When', 'firing', 'at', 'surface', 'targets', 'the', 'guns', 'had', 'a', 'range', 'of', '14', '700', 'metres', '16', '100', 'yd', 'they', 'had', 'a', 'ceiling', 'of', '94', '40', 'metres', '30', '970', 'ft', 'at', 'their', 'maximum', 'elevation', 'of', '90', 'degrees']\n",
      "['98', 'in', 'guns', 'had', 'an', 'effective', 'range', 'of', '1', '500', '3', '000', 'metres', '1', '600', '3', '300', 'yd', 'and', 'an', 'effective', 'ceiling', 'of', '5', '500', 'metres', '18', '000', 'ft', 'at', 'an', 'elevation', 'of', '85', 'degrees']\n",
      "['98', 'in', 'guns', 'had', 'an', 'effective', 'range', 'of', '1500', '3000', 'metres', '1600', '3', '300', 'yd', 'and', 'an', 'effective', 'ceiling', 'of', '5', '500', 'metres', '18', '000', 'ft', 'at', 'an', 'elevation', 'of', '85', 'degrees']\n",
      "['While', 'the', 'details', 'of', 'the', 'ship', 's', 'fire', 'control', 'instruments', 'are', 'not', 'fully', 'available', 'it', 'is', 'known', 'that', 'the', 'ships', 'were', 'fitted', 'with', 'a', 'fire', 'control', 'director', 'after', 'completion']\n",
      "['While', 'the', 'details', 'of', 'the', 'ships', 'fire', 'control', 'instruments', 'are', 'not', 'fully', 'available', 'it', 'is', 'known', 'that', 'the', 'ships', 'were', 'fitted', 'with', 'a', 'fire', 'control', 'director', 'after', 'completion']\n",
      "['unk', '2', '3', 'and', '5', 'were', 'built', 'with', 'imported', '6', 'metre', '19', 'ft', '8', 'in', 'unk', 'unk', 'rangefinders']\n",
      "['unk', '23', 'and', '5', 'were', 'built', 'with', 'imported', '6', 'metre', '19', 'ft', '8', 'in', 'unk', 'unk', 'rangefinders']\n",
      "['81', 'metres', '9', 'ft', '3', 'in', 'at', 'full', 'load', 'as', 'a', 'result', 'of', 'the', 'reduction', 'in', 'the', 'displacement', 'by', 'over', '2', '000', 'tonnes', '2', '000', 'long', 'tons', 'to', '40', 'unk', 'tonnes', '39', '805', 'long', 'tons']\n",
      "['81', 'metres', '9', 'ft', '3', 'in', 'at', 'full', 'load', 'as', 'a', 'result', 'of', 'the', 'reduction', 'in', 'the', 'displacement', 'by', 'over', '2000', 'tonnes', '2000', 'long', 'tons', 'to', '40', 'unk', 'tonnes', '39', '805', 'long', 'tons']\n",
      "['unk', 'had', 'an', 'explosion', 'in', 'one', 'of', 'her', 'main', 'gun', 'turrets', 'that', 'killed', '11', 'men', 'and', 'injured', '25', 'in', '1919', 'the', 'following', 'year', 'she', 'accidentally', 'collided', 'with', 'and', 'sank', 'a', 'schooner', 'losing', 'two', 'crewmen']\n",
      "['unk', 'had', 'an', 'explosion', 'in', 'one', 'of', 'her', 'main', 'gun', 'turrets', 'that', 'killed', '11', 'men', 'and', 'injured', '25', 'in', '1919', 'the', 'following', 'years', 'he', 'accidentally', 'collided', 'with', 'and', 'sank', 'a', 'schooner', 'losing', 'two', 'crewmen']\n",
      "['unk', 'hosted', 'Edward', 'Prince', 'of', 'Wales', 'and', 'his', 'aide', 'de', 'camp', 'Lieutenant', 'Louis', 'unk', 'in', '1922', 'during', 'the', 'prince', 's', 'visit', 'to', 'Japan']\n",
      "['unk', 'hosted', 'Edward', 'Prince', 'of', 'Wales', 'and', 'his', 'aide', 'de', 'camp', 'Lieutenant', 'Louis', 'unk', 'in', '1922', 'during', 'the', 'princes', 'visit', 'to', 'Japan']\n",
      "['On', '11', 'May', 'a', 'valve', 'in', 'unk', 's', 'No']\n",
      "['On', '11', 'Maya', 'valve', 'in', 'unk', 's', 'No']\n",
      "['The', 'division', 's', 'unk', 'Naval', 'Air', 'Group', 'was', 'formed', 'that', 'same', 'day', 'and', 'conducted', 'its', 'first', 'catapult', 'launches', 'in', 'late', 'June']\n",
      "['The', 'divisions', 'unk', 'Naval', 'Air', 'Group', 'was', 'formed', 'that', 'same', 'day', 'and', 'conducted', 'its', 'first', 'catapult', 'launches', 'in', 'late', 'June']\n",
      "['The', 'Americans', 'finally', 'spotted', 'the', 'Japanese', 'carriers', 'at', '16', '40', 'some', '200', 'miles', '320', 'km', 'east', 'of', 'Cape', 'unk', 'the', 'northeastern', 'tip', 'of', 'Luzon']\n",
      "['The', 'Americans', 'finally', 'spotted', 'the', 'Japanese', 'carriers', 'at', '1640', 'some', '200', 'miles', '320', 'km', 'east', 'of', 'Cape', 'unk', 'the', 'northeastern', 'tip', 'of', 'Luzon']\n",
      "['The', 'sisters', 'were', 'not', 'heavily', 'engaged', 'by', 'the', 'early', 'airstrikes', 'which', 'are', 'focusing', 'on', 'the', 'group', 's', 'aircraft', 'carriers']\n",
      "['The', 'sisters', 'were', 'not', 'heavily', 'engaged', 'by', 'the', 'early', 'airstrikes', 'which', 'are', 'focusing', 'on', 'the', 'groups', 'aircraft', 'carriers']\n",
      "['While', 'an', 'exact', 'total', 'of', 'her', 'casualties', 'is', 'not', 'available', 'it', 'has', 'been', 'estimated', 'that', '5', 'men', 'were', 'killed', 'and', 'some', '111', '121', 'crewmen', 'were', 'wounded', 'during', 'this', 'attack']\n",
      "['While', 'an', 'exact', 'total', 'of', 'her', 'casualties', 'is', 'not', 'available', 'it', 'has', 'been', 'estimated', 'that', '5', 'men', 'were', 'killed', 'and', 'some', '11', '1121', 'crewmen', 'were', 'wounded', 'during', 'this', 'attack']\n",
      "['unk', 'was', 'unsuccessfully', 'attacked', 'by', 'an', 'American', 'submarine', 'at', '18', '43']\n",
      "['unk', 'was', 'unsuccessfully', 'attacked', 'by', 'an', 'American', 'submarine', 'at', '1843']\n",
      "['Around', '19', '00', 'Ozawa', 'learned', 'about', 'a', 'force', 'of', 'destroyers', 'and', 'cruisers', 'that', 'drove', 'off', 'the', 'Japanese', 'destroyers', 'rescuing', 'survivors', 'from', 'some', 'of', 'the', 'carriers', 'lost', 'earlier', 'in', 'the', 'day', 'and', 'sank', 'unk']\n",
      "['Around', '1900', 'Ozawa', 'learned', 'about', 'a', 'force', 'of', 'destroyers', 'and', 'cruisers', 'that', 'drove', 'off', 'the', 'Japanese', 'destroyers', 'rescuing', 'survivors', 'from', 'some', 'of', 'the', 'carriers', 'lost', 'earlier', 'in', 'the', 'day', 'and', 'sank', 'unk']\n",
      "['Also', 'carrying', 'some', '1', '150', 'unk', 'workers', 'they', 'were', 'escorted', 'by', 'unk', 'and', 'three', 'destroyers']\n",
      "['Also', 'carrying', 'some', '1150', 'unk', 'workers', 'they', 'were', 'escorted', 'by', 'unk', 'and', 'three', 'destroyers']\n",
      "['unk', 'continued', 'to', 'scramble', 'unk', 'signals', 'as', 'unk', 's', 'teammates', 'laughed', 'at', 'his', 'scheme']\n",
      "['unk', 'continued', 'to', 'scramble', 'unk', 'signals', 'as', 'unk', 's', 'teammates', 'laughed', 'a', 'this', 'scheme']\n",
      "['In', 'the', 'January', '1', '1948', 'Rose', 'Bowl', 'that', 'season', 'Michigan', 'rolled', 'to', 'a', '49', '0', 'victory', 'over', 'USC', 'and', 'they', 'unk', 'the', 'Trojans', '491', 'yards', 'to', '133']\n",
      "['In', 'the', 'January', '1', '1948', 'Rose', 'Bowl', 'that', 'season', 'Michigan', 'rolled', 'to', 'a', '490', 'victory', 'over', 'USC', 'and', 'they', 'unk', 'the', 'Trojans', '491', 'yards', 'to', '133']\n",
      "['unk', 'caught', 'a', '29', 'yard', 'pass', 'for', 'the', 'game', 's', 'final', 'score']\n",
      "['unk', 'caught', 'a', '29', 'yard', 'pass', 'for', 'the', 'games', 'final', 'score']\n",
      "['In', 'four', 'seasons', 'with', 'the', 'Michigan', 'Wolverines', 'unk', 'played', 'in', '32', 'games', 'and', 'had', 'over', '1', '000', 'yards', 'of', 'total', 'offense']\n",
      "['In', 'four', 'seasons', 'with', 'the', 'Michigan', 'Wolverines', 'unk', 'played', 'in', '32', 'games', 'and', 'had', 'over', '1000', 'yards', 'of', 'total', 'offense']\n",
      "['This', 'was', 'an', 'early', 'foray', 'into', 'television', 'by', 'the', 'Buffalo', 'Evening', 'News']\n",
      "['This', 'was', 'a', 'nearly', 'foray', 'into', 'television', 'by', 'the', 'Buffalo', 'Evening', 'News']\n",
      "['In', 'the', '1950s', 'unk', 'hosted', 'a', 'popular', 'panel', 'show', 'called', 'Let', 's', 'Talk', 'Sports', 'in', 'Buffalo', 'and', 'also', 'pioneered', 'an', 'early', 'morning', 'exercise', 'program']\n",
      "['In', 'the', '1950s', 'unk', 'hosted', 'a', 'popular', 'panel', 'show', 'called', 'Let', 's', 'Talk', 'Sports', 'in', 'Buffalo', 'and', 'also', 'pioneered', 'a', 'nearly', 'morning', 'exercise', 'program']\n",
      "['He', 'also', 'worked', 'for', 'unk', 'AM', 'and', 'unk', 'FM', 'and', 'as', 'the', 'unk', 'announcer', 'for', 'Buffalo', 'Bills', 'games', 'along', 'with', 'Van', 'Miller', 'the', 'long', 'time', 'Bills', 'play', 'by', 'play', 'announcer']\n",
      "['He', 'also', 'worked', 'for', 'unk', 'AM', 'and', 'unk', 'FM', 'and', 'as', 'the', 'unk', 'announcer', 'for', 'Buffalo', 'Bills', 'games', 'along', 'with', 'Van', 'Miller', 'the', 'longtime', 'Bills', 'play', 'by', 'play', 'announcer']\n",
      "['After', '30', 'years', 'with', 'unk', 'and', 'a', 'change', 'in', 'ownership', 'for', 'the', 'station', 'his', 'show', 'was', 'replaced', 'with', 'the', 'unk', 'Network', 's', 'The', 'Larry', 'King', 'Show']\n",
      "['After', '30', 'years', 'with', 'unk', 'and', 'a', 'change', 'in', 'ownership', 'for', 'the', 'station', 'his', 'show', 'was', 'replaced', 'with', 'the', 'unk', 'Networks', 'The', 'Larry', 'King', 'Show']\n",
      "['In', 'her', 'acceptance', 'speech', 'Jane', 'unk', 'observed', 'that', 'despite', 'all', 'of', 'her', 'late', 'husband', 's', 'achievements', 'there', 'was', 'one', 'thing', 'he', 'had', 'never', 'received', 'He', 'had', 'a', 'great', 'career', 'but', 'he', 'never', 'had', 'a', 'trophy']\n",
      "['In', 'her', 'acceptance', 'speech', 'Jane', 'unk', 'observed', 'that', 'despite', 'all', 'of', 'her', 'late', 'husbands', 'achievements', 'there', 'was', 'one', 'thing', 'he', 'had', 'never', 'received', 'He', 'had', 'a', 'great', 'career', 'but', 'he', 'never', 'had', 'a', 'trophy']\n",
      "['It', 'acquired', 'peak', 'winds', 'of', '140', 'miles', 'per', 'hour', '225', 'km', 'h', 'and', 'passed', 'over', 'portions', 'of', 'the', 'Bahamas', 'on', 'September', '3', 'including', 'unk', 'and', 'Harbour', 'Island', 'causing', 'severe', 'damage', 'to', 'crops', 'buildings', 'and', 'infrastructure']\n",
      "['It', 'acquired', 'peak', 'winds', 'of', '140', 'miles', 'per', 'hour', '225', 'km', 'hand', 'passed', 'over', 'portions', 'of', 'the', 'Bahamas', 'on', 'September', '3', 'including', 'unk', 'and', 'Harbour', 'Island', 'causing', 'severe', 'damage', 'to', 'crops', 'buildings', 'and', 'infrastructure']\n",
      "['98', 'inHg', 'unk', 'mb', 'during', 'a', '40', 'minute', 'period', 'of', 'the', 'eye', 's', 'passage', 'this', 'suggested', 'a', 'landfall', 'strength', 'of', '125', 'mph', '201', 'km', 'h']\n",
      "['98', 'inHg', 'unk', 'mb', 'during', 'a', '40', 'minute', 'period', 'of', 'the', 'eyes', 'passage', 'this', 'suggested', 'a', 'landfall', 'strength', 'of', '125', 'mph', '201', 'km', 'h']\n",
      "['Turning', 'to', 'the', 'north', 'the', 'storm', 'slowly', 'weakened', 'as', 'it', 'crossed', 'into', 'Georgia', 'dissipating', 'on', 'September', '7', 'near', 'Augusta']\n",
      "['Turning', 'to', 'the', 'north', 'the', 'storm', 'slowly', 'weakened', 'as', 'it', 'crossed', 'into', 'Georgia', 'dissipating', 'on', 'September', '7', 'near', 'August', 'a']\n",
      "['About', '2', '500', 'people', 'evacuated', 'by', 'train', 'from', 'areas', 'around', 'Lake', 'Okeechobee']\n",
      "['About', '2500', 'people', 'evacuated', 'by', 'train', 'from', 'areas', 'around', 'Lake', 'Okeechobee']\n",
      "['Winds', 'reached', '110', 'mph', '177', 'km', 'h', 'at', 'Governor', 's', 'Harbour', '100', 'mph', '161', 'km', 'h', 'on', 'unk', 'and', '120', 'mph', '193', 'km', 'h', 'on', 'the', 'unk', 'Islands']\n",
      "['Winds', 'reached', '110', 'mph', '177', 'km', 'hat', 'Governors', 'Harbour', '100', 'mph', '161', 'km', 'h', 'on', 'unk', 'and', '120', 'mph', '193', 'km', 'h', 'on', 'the', 'unk', 'Islands']\n",
      "['Fort', 'Pierce', 'estimated', 'peak', 'winds', 'of', '80', 'to', '90', 'mph', '129', 'to', '145', 'km', 'h', 'and', 'pressures', 'dipped', 'to', '29']\n",
      "['Fort', 'Pierce', 'estimated', 'peak', 'winds', 'of', '80', 'to', '90', 'mph', '129', 'to', '145', 'km', 'hand', 'pressures', 'dipped', 'to', '29']\n",
      "['Winds', 'also', 'tore', 'the', 'roof', 'off', 'an', 'ice', 'plant']\n",
      "['Winds', 'also', 'to', 're', 'the', 'roof', 'off', 'a', 'nice', 'plant']\n",
      "['Of', 'the', '7', '900', 'families', 'adversely', 'affected', 'by', 'the', 'hurricane', '4', '325', 'required', 'assistance', 'from', 'the', 'American', 'Red', 'Cross']\n",
      "['Of', 'the', '7', '900', 'families', 'adversely', 'affected', 'by', 'the', 'hurricane', '43', '25', 'required', 'assistance', 'from', 'the', 'American', 'Red', 'Cross']\n",
      "['It', 'was', 'a', 'part', 'of', 'the', 'Battle', 'of', 'Pusan', 'Perimeter', 'and', 'was', 'one', 'of', 'several', 'large', 'engagements', 'fought', 'simultaneously']\n",
      "['It', 'was', 'apart', 'of', 'the', 'Battle', 'of', 'Pusan', 'Perimeter', 'and', 'was', 'one', 'of', 'several', 'large', 'engagements', 'fought', 'simultaneously']\n",
      "['The', 'division', 'which', 'was', 'unk', 'in', 'combat', 'was', 'struck', 'with', 'a', 'strong', 'attack', 'by', 'several', 'divisions', 'of', 'the', 'Korean', 'People', 's', 'Army', 'which', 'crossed', 'the', 'river', 'and', 'struck', 'all', 'along', 'the', 'division', 's', 'line']\n",
      "['The', 'division', 'which', 'was', 'unk', 'in', 'combat', 'was', 'struck', 'with', 'a', 'strong', 'attack', 'by', 'several', 'divisions', 'of', 'the', 'Korean', 'Peoples', 'Army', 'which', 'crossed', 'the', 'river', 'and', 'struck', 'all', 'along', 'the', 'divisions', 'line']\n",
      "['The', 'urgency', 'of', 'the', 'threat', 'to', 'Pusan', 'Perimeter', 'prompted', 'the', 'US', 'Marine', 'Corps', '1st', 'Provisional', 'Marine', 'Brigade', 'to', 'be', 'brought', 'in', 'to', 'reinforce', 'the', 'US', 'Army', 'troops']\n",
      "['The', 'urgency', 'of', 'the', 'threat', 'to', 'Pusan', 'Perimeter', 'prompted', 'the', 'US', 'Marine', 'Corps', '1st', 'Provisional', 'Marine', 'Brigade', 'to', 'be', 'brought', 'into', 'reinforce', 'the', 'US', 'Army', 'troops']\n",
      "['From', 'the', 'outbreak', 'of', 'the', 'Korean', 'War', 'and', 'the', 'invasion', 'of', 'South', 'Korea', 'by', 'the', 'North', 'the', 'North', 'Korean', 'People', 's', 'Army', 'had', 'enjoyed', 'superiority', 'in', 'both', 'manpower', 'and', 'equipment', 'over', 'both', 'the', 'Republic', 'of', 'Korea', 'Army', 'and', 'the', 'United', 'Nations', 'forces', 'dispatched', 'to', 'South', 'Korea', 'to', 'prevent', 'it', 'from', 'collapsing']\n",
      "['From', 'the', 'outbreak', 'of', 'the', 'Korean', 'War', 'and', 'the', 'invasion', 'of', 'South', 'Korea', 'by', 'the', 'North', 'the', 'North', 'Korean', 'Peoples', 'Army', 'had', 'enjoyed', 'superiority', 'in', 'both', 'manpower', 'and', 'equipment', 'over', 'both', 'the', 'Republic', 'of', 'Korea', 'Army', 'and', 'the', 'United', 'Nations', 'forces', 'dispatched', 'to', 'South', 'Korea', 'to', 'prevent', 'it', 'from', 'collapsing']\n",
      "['In', 'the', 'First', 'Battle', 'of', 'unk', 'unk', 'the', 'North', 'Korean', 'division', 'was', 'unable', 'to', 'hold', 'its', 'bridgehead', 'across', 'the', 'river', 'as', 'large', 'numbers', 'of', 'US', 'reserve', 'forces', 'were', 'brought', 'in', 'to', 'repel', 'it', 'and', 'on', 'August', '19', 'the', 'unk', '4th', 'Division', 'was', 'forced', 'back', 'across', 'the', 'river', 'with', '50', 'percent', 'casualties']\n",
      "['In', 'the', 'First', 'Battle', 'of', 'unk', 'unk', 'the', 'North', 'Korean', 'division', 'was', 'unable', 'to', 'hold', 'its', 'bridgehead', 'across', 'the', 'river', 'as', 'large', 'numbers', 'of', 'US', 'reserve', 'forces', 'were', 'brought', 'into', 'repel', 'it', 'and', 'on', 'August', '19', 'the', 'unk', '4th', 'Division', 'was', 'forced', 'back', 'across', 'the', 'river', 'with', '50', 'percent', 'casualties']\n",
      "['These', 'attacks', 'would', 'overwhelm', 'the', 'UN', 'defenders', 'and', 'allow', 'the', 'North', 'Koreans', 'to', 'break', 'through', 'the', 'lines', 'in', 'at', 'least', 'one', 'place', 'to', 'force', 'the', 'UN', 'forces', 'back']\n",
      "['These', 'attacks', 'would', 'overwhelm', 'the', 'UN', 'defenders', 'and', 'allow', 'the', 'North', 'Koreans', 'to', 'breakthrough', 'the', 'lines', 'in', 'at', 'least', 'one', 'place', 'to', 'force', 'the', 'UN', 'forces', 'back']\n",
      "['The', 'center', 'attack', 'called', 'for', 'the', 'unk', '9th', 'Division', 'unk', '4th', 'Division', 'unk', '2nd', 'Division', 'and', 'unk', '10th', 'Division', 'break', 'through', 'the', 'US', '2nd', 'Infantry', 'Division', 'at', 'the', 'unk', 'unk', 'to', 'unk', 'and', 'unk']\n",
      "['The', 'center', 'attack', 'called', 'for', 'the', 'unk', '9th', 'Division', 'unk', '4th', 'Division', 'unk', '2nd', 'Division', 'and', 'unk', '10th', 'Division', 'breakthrough', 'the', 'US', '2nd', 'Infantry', 'Division', 'at', 'the', 'unk', 'unk', 'to', 'unk', 'and', 'unk']\n",
      "['During', 'the', 'North', 'Koreans', 'September', '1', 'offensive', 'the', 'US', '25th', 'Infantry', 'Division', 's', 'US', '35th', 'Infantry', 'Regiment', 'was', 'heavily', 'engaged', 'in', 'the', 'Battle', 'of', 'unk', 'River', 'north', 'of', 'unk']\n",
      "['During', 'the', 'North', 'Koreans', 'September', '1', 'offensive', 'the', 'US', '25th', 'Infantry', 'Divisions', 'US', '35th', 'Infantry', 'Regiment', 'was', 'heavily', 'engaged', 'in', 'the', 'Battle', 'of', 'unk', 'River', 'north', 'of', 'unk']\n",
      "['On', 'the', '35th', 'Regiment', 's', 'right', 'flank', 'just', 'north', 'of', 'the', 'confluence', 'of', 'the', 'unk', 'River', 'and', 'the', 'unk', 'River', 'was', 'the', 'US', '9th', 'Infantry', 'Regiment', 'US', '2nd', 'Infantry', 'Division']\n",
      "['On', 'the', '35th', 'Regiments', 'right', 'flank', 'just', 'north', 'of', 'the', 'confluence', 'of', 'the', 'unk', 'River', 'and', 'the', 'unk', 'River', 'was', 'the', 'US', '9th', 'Infantry', 'Regiment', 'US', '2nd', 'Infantry', 'Division']\n",
      "['Each', 'US', 'infantry', 'company', 'on', 'the', 'river', 'line', 'here', 'had', 'a', 'front', 'of', '3', '000', 'feet', '910', 'm', 'to', '4', '000', 'feet', '1', '200', 'm', 'and', 'they', 'held', 'only', 'key', 'hills', 'and', 'observation', 'points', 'as', 'the', 'units', 'were', 'extremely', 'spread', 'out', 'along', 'the', 'wide', 'front']\n",
      "['Each', 'US', 'infantry', 'company', 'on', 'the', 'river', 'line', 'here', 'had', 'a', 'front', 'of', '3000', 'feet', '910', 'm', 'to', '4000', 'feet', '1200', 'm', 'and', 'they', 'held', 'only', 'key', 'hills', 'and', 'observation', 'points', 'as', 'the', 'units', 'were', 'extremely', 'spread', 'out', 'along', 'the', 'wide', 'front']\n",
      "['Its', 'mission', 'in', 'the', 'forthcoming', 'attack', 'was', 'to', 'outflank', 'and', 'destroy', 'the', 'US', 'troops', 'at', 'unk', 'unk', 'by', 'capturing', 'the', 'unk', 'and', 'unk', 'areas', 'to', 'cut', 'off', 'the', 'US', '2nd', 'Division', 's', 'route', 'of', 'supply', 'and', 'withdrawal', 'between', 'unk', 'and', 'Pusan']\n",
      "['Its', 'mission', 'in', 'the', 'forthcoming', 'attack', 'was', 'to', 'outflank', 'and', 'destroy', 'the', 'US', 'troops', 'at', 'unk', 'unk', 'by', 'capturing', 'the', 'unk', 'and', 'unk', 'areas', 'to', 'cut', 'off', 'the', 'US', '2nd', 'Divisions', 'route', 'of', 'supply', 'and', 'withdrawal', 'between', 'unk', 'and', 'Pusan']\n",
      "['However', 'the', 'North', 'Koreans', 'weren', 't', 'aware', 'that', 'the', 'US', '2nd', 'Infantry', 'Division', 'had', 'recently', 'replaced', 'the', 'US', '24th', 'Infantry', 'Division', 'in', 'positions', 'along', 'the', 'unk', 'River']\n",
      "['However', 'the', 'North', 'Koreans', 'we', 'rent', 'aware', 'that', 'the', 'US', '2nd', 'Infantry', 'Division', 'had', 'recently', 'replaced', 'the', 'US', '24th', 'Infantry', 'Division', 'in', 'positions', 'along', 'the', 'unk', 'River']\n",
      "['The', 'North', 'Koreans', 'began', 'crossing', 'the', 'unk', 'River', 'under', 'cover', 'of', 'darkness', 'at', 'certain', 'points']\n",
      "['The', 'North', 'Koreans', 'began', 'crossing', 'the', 'unk', 'River', 'undercover', 'of', 'darkness', 'at', 'certain', 'points']\n",
      "['On', 'the', 'southern', 'most', 'flank', 'of', 'the', '9th', 'Infantry', 'river', 'line', 'just', 'above', 'the', 'junction', 'of', 'the', 'unk', 'River', 'with', 'the', 'unk', 'A', 'Company', 'of', 'the', '1st', 'Battalion', 'was', 'dug', 'in', 'on', 'a', 'long', 'finger', 'ridge', 'unk', 'the', 'unk', 'that', 'terminates', 'in', 'Hill', '94', 'at', 'the', 'unk', 'ferry', 'site']\n",
      "['On', 'the', 'southernmost', 'flank', 'of', 'the', '9th', 'Infantry', 'river', 'line', 'just', 'above', 'the', 'junction', 'of', 'the', 'unk', 'River', 'with', 'the', 'unk', 'A', 'Company', 'of', 'the', '1st', 'Battalion', 'was', 'dug', 'in', 'on', 'along', 'finger', 'ridge', 'unk', 'the', 'unk', 'that', 'terminates', 'in', 'Hill', '94', 'at', 'the', 'unk', 'ferry', 'site']\n",
      "['At', '20', '00', 'a', 'heavy', 'fog', 'covered', 'the', 'river', 'and', 'at', '22', '00', 'mortar', 'shells', 'began', 'falling', 'on', 'the', 'American', 'held', 'side', 'of', 'the', 'river']\n",
      "['At', '2000', 'a', 'heavy', 'fog', 'covered', 'the', 'river', 'and', 'at', '2', '200', 'mortar', 'shells', 'began', 'falling', 'on', 'the', 'American', 'held', 'side', 'of', 'the', 'river']\n",
      "['unk', 's', 'four', 'vehicles', 'attacked', 'this', 'structure', 'and', 'after', 'about', 'a', 'minute', 'of', 'heavy', 'fire', 'the', 'bridge', 'collapsed', 'and', 'the', 'unk', 'boats', 'used', 'to', 'hold', 'the', 'bridge', 'in', 'place', 'were', 'sunk']\n",
      "['unk', 's', 'four', 'vehicles', 'attacked', 'this', 'structure', 'and', 'after', 'about', 'a', 'minute', 'of', 'heavy', 'fire', 'the', 'bridge', 'collapsed', 'and', 'the', 'unk', 'boats', 'used', 'to', 'hold', 'the', 'bridge', 'in', 'place', 'were', 's', 'unk']\n",
      "['At', '23', '00', 'a', 'small', 'arms', 'fight', 'flared', 'around', 'the', 'left', 'side', 'of', 'A', 'Company', 'north', 'of', 'the', 'tanks']\n",
      "['At', '2300', 'a', 'small', 'arms', 'fight', 'flared', 'around', 'the', 'left', 'side', 'of', 'A', 'Company', 'north', 'of', 'the', 'tanks']\n",
      "['The', 'unk', '9th', 'Division', 's', 'infantry', 'crossing', 'of', 'the', 'unk', 'and', 'attack', 'on', 'its', 'east', 'side', 'near', 'midnight', 'quickly', 'overran', 'the', 'positions', 'of', 'C', 'Company', 'north', 'of', 'A', 'Company']\n",
      "['The', 'unk', '9th', 'Divisions', 'infantry', 'crossing', 'of', 'the', 'unk', 'and', 'attack', 'on', 'its', 'east', 'side', 'near', 'midnight', 'quickly', 'overran', 'the', 'positions', 'of', 'C', 'Company', 'north', 'of', 'A', 'Company']\n",
      "['2', 'inch', 'mortar', 'platoon', 'to', 'its', 'position', 'at', 'the', 'base', 'of', 'Hill', 'unk', 'where', 'the', 'unk', 'prepared', 'to', 'set', 'up', 'their', 'weapons']\n",
      "['2', 'inch', 'mortar', 'platoon', 'to', 'its', 'position', 'at', 'the', 'base', 'of', 'Hill', 'unk', 'where', 'the', 'unk', 'prepared', 'to', 'setup', 'their', 'weapons']\n",
      "['By', '21', '00', 'the', 'closest', 'front', 'line', 'unit', 'was', 'B', 'Company', 'on', 'top', 'of', 'Hill', 'unk', '1', 'mile', '1']\n",
      "['By', '2100', 'the', 'closest', 'front', 'line', 'unit', 'was', 'B', 'Company', 'on', 'top', 'of', 'Hill', 'unk', '1', 'mile', '1']\n",
      "['6', 'km', 'north', 'of', 'the', 'river', 'road', 'which', 'curved', 'around', 'the', 'hill', 's', 'southern', 'base']\n",
      "['6', 'km', 'north', 'of', 'the', 'river', 'road', 'which', 'curved', 'around', 'the', 'hills', 'southern', 'base']\n",
      "['They', 'soon', 'discovered', 'a', 'long', 'line', 'of', 'North', 'Korean', 'soldiers', 'wading', 'the', 'river']\n",
      "['They', 'soon', 'discovered', 'along', 'line', 'of', 'North', 'Korean', 'soldiers', 'wading', 'the', 'river']\n",
      "['At', '02', '00', 'B', 'Company', 'was', 'attacked']\n",
      "['At', '0', '200', 'B', 'Company', 'was', 'attacked']\n",
      "['But', 'higher', 'up', 'on', 'Hill', 'unk', 'the', 'North', 'Koreans', 'drove', 'B', 'Company', 'from', 'its', 'position', 'inflicting', 'very', 'heavy', 'casualties', 'on', 'it']\n",
      "['But', 'higher', 'upon', 'Hill', 'unk', 'the', 'North', 'Koreans', 'drove', 'B', 'Company', 'from', 'its', 'position', 'inflicting', 'very', 'heavy', 'casualties', 'on', 'it']\n",
      "['At', '03', '00', '1', 'September', 'the', '9th', 'Infantry', 'Regiment', 'ordered', 'its', 'only', 'reserve', 'E', 'Company', 'to', 'move', 'west', 'along', 'the', 'unk', 'unk', 'River', 'road', 'and', 'take', 'a', 'blocking', 'position', 'at', 'the', 'pass', 'between', 'unk', 'Hill', 'and', 'unk', 'unk', 'Ridge', '3', 'miles', '4']\n",
      "['At', '0300', '1', 'September', 'the', '9th', 'Infantry', 'Regiment', 'ordered', 'its', 'only', 'reserve', 'E', 'Company', 'to', 'move', 'west', 'along', 'the', 'unk', 'unk', 'River', 'road', 'and', 'take', 'a', 'blocking', 'position', 'at', 'the', 'pass', 'between', 'unk', 'Hill', 'and', 'unk', 'unk', 'Ridge', '3', 'miles', '4']\n",
      "['Fighting', 'began', 'at', 'the', 'pass', 'at', '02', '30', 'when', 'an', 'American', 'medium', 'tank', 'of', 'A', 'Company', '72nd', 'Tank', 'Battalion', 'knocked', 'out', 'a', 'T', '34', 'at', 'unk', 'also', 'called', 'unk']\n",
      "['Fighting', 'began', 'at', 'the', 'pass', 'at', '0', '230', 'when', 'an', 'American', 'medium', 'tank', 'of', 'A', 'Company', '72nd', 'Tank', 'Battalion', 'knocked', 'out', 'a', 'T', '34', 'at', 'unk', 'also', 'called', 'unk']\n",
      "['A', 'northern', 'secondary', 'road', 'curved', 'around', 'unk', 'and', 'lakes', 'the', 'largest', 'of', 'which', 'was', 'Lake', 'U', 'p', 'unk', 'to', 'unk']\n",
      "['A', 'northern', 'secondary', 'road', 'curved', 'around', 'unk', 'and', 'lakes', 'the', 'largest', 'of', 'which', 'was', 'Lake', 'Up', 'unk', 'to', 'unk']\n",
      "['The', 'artillery', 'forward', 'observer', 'who', 'estimated', 'the', 'column', 'at', '2', '000', 'people', 'thought', 'they', 'were', 'refugees']\n",
      "['The', 'artillery', 'forward', 'observer', 'who', 'estimated', 'the', 'column', 'at', '2000', 'people', 'thought', 'they', 'were', 'refugees']\n",
      "['At', '21', '00', 'the', 'first', 'shells', 'of', 'what', 'proved', 'to', 'be', 'a', 'two', 'hour', 'North', 'Korean', 'artillery', 'and', 'mortar', 'preparation', 'against', 'the', 'American', 'river', 'positions', 'of', '2nd', 'Platoon']\n",
      "['At', '2100', 'the', 'first', 'shells', 'of', 'what', 'proved', 'to', 'be', 'a', 'two', 'hour', 'North', 'Korean', 'artillery', 'and', 'mortar', 'preparation', 'against', 'the', 'American', 'river', 'positions', 'of', '2nd', 'Platoon']\n",
      "['As', 'the', 'barrage', 'rolled', 'on', 'North', 'Korean', 'infantry', 'crossed', 'the', 'river', 'and', 'climbed', 'the', 'hills', 'in', 'the', 'darkness', 'under', 'cover', 'of', 'its', 'fire']\n",
      "['As', 'the', 'barrage', 'rolled', 'on', 'North', 'Korean', 'infantry', 'crossed', 'the', 'river', 'and', 'climbed', 'the', 'hills', 'in', 'the', 'darkness', 'undercover', 'of', 'its', 'fire']\n",
      "['At', '23', '00', 'the', 'barrage', 'lifted', 'and', 'the', 'North', 'Koreans', 'attacked', '2nd', 'Platoon', 'forcing', 'it', 'from', 'the', 'hill', 'after', 'a', 'short', 'fight']\n",
      "['At', '2300', 'the', 'barrage', 'lifted', 'and', 'the', 'North', 'Koreans', 'attacked', '2nd', 'Platoon', 'forcing', 'it', 'from', 'the', 'hill', 'after', 'a', 'short', 'fight']\n",
      "['As', 'the', 'North', 'Korean', 'attack', 'developed', 'during', 'the', 'night', '1st', 'Battalion', 'succeeded', 'in', 'withdrawing', 'a', 'large', 'part', 'of', 'its', 'force', 'less', 'C', 'Company', 'just', 'north', 'of', 'Lake', 'U', 'p', 'unk', 'and', 'the', 'hills', 'there', 'covering', 'the', 'northern', 'road', 'into', 'unk', '3', 'miles', '4']\n",
      "['As', 'the', 'North', 'Korean', 'attack', 'developed', 'during', 'the', 'night', '1st', 'Battalion', 'succeeded', 'in', 'withdrawing', 'a', 'large', 'part', 'of', 'its', 'force', 'less', 'C', 'Company', 'just', 'north', 'of', 'Lake', 'Up', 'unk', 'and', 'the', 'hills', 'the', 'recovering', 'the', 'northern', 'road', 'into', 'unk', '3', 'miles', '4']\n",
      "['The', 'US', '2nd', 'Division', 'released', 'E', 'Company', 'to', 'the', 'regiment', 'and', 'the', 'next', 'day', 'it', 'joined', 'F', 'Company', 'to', 'build', 'up', 'what', 'became', 'the', 'main', 'defensive', 'position', 'of', 'the', 'unk', 'Regiment', 'in', 'front', 'of', 'unk']\n",
      "['The', 'US', '2nd', 'Division', 'released', 'E', 'Company', 'to', 'the', 'regiment', 'and', 'the', 'next', 'day', 'it', 'joined', 'F', 'Company', 'to', 'buildup', 'what', 'became', 'the', 'main', 'defensive', 'position', 'of', 'the', 'unk', 'Regiment', 'in', 'front', 'of', 'unk']\n",
      "['North', 'Korean', 'troops', 'during', 'the', 'night', 'passed', 'around', 'the', 'right', 'flank', 'of', '1st', 'Battalion', 's', 'northern', 'blocking', 'position', 'and', 'reached', 'the', 'road', 'three', 'miles', 'behind', 'him', 'near', 'the', 'division', 'artillery', 'positions']\n",
      "['North', 'Korean', 'troops', 'during', 'the', 'night', 'passed', 'around', 'the', 'right', 'flank', 'of', '1st', 'Battalions', 'northern', 'blocking', 'position', 'and', 'reached', 'the', 'road', 'three', 'miles', 'behind', 'him', 'near', 'the', 'division', 'artillery', 'positions']\n",
      "['Before', 'the', 'morning', 'of', '1', 'September', 'had', 'passed', 'reports', 'coming', 'in', 'to', 'US', '2nd', 'Division', 'headquarters', 'made', 'it', 'clear', 'that', 'North', 'Koreans', 'had', 'penetrated', 'to', 'the', 'north', 'south', 'unk', 'unk', 'road', 'and', 'cut', 'the', 'division', 'in', 'two', 'the', '38th', 'and', 'unk', 'Infantry', 'Regiments', 'with', 'the', 'bulk', 'of', 'the', 'division', 'artillery', 'in', 'the', 'north', 'were', 'separated', 'from', 'the', 'division', 'headquarters', 'and', 'the', '9th', 'Infantry', 'Regiment', 'in', 'the', 'south']\n",
      "['Before', 'the', 'morning', 'of', '1', 'September', 'had', 'passed', 'reports', 'coming', 'into', 'US', '2nd', 'Division', 'headquarters', 'made', 'it', 'clear', 'that', 'North', 'Koreans', 'had', 'penetrated', 'to', 'the', 'north', 'south', 'unk', 'unk', 'road', 'and', 'cut', 'the', 'division', 'in', 'two', 'the', '38th', 'and', 'unk', 'Infantry', 'Regiments', 'with', 'the', 'bulk', 'of', 'the', 'division', 'artillery', 'in', 'the', 'north', 'were', 'separated', 'from', 'the', 'division', 'headquarters', 'and', 'the', '9th', 'Infantry', 'Regiment', 'in', 'the', 'south']\n",
      "['The', 'unk', '2nd', 'Division', 'concentrated', 'in', 'the', 'unk', 'unk', 'area', 'west', 'of', 'the', 'river', 'had', 'in', 'effect', 'attacked', 'straight', 'east', 'across', 'the', 'river', 'and', 'was', 'trying', 'to', 'seize', 'the', 'two', 'avenues', 'of', 'advance', 'into', 'unk', 'above', 'and', 'below', 'Lake', 'U', 'p', 'unk']\n",
      "['The', 'unk', '2nd', 'Division', 'concentrated', 'in', 'the', 'unk', 'unk', 'area', 'west', 'of', 'the', 'river', 'had', 'in', 'effect', 'attacked', 'straight', 'east', 'across', 'the', 'river', 'and', 'was', 'trying', 'to', 'seize', 'the', 'two', 'avenues', 'of', 'advance', 'into', 'unk', 'above', 'and', 'below', 'Lake', 'Up', 'unk']\n",
      "['On', 'August', '31', '1950', 'Lake', 'U', 'p', 'unk', 'was', 'a', 'large', 'body', 'of', 'water', 'although', 'in', 'most', 'places', 'very', 'shallow']\n",
      "['On', 'August', '31', '1950', 'Lake', 'Up', 'unk', 'was', 'a', 'large', 'body', 'of', 'water', 'although', 'in', 'most', 'places', 'very', 'shallow']\n",
      "['At', '09', '00', 'Walker', 'requested', 'the', 'US', 'Air', 'Force', 'to', 'make', 'a', 'maximum', 'effort', 'along', 'the', 'unk', 'River', 'from', 'unk', 'dong', 'just', 'above', 'the', 'US', '2nd', 'Division', 'boundary', 'southward', 'and', 'to', 'a', 'depth', 'of', '15', 'miles', '24', 'km', 'west', 'of', 'the', 'river']\n",
      "['At', '0', '900', 'Walker', 'requested', 'the', 'US', 'Air', 'Force', 'to', 'make', 'a', 'maximum', 'effort', 'along', 'the', 'unk', 'River', 'from', 'unk', 'dong', 'just', 'above', 'the', 'US', '2nd', 'Division', 'boundary', 'southward', 'and', 'to', 'a', 'depth', 'of', '15', 'miles', '24', 'km', 'west', 'of', 'the', 'river']\n",
      "['Walker', 'came', 'to', 'the', 'US', '2nd', 'Division', 'front', 'at', '12', '00', 'and', 'ordered', 'the', 'division', 'to', 'hold', 'at', 'all', 'costs']\n",
      "['Walker', 'came', 'to', 'the', 'US', '2nd', 'Division', 'front', 'at', '1200', 'and', 'ordered', 'the', 'division', 'to', 'hold', 'at', 'all', 'costs']\n",
      "['7', 'km', 'northeast', 'of', 'unk', 'preparing', 'for', 'movement', 'to', 'the', 'port', 'of', 'Pusan', 'the', 'US', '27th', 'Infantry', 'Regiment', 'of', 'the', '25th', 'Division', 'which', 'had', 'arrived', 'at', 'unk', 'only', 'the', 'night', 'before', 'at', '20', '30', 'to', 'relieve', 'the', '5th', 'Regimental', 'Combat', 'Team', 'which', 'was', 'then', 'to', 'join', 'the', '24th', 'Division', 'in', 'the', 'unk', 'area', 'and', 'the', 'US', '19th', 'Infantry', 'Regiment', 'of', 'the', 'US', '24th', 'Infantry', 'Division', 'then', 'with', 'that', 'division', 's', 'headquarters', 'at', 'unk', 'southeast', 'of', 'unk']\n",
      "['7', 'km', 'northeast', 'of', 'unk', 'preparing', 'for', 'movement', 'to', 'the', 'port', 'of', 'Pusan', 'the', 'US', '27th', 'Infantry', 'Regiment', 'of', 'the', '25th', 'Division', 'which', 'had', 'arrived', 'at', 'unk', 'only', 'the', 'night', 'before', 'at', '20', '30', 'to', 'relieve', 'the', '5th', 'Regimental', 'Combat', 'Team', 'which', 'was', 'then', 'to', 'join', 'the', '24th', 'Division', 'in', 'the', 'unk', 'area', 'and', 'the', 'US', '19th', 'Infantry', 'Regiment', 'of', 'the', 'US', '24th', 'Infantry', 'Division', 'then', 'with', 'that', 'divisions', 'headquarters', 'at', 'unk', 'southeast', 'of', 'unk']\n",
      "['Walker', 'alerted', 'both', 'the', '24th', 'Division', 'headquarters', 'together', 'with', 'its', '19th', 'Regiment', 'and', 'the', '1st', 'Provisional', 'Marine', 'Brigade', 'to', 'move', 'at', 'a', 'moment', 's', 'notice', 'the', '24th', 'Division', 'either', 'to', 'the', '2nd', 'or', '25th', 'Division', 'fronts', 'and', 'the', 'marines', 'to', 'an', 'unk', 'destination']\n",
      "['Walker', 'alerted', 'both', 'the', '24th', 'Division', 'headquarters', 'together', 'with', 'its', '19th', 'Regiment', 'and', 'the', '1st', 'Provisional', 'Marine', 'Brigade', 'to', 'move', 'at', 'a', 'moments', 'notice', 'the', '24th', 'Division', 'either', 'to', 'the', '2nd', 'or', '25th', 'Division', 'fronts', 'and', 'the', 'marines', 'to', 'an', 'unk', 'destination']\n",
      "['At', '11', '00', 'Walker', 'ordered', 'US', 'Marine', 'Corps', 'Brigadier', 'General', 'Edward', 'A']\n",
      "['At', '1100', 'Walker', 'ordered', 'US', 'Marine', 'Corps', 'Brigadier', 'General', 'Edward', 'A']\n",
      "['The', 'marines', 'made', 'ready', 'to', 'depart', 'for', 'the', 'unk', 'unk', 'at', '13', '30']\n",
      "['The', 'marines', 'made', 'ready', 'to', 'depart', 'for', 'the', 'unk', 'unk', 'at', '1330']\n",
      "['From', 'a', 'hill', 'at', '12', '00', 'after', 'the', 'fog', 'had', 'lifted', 'the', 'men', 'looked', 'down', 'on', 'the', 'Battle', 'of', 'unk', 'which', 'was', 'then', 'in', 'progress']\n",
      "['From', 'a', 'hill', 'at', '1200', 'after', 'the', 'fog', 'had', 'lifted', 'the', 'men', 'looked', 'down', 'on', 'the', 'Battle', 'of', 'unk', 'which', 'was', 'then', 'in', 'progress']\n"
     ]
    },
    {
     "data": {
      "text/plain": [
       "(862, 1000)"
      ]
     },
     "execution_count": 84,
     "metadata": {},
     "output_type": "execute_result"
    }
   ],
   "source": [
    "test_model(tests[:1000], unigramProb)"
   ]
  },
  {
   "cell_type": "code",
   "execution_count": 85,
   "metadata": {},
   "outputs": [
    {
     "name": "stdout",
     "output_type": "stream",
     "text": [
      "['unk', 'you', 'know', 'what', 'you', 're', 'talking', 'about', 'when', 'you', 'don', 't', 'is', 'very', 'bizarre', 'but', 'there', 'are', 'advisers', 'on', 'set', 'who', 'are', 'fantastic', 'at', 'taking', 'you', 'through', 'procedures', 'and', 'giving', 'you', 'the', 'confidence', 'to', 'stand', 'there', 'and', 'look', 'like', 'you', 'know', 'what', 'you', 're', 'doing']\n",
      "['unk', 'you', 'know', 'what', 'you', 're', 'talking', 'about', 'when', 'you', 'don', 'tis', 'very', 'bizarre', 'but', 'there', 'are', 'advisers', 'onset', 'who', 'are', 'fantastic', 'at', 'taking', 'you', 'through', 'procedures', 'and', 'giving', 'you', 'the', 'confidence', 'to', 'stand', 'there', 'and', 'look', 'like', 'you', 'know', 'what', 'you', 're', 'doing']\n",
      "['Stephen', 'Owen', 'suggests', 'a', 'third', 'factor', 'particular', 'to', 'Du', 'Fu', 'arguing', 'that', 'the', 'variety', 'of', 'the', 'poet', 's', 'work', 'required', 'consideration', 'of', 'his', 'whole', 'life', 'rather', 'than', 'the', 'unk', 'unk', 'used', 'for', 'more', 'limited', 'poets']\n",
      "['Stephen', 'Owen', 'suggests', 'a', 'third', 'factor', 'particular', 'to', 'Du', 'Fu', 'arguing', 'that', 'the', 'variety', 'of', 'the', 'poets', 'work', 'required', 'consideration', 'of', 'his', 'whole', 'life', 'rather', 'than', 'the', 'unk', 'unk', 'used', 'for', 'more', 'limited', 'poets']\n",
      "['Du', 'Fu', 'would', 'have', 'been', 'allowed', 'to', 'enter', 'the', 'civil', 'service', 'because', 'of', 'his', 'father', 's', 'rank', 'but', 'he', 'is', 'thought', 'to', 'have', 'given', 'up', 'the', 'privilege', 'in', 'favour', 'of', 'one', 'of', 'his', 'half', 'brothers']\n",
      "['Du', 'Fu', 'would', 'have', 'been', 'allowed', 'to', 'enter', 'the', 'civil', 'service', 'because', 'of', 'his', 'fathers', 'rank', 'but', 'he', 'is', 'thought', 'to', 'have', 'given', 'up', 'the', 'privilege', 'in', 'favour', 'of', 'one', 'of', 'his', 'half', 'brothers']\n",
      "['Like', 'many', 'other', 'poems', 'in', 'the', 'Tang', 'it', 'featured', 'the', 'theme', 'of', 'a', 'long', 'parting', 'between', 'friends', 'which', 'was', 'often', 'due', 'to', 'officials', 'being', 'frequently', 'transferred', 'to', 'the', 'provinces']\n",
      "['Like', 'many', 'other', 'poems', 'in', 'the', 'Tang', 'it', 'featured', 'the', 'theme', 'of', 'along', 'parting', 'between', 'friends', 'which', 'was', 'often', 'due', 'to', 'officials', 'being', 'frequently', 'transferred', 'to', 'the', 'provinces']\n",
      "['Du', 'Fu', 's', 'political', 'comments', 'are', 'based', 'on', 'emotion', 'rather', 'than', 'calculation', 'his', 'unk', 'have', 'been', 'unk', 'as', 'Let', 'us', 'all', 'be', 'less', 'selfish', 'let', 'us', 'all', 'do', 'what', 'we', 'are', 'supposed', 'to', 'do']\n",
      "['Du', 'Fu', 's', 'political', 'comments', 'are', 'based', 'one', 'motion', 'rather', 'than', 'calculation', 'his', 'unk', 'have', 'been', 'unk', 'as', 'Let', 'us', 'all', 'be', 'less', 'selfish', 'let', 'us', 'all', 'do', 'what', 'we', 'are', 'supposed', 'to', 'do']\n",
      "['A', 'second', 'favourite', 'epithet', 'of', 'Chinese', 'critics', 'is', 'that', 'of', 'poet', 'sage', 'unk', 'unk', 'unk', 'a', 'counterpart', 'to', 'the', 'philosophical', 'sage', 'unk']\n",
      "['A', 'second', 'favourite', 'epithet', 'of', 'Chinese', 'critics', 'is', 'that', 'of', 'poets', 'age', 'unk', 'unk', 'unk', 'a', 'counterpart', 'to', 'the', 'philosophical', 'sage', 'unk']\n",
      "['Early', 'positive', 'comments', 'came', 'from', 'unk', 'unk', 'who', 'praised', 'the', 'moral', 'sentiments', 'of', 'some', 'of', 'Du', 'Fu', 's', 'works', 'although', 'he', 'found', 'these', 'in', 'only', 'a', 'small', 'fraction', 'of', 'the', 'poems', 'and', 'from', 'Han', 'Yu', 'who', 'wrote', 'a', 'piece', 'defending', 'Du', 'Fu', 'and', 'Li', 'unk', 'on', 'aesthetic', 'grounds', 'from', 'attacks', 'made', 'against', 'them']\n",
      "['Early', 'positive', 'comments', 'came', 'from', 'unk', 'unk', 'who', 'praised', 'the', 'moral', 'sentiments', 'of', 'some', 'of', 'Du', 'Fu', 's', 'works', 'although', 'he', 'found', 'these', 'in', 'only', 'a', 'small', 'fraction', 'of', 'the', 'poems', 'and', 'from', 'Han', 'Yu', 'who', 'wrote', 'apiece', 'defending', 'Du', 'Fu', 'and', 'Li', 'unk', 'on', 'aesthetic', 'grounds', 'from', 'attacks', 'made', 'against', 'them']\n",
      "['Since', 'the', 'establishment', 'of', 'the', 'People', 's', 'Republic', 'of', 'China', 'Du', 'Fu', 's', 'loyalty', 'to', 'the', 'state', 'and', 'concern', 'for', 'the', 'poor', 'have', 'been', 'interpreted', 'as', 'embryonic', 'nationalism', 'and', 'socialism', 'and', 'he', 'has', 'been', 'praised', 'for', 'his', 'use', 'of', 'simple', 'people', 's', 'language']\n",
      "['Since', 'the', 'establishment', 'of', 'the', 'Peoples', 'Republic', 'of', 'China', 'Du', 'Fu', 's', 'loyalty', 'to', 'the', 'state', 'and', 'concern', 'for', 'the', 'poor', 'have', 'been', 'interpreted', 'as', 'embryonic', 'nationalism', 'and', 'socialism', 'and', 'he', 'has', 'been', 'praised', 'for', 'his', 'use', 'of', 'simple', 'peoples', 'language']\n",
      "['While', 'there', 'was', 'never', 'another', 'Du', 'Fu', 'individual', 'poets', 'followed', 'in', 'the', 'traditions', 'of', 'specific', 'aspects', 'of', 'his', 'work', 'unk', 'unk', 's', 'concern', 'for', 'the', 'poor', 'Lu', 'You', 's', 'patriotism', 'and', 'unk', 'unk', 's', 'unk', 'on', 'the', 'unk', 'are', 'a', 'few', 'examples']\n",
      "['While', 'there', 'was', 'never', 'another', 'Du', 'Fu', 'individual', 'poets', 'followed', 'in', 'the', 'traditions', 'of', 'specific', 'aspects', 'of', 'his', 'work', 'unk', 'unk', 's', 'concern', 'for', 'the', 'poor', 'Lu', 'You', 's', 'patriotism', 'and', 'unk', 'unk', 's', 'unk', 'on', 'the', 'unk', 'area', 'few', 'examples']\n",
      "['More', 'broadly', 'Du', 'Fu', 's', 'work', 'in', 'transforming', 'the', 'unk', 'from', 'mere', 'word', 'play', 'into', 'a', 'vehicle', 'for', 'serious', 'poetic', 'unk', 'set', 'the', 'stage', 'for', 'every', 'subsequent', 'writer', 'in', 'the', 'genre']\n",
      "['More', 'broadly', 'Du', 'Fu', 's', 'work', 'in', 'transforming', 'the', 'unk', 'from', 'mere', 'wordplay', 'into', 'a', 'vehicle', 'for', 'serious', 'poetic', 'unk', 'set', 'the', 'stage', 'for', 'every', 'subsequent', 'writer', 'in', 'the', 'genre']\n",
      "['It', 'is', 'said', 'that', 'when', 'he', 'died', 'in', 'Osaka', 'during', 'a', 'long', 'travel', 'a', 'copy', 'of', 'Du', 'Fu', 's', 'poetry', 'was', 'found', 'with', 'him', 'as', 'one', 'of', 'a', 'few', 'precious', 'items', 'which', 'he', 'was', 'able', 'to', 'carry', 'around']\n",
      "['It', 'is', 'said', 'that', 'when', 'he', 'died', 'in', 'Osaka', 'during', 'along', 'travel', 'a', 'copy', 'of', 'Du', 'Fu', 's', 'poetry', 'was', 'found', 'with', 'him', 'as', 'one', 'of', 'a', 'few', 'precious', 'items', 'which', 'he', 'was', 'able', 'to', 'carry', 'around']\n",
      "['It', 'was', 'released', 'as', 'the', 'record', 's', 'second', 'single', 'in', 'Germany', 'and', 'the', 'third', 'overall', 'single', 'on', '7', 'January', '2013']\n",
      "['It', 'was', 'released', 'as', 'the', 'records', 'second', 'single', 'in', 'Germany', 'and', 'the', 'third', 'overall', 'single', 'on', '7', 'January', '2013']\n",
      "['Kiss', 'You', 'is', 'an', 'upbeat', 'power', 'pop', 'song', 'with', 'electronic', 'effects', 'the', 'lyrics', 'detail', 'a', 'protagonist', 's', 'infatuation', 'with', 'a', 'significant', 'other']\n",
      "['Kiss', 'You', 'is', 'an', 'upbeat', 'power', 'pop', 'song', 'with', 'electronic', 'effects', 'the', 'lyrics', 'detail', 'a', 'protagonists', 'infatuation', 'with', 'a', 'significant', 'other']\n",
      "['Critics', 'praised', 'the', 'song', 'for', 'its', 'production', 'calling', 'it', 'a', 'stand', 'out', 'track', 'on', 'Take', 'Me', 'Home']\n",
      "['Critics', 'praised', 'the', 'song', 'for', 'its', 'production', 'calling', 'it', 'a', 'standout', 'track', 'on', 'Take', 'Me', 'Home']\n",
      "['The', 'track', 'became', 'the', 'group', 's', 'sixth', 'top', 'ten', 'hit', 'in', 'Ireland', 'and', 'the', 'United', 'Kingdom', 'while', 'attaining', 'top', 'forty', 'positions', 'in', 'both', 'Belgian', 'territories', 'Flanders', 'and', 'Wallonia', 'as', 'well', 'as', 'in', 'Australia', 'Canada', 'Denmark', 'France', 'New', 'Zealand', 'and', 'the', 'Netherlands']\n",
      "['The', 'track', 'became', 'the', 'groups', 'sixth', 'top', 'ten', 'hit', 'in', 'Ireland', 'and', 'the', 'United', 'Kingdom', 'while', 'attaining', 'top', 'forty', 'positions', 'in', 'both', 'Belgian', 'territories', 'Flanders', 'and', 'Wallonia', 'as', 'well', 'as', 'in', 'Australia', 'Canada', 'Denmark', 'France', 'New', 'Zealand', 'and', 'the', 'Netherlands']\n",
      "['An', 'accompanying', 'music', 'video', 'designed', 'to', 'display', 'the', 'group', 's', 'comedic', 'timing', 'was', 'directed', 'by', 'Vaughan', 'unk', 'who', 'had', 'previously', 'worked', 'with', 'the', 'group', 'on', 'two', 'other', 'music', 'videos']\n",
      "['An', 'accompanying', 'music', 'video', 'designed', 'to', 'display', 'the', 'groups', 'comedic', 'timing', 'was', 'directed', 'by', 'Vaughan', 'unk', 'who', 'had', 'previously', 'worked', 'with', 'the', 'group', 'on', 'two', 'other', 'music', 'videos']\n",
      "['unk', 'unk', 'and', 'unk', 'had', 'unk', 'composed', 'One', 'Direction', 's', 'previous', 'hit', 'singles', 'What', 'Makes', 'You', 'Beautiful', 'One', 'Thing', 'and', 'Live', 'While', 'We', 're', 'Young']\n",
      "['unk', 'unk', 'and', 'unk', 'had', 'unk', 'composed', 'One', 'Directions', 'previous', 'hit', 'singles', 'What', 'Makes', 'You', 'Beautiful', 'One', 'Thing', 'and', 'Live', 'While', 'Were', 'Young']\n",
      "['In', 'April', '2012', 'The', 'Independent', 'reported', 'that', 'Simon', 'Cowell', 'the', 'group', 's', 'manager', 'had', 'challenged', 'prominent', 'songwriters', 'to', 'compete', 'for', 'space', 'on', 'One', 'Direction', 's', 'second', 'album']\n",
      "['In', 'April', '2012', 'The', 'Independent', 'reported', 'that', 'Simon', 'Cowell', 'the', 'groups', 'manager', 'had', 'challenged', 'prominent', 'songwriters', 'to', 'compete', 'for', 'space', 'on', 'One', 'Directions', 'second', 'album']\n",
      "['unk', 'said', 'It', 's', 'important', 'to', 'get', 'their', 'personalities', 'on', 'the', 'music']\n",
      "['unk', 'said', 'Its', 'important', 'to', 'get', 'their', 'personalities', 'on', 'the', 'music']\n",
      "['Liam', 'Payne', 'a', 'group', 'member', 'in', 'a', 'November', '2012', 'interview', 'with', 'MTV', 'News', 'explained', 'why', 'they', 'chose', 'Kiss', 'You', 'as', 'the', 'album', 's', 'second', 'single', 'in', 'the', 'US']\n",
      "['Liam', 'Payne', 'a', 'group', 'member', 'in', 'a', 'November', '2012', 'interview', 'with', 'MTV', 'News', 'explained', 'why', 'they', 'chose', 'Kiss', 'You', 'as', 'the', 'albums', 'second', 'single', 'in', 'the', 'US']\n",
      "['The', 'track', 'however', 'was', 'released', 'by', 'Sony', 'Music', 'Entertainment', 'on', '8', 'February', '2013', 'as', 'the', 'record', 's', 'second', 'single', 'in', 'Germany']\n",
      "['The', 'track', 'however', 'was', 'released', 'by', 'Sony', 'Music', 'Entertainment', 'on', '8', 'February', '2013', 'as', 'the', 'records', 'second', 'single', 'in', 'Germany']\n",
      "['Kiss', 'You', 'is', 'an', 'uptempo', 'upbeat', 'power', 'pop', 'song', 'which', 'runs', 'for', 'a', 'duration', 'of', '3', '04', '3', 'minutes', 'four', 'seconds']\n",
      "['Kiss', 'You', 'is', 'an', 'uptempo', 'upbeat', 'power', 'pop', 'song', 'which', 'runs', 'for', 'a', 'duration', 'of', '30', '43', 'minutes', 'four', 'seconds']\n",
      "['The', 'track', 'features', 'electronic', 'effects', 'colossal', 'hooks', 'a', 'na', 'na', 'na', 'breakdown', 'and', 'a', 'Motown', 'unk', 'melody']\n",
      "['The', 'track', 'features', 'electronic', 'effects', 'colossal', 'hooks', 'an', 'an', 'an', 'a', 'breakdown', 'and', 'a', 'Motown', 'unk', 'melody']\n",
      "['One', 'Direction', 's', 'vocal', 'range', 'in', 'the', 'song', 'span', 'from', 'the', 'note', 'of', 'E4', 'to', 'C', '6']\n",
      "['One', 'Directions', 'vocal', 'range', 'in', 'the', 'song', 'span', 'from', 'the', 'note', 'of', 'E4', 'to', 'C', '6']\n",
      "['Written', 'in', 'the', 'key', 'of', 'E', 'major', 'the', 'beat', 'is', 'set', 'in', 'common', 'time', 'and', 'moves', 'at', 'a', 'quick', '90', 'beats', 'per', 'minute', 'according', 'to', 'the', 'digital', 'sheet', 'music', 'published', 'at', 'Musicnotes']\n",
      "['Written', 'in', 'the', 'key', 'of', 'E', 'major', 'the', 'beat', 'is', 'set', 'in', 'common', 'time', 'and', 'moves', 'at', 'a', 'quick', '90', 'beats', 'per', 'minute', 'according', 'to', 'the', 'digital', 'sheet', 'music', 'published', 'at', 'Music', 'notes']\n",
      "['com', 'by', 'Sony', 'ATV', 'Music', 'Publishing']\n",
      "['co', 'm', 'by', 'Sony', 'ATV', 'Music', 'Publishing']\n",
      "['The', 'lyrical', 'content', 'regards', 'the', 'protagonist', 's', 'infatuation', 'with', 'a', 'significant', 'other', 'and', 'incorporates', 'unk', 'for', 'sexual', 'intercourse', 'in', 'the', 'lines', 'If', 'you', 'don', 't', 'wanna', 'take', 'it', 'slow', 'And', 'you', 'just', 'wanna', 'take', 'me', 'home', 'Baby', 'say', 'yeah', 'yeah', 'yeah', 'yeah', 'yeah']\n",
      "['The', 'lyrical', 'content', 'regards', 'the', 'protagonists', 'infatuation', 'with', 'a', 'significant', 'other', 'and', 'incorporates', 'unk', 'for', 'sexual', 'intercourse', 'in', 'the', 'lines', 'If', 'you', 'don', 't', 'wanna', 'take', 'its', 'low', 'And', 'you', 'just', 'wanna', 'take', 'me', 'home', 'Baby', 'say', 'yeah', 'yeah', 'yeah', 'yeah', 'yeah']\n",
      "['Both', 'Rolling', 'Stone', 's', 'Jon', 'Dolan', 'who', 'praised', 'its', 'effectiveness', 'and', 'Chris', 'Payne', 'of', 'Billboard', 'who', 'appreciated', 'the', 'melody', 'described', 'Kiss', 'You', 'as', 'one', 'of', 'the', 'album', 's', 'highlights']\n",
      "['Both', 'Rolling', 'Stones', 'Jon', 'Dolan', 'who', 'praised', 'its', 'effectiveness', 'and', 'Chris', 'Payne', 'of', 'Billboard', 'who', 'appreciated', 'the', 'melody', 'described', 'Kiss', 'You', 'as', 'one', 'of', 'the', 'albums', 'highlights']\n",
      "['Alexis', 'unk', 'for', 'The', 'Guardian', 'commended', 'the', 'track', 's', 'chorus', 'as', 'hard', 'to', 'unk', 'from', 'your', 'brain']\n",
      "['Alexis', 'unk', 'for', 'The', 'Guardian', 'commended', 'the', 'tracks', 'chorus', 'as', 'hard', 'to', 'unk', 'from', 'your', 'brain']\n",
      "['Robert', 'Copsey', 'of', 'Digital', 'Spy', 'noted', 'the', 'song', 's', 'possibility', 'to', 'become', 'an', 'international', 'hit', 'unk', 'it', 'unk']\n",
      "['Robert', 'Copsey', 'of', 'Digital', 'Spy', 'noted', 'the', 'songs', 'possibility', 'to', 'become', 'an', 'international', 'hit', 'unk', 'it', 'unk']\n",
      "['A', 'reviewer', 'for', 'MTV', 'News', 'described', 'the', 'track', 's', 'unk', 'as', 'butterflies', 'inducing', 'and', 'Sam', 'unk', 'of', 'Idolator', 'wrote', 'that', 'Kiss', 'You', 'is', 'noticeably', 'a', 'stand', 'out', 'track', 'on', 'its', 'parent', 'album']\n",
      "['A', 'reviewer', 'for', 'MTV', 'News', 'described', 'the', 'tracks', 'unk', 'as', 'butterflies', 'inducing', 'and', 'Sam', 'unk', 'of', 'Idolator', 'wrote', 'that', 'Kiss', 'You', 'is', 'noticeably', 'a', 'standout', 'track', 'on', 'its', 'parent', 'album']\n",
      "['Melinda', 'Newman', 'writing', 'for', 'HitFix', 'regarded', 'the', 'song', 'as', 'a', 'unk', 'electronic', 'infectious', 'ditty', 'while', 'Chris', 'unk', 'a', 'critic', 'from', 'unk', 'deemed', 'it', 'an', 'amazing', 'pop', 'song', 'lauding', 'the', 'group', 's', 'falsetto', 'and', 'its', 'head', 'unk', 'unk', 'chorus']\n",
      "['Melinda', 'Newman', 'writing', 'for', 'HitFix', 'regarded', 'the', 'song', 'as', 'a', 'unk', 'electronic', 'infectious', 'ditty', 'while', 'Chris', 'unk', 'a', 'critic', 'from', 'unk', 'deemed', 'it', 'an', 'amazing', 'pop', 'song', 'lauding', 'the', 'groups', 'falsetto', 'and', 'its', 'head', 'unk', 'unk', 'chorus']\n",
      "['It', 'peaked', 'at', 'number', 'nine', 'on', 'the', 'UK', 'Singles', 'Chart', 'on', '26', 'January', '2013', 'becoming', 'One', 'Direction', 's', 'sixth', 'top', 'ten', 'hit', 'in', 'the', 'United', 'Kingdom']\n",
      "['It', 'peaked', 'at', 'number', 'nine', 'on', 'the', 'UK', 'Singles', 'Chart', 'on', '26', 'January', '2013', 'becoming', 'One', 'Directions', 'sixth', 'top', 'ten', 'hit', 'in', 'the', 'United', 'Kingdom']\n",
      "['The', 'song', 'became', 'One', 'Direction', 's', 'fourth', 'top', 'forty', 'hit', 'on', 'the', 'Canadian', 'Hot', '100', 'peaking', 'at', 'number', '30']\n",
      "['The', 'song', 'became', 'One', 'Directions', 'fourth', 'top', 'forty', 'hit', 'on', 'the', 'Canadian', 'Hot', '100', 'peaking', 'at', 'number', '30']\n",
      "['The', 'single', 'bowed', 'at', 'number', '13', 'on', 'the', 'Australian', 'Singles', 'Chart', 'on', '27', 'January', '2013', 'marking', 'its', 'peak', 'position', 'and', 'the', 'group', 's', 'fourth', 'top', 'twenty', 'hit', 'in', 'Australia']\n",
      "['The', 'single', 'bowed', 'at', 'number', '13', 'on', 'the', 'Australian', 'Singles', 'Chart', 'on', '27', 'January', '2013', 'marking', 'its', 'peak', 'position', 'and', 'the', 'groups', 'fourth', 'top', 'twenty', 'hit', 'in', 'Australia']\n",
      "['It', 'peaked', 'at', 'number', '13', 'in', 'its', 'third', 'and', 'fourth', 'charting', 'weeks', 'unk', 'the', 'group', 's', 'sixth', 'top', 'forty', 'appearance', 'in', 'New', 'Zealand']\n",
      "['It', 'peaked', 'at', 'number', '13', 'in', 'its', 'third', 'and', 'fourth', 'charting', 'weeks', 'unk', 'the', 'groups', 'sixth', 'top', 'forty', 'appearance', 'in', 'New', 'Zealand']\n",
      "['The', 'accompanying', 'music', 'video', 'directed', 'by', 'Vaughan', 'unk', 'who', 'had', 'previously', 'directed', 'One', 'Direction', 's', 'music', 'videos', 'for', 'Live', 'While', 'We', 're', 'Young', 'and', 'Little', 'Things', 'was', 'designed', 'to', 'showcase', 'the', 'group', 's', 'comedic', 'timing']\n",
      "['The', 'accompanying', 'music', 'video', 'directed', 'by', 'Vaughan', 'unk', 'who', 'had', 'previously', 'directed', 'One', 'Directions', 'music', 'videos', 'for', 'Live', 'While', 'Were', 'Young', 'and', 'Little', 'Things', 'was', 'designed', 'to', 'showcase', 'the', 'groups', 'comedic', 'timing']\n",
      "['Inspired', 'by', 'the', 'Beach', 'Boys', 'cult', 'surfing', 'films', 'old', 'Hollywood', 'and', 'British', 'cinema', 'the', 'music', 'video', 'incorporates', 'a', 'unk', 'vibe', 'and', 'a', 'British', 'kind', 'of', 'romp', 'as', 'noted', 'by', 'unk', 'in', 'a', 'MTV', 'News', 'interview']\n",
      "['Inspired', 'by', 'the', 'Beach', 'Boys', 'cult', 'surfing', 'film', 'sold', 'Hollywood', 'and', 'British', 'cinema', 'the', 'music', 'video', 'incorporates', 'a', 'unk', 'vibe', 'and', 'a', 'British', 'kind', 'of', 'romp', 'as', 'noted', 'by', 'unk', 'in', 'a', 'MTV', 'News', 'interview']\n",
      "['Shot', 'by', 'November', '2012', 'the', 'music', 'video', 'was', 'characterised', 'in', 'several', 'MTV', 'News', 'interviews', 'as', 'bigger', 'than', 'anything', 'we', 've', 'done', 'before', 'by', 'unk', 'unk', 'as', 'a', 'lot', 'of', 'hard', 'work', 'by', 'Payne', 'as', 'pure', 'unk', 'by', 'Louis', 'unk', 'and', 'as', 'I', 'wouldn', 't', 'say', 'it', 's', 'comedy', 'it', 's', 'all', 'tongue', 'in', 'cheek', 'by', 'unk']\n",
      "['Shot', 'by', 'November', '2012', 'the', 'music', 'video', 'was', 'characterised', 'in', 'several', 'MTV', 'News', 'interviews', 'as', 'bigger', 'than', 'anything', 'we', 've', 'done', 'before', 'by', 'unk', 'unk', 'as', 'a', 'lot', 'of', 'hard', 'work', 'by', 'Payne', 'as', 'pure', 'unk', 'by', 'Louis', 'unk', 'and', 'as', 'I', 'wouldn', 't', 'say', 'its', 'comedy', 'its', 'all', 'tongue', 'in', 'cheek', 'by', 'unk']\n",
      "['Despite', 'a', '34', 'gain', 'in', 'weekly', 'activity', 'to', 'their', 'unk', 'channel', 'with', 'the', 'clip', 's', 'success', 'and', 'preceding', 'teaser', 'videos', 'earning', '38', 'million', 'views', 'during', 'the', 'week', 'One', 'Direction', 'held', 'at', 'number', 'two', 'on', 'the', 'Billboard', 's', 'Social', '50', 'chart', 'A', '15', 'rise', 'in', 'Facebook', 'reaction', 'gave', 'way', 'to', 'a', '154', '000', 'increase', 'in', 'Facebook', 'likes', 'during', 'the', 'week']\n",
      "['Despite', 'a', '34', 'gain', 'in', 'weekly', 'activity', 'to', 'their', 'unk', 'channel', 'with', 'the', 'clips', 'success', 'and', 'preceding', 'teaser', 'videos', 'earning', '38', 'million', 'views', 'during', 'the', 'week', 'One', 'Direction', 'held', 'at', 'number', 'two', 'on', 'the', 'Billboard', 's', 'Social', '50', 'chart', 'A', '15', 'rise', 'in', 'Facebook', 'reaction', 'gave', 'way', 'to', 'a', '154', '000', 'increase', 'in', 'Facebook', 'likes', 'during', 'the', 'week']\n",
      "['191', '000', 'Twitter', 'followers', 'added', 'contributed', 'to', 'their', 'overall', 'fan', 'base', 'increase', 'as', 'well']\n",
      "['19', '1000', 'Twitter', 'followers', 'added', 'contributed', 'to', 'their', 'overall', 'fanbase', 'increase', 'as', 'well']\n",
      "['Melinda', 'Newman', 'a', 'contributor', 'for', 'HitFix', 'favoured', 'the', 'clip', 'as', 'having', 'everything', 'a', 'video', 'by', 'a', 'boy', 'band', 'should', 'be', 'and', 'found', 'group', 's', 'careless', 'tone', 'delightful']\n",
      "['Melinda', 'Newman', 'a', 'contributor', 'for', 'HitFix', 'favoured', 'the', 'clip', 'as', 'having', 'everything', 'a', 'video', 'by', 'a', 'boy', 'band', 'should', 'be', 'and', 'found', 'groups', 'careless', 'tone', 'delightful']\n",
      "['Kiss', 'You', 'was', 'included', 'in', 'the', 'set', 'list', 'of', 'the', 'group', 's', '3', 'December', '2012', 'sold', 'out', 'show', 'at', 'New', 'York', 'City', 's', 'Madison', 'Square', 'Garden']\n",
      "['Kiss', 'You', 'was', 'included', 'in', 'the', 'setlist', 'of', 'the', 'groups', '3', 'December', '2012', 'sold', 'out', 'show', 'at', 'New', 'York', 'City', 's', 'Madison', 'Square', 'Garden']\n",
      "['Considering', 'One', 'Direction', 'the', 'franchise', 's', 'biggest', 'success', 'story', 'an', 'editor', 'for', 'The', 'Huffington', 'Post', 'opined', 'that', 'the', 'boy', 'band', 's', 'prominent', 'presence', 'on', 'both', 'the', 'US', 'and', 'UK', 'versions', 'of', 'The', 'X', 'Factor', 'seemed', 'fitting']\n",
      "['Considering', 'One', 'Direction', 'the', 'franchises', 'biggest', 'success', 'story', 'an', 'editor', 'for', 'The', 'Huffington', 'Post', 'opined', 'that', 'the', 'boy', 'bands', 'prominent', 'presence', 'on', 'both', 'the', 'US', 'and', 'UK', 'versions', 'of', 'The', 'X', 'Factor', 'seemed', 'fitting']\n",
      "['They', 'were', 'modernized', 'in', '1934', '37', 'with', 'improvements', 'to', 'their', 'armour', 'and', 'machinery', 'and', 'a', 'rebuilt', 'superstructure', 'in', 'the', 'pagoda', 'mast', 'style']\n",
      "['They', 'were', 'modernized', 'in', '1934', '37', 'with', 'improvements', 'to', 'their', 'armour', 'and', 'machinery', 'and', 'are', 'built', 'superstructure', 'in', 'the', 'pagoda', 'mast', 'style']\n",
      "['The', 'sisters', 'were', 'then', 'reduced', 'to', 'reserve', 'until', 'they', 'were', 'sunk', 'during', 'American', 'airstrikes', 'in', 'July']\n",
      "['The', 'sisters', 'were', 'then', 'reduced', 'to', 'reserve', 'until', 'they', 'were', 's', 'unk', 'during', 'American', 'airstrikes', 'in', 'July']\n",
      "['Accordingly', 'the', '1907', 'Imperial', 'Defence', 'Policy', 'called', 'for', 'the', 'construction', 'of', 'a', 'battle', 'fleet', 'of', 'eight', 'modern', 'battleships', '20', '000', 'long', 'tons', '20', '321', 't', 'each', 'and', 'eight', 'modern', 'armoured', 'cruisers', '18', '000', 'long', 'tons', '18', 'unk', 't', 'each']\n",
      "['Accordingly', 'the', '1907', 'Imperial', 'Defence', 'Policy', 'called', 'for', 'the', 'construction', 'of', 'a', 'battle', 'fleet', 'of', 'eight', 'modern', 'battleships', '20', '000', 'long', 'tons', '203', '21', 'teach', 'and', 'eight', 'modern', 'armoured', 'cruisers', '18', '000', 'long', 'tons', '18', 'unk', 'teach']\n",
      "['This', 'was', 'the', 'genesis', 'of', 'the', 'Eight', 'Eight', 'Fleet', 'Program', 'the', 'development', 'of', 'a', 'cohesive', 'battle', 'line', 'of', 'sixteen', 'capital', 'ships']\n",
      "['This', 'was', 'the', 'genesis', 'of', 'the', 'Eight', 'Eight', 'Fleet', 'Program', 'the', 'development', 'of', 'a', 'cohesive', 'battleline', 'of', 'sixteen', 'capital', 'ships']\n",
      "['It', 'also', 'decided', 'that', 'the', 'barbette', 'armour', 'of', 'the', 'earlier', 'ships', 'was', 'too', 'thin', 'and', 'wanted', 'a', 'modest', 'increase', 'in', 'speed', 'to', 'partially', 'counter', 'the', 'higher', 'speeds', 'of', 'the', 'latest', 'foreign', 'ships', 'like', 'the', 'British', 'Queen', 'Elizabeth', 'class', 'battleships', 'and', 'Russian', 'unk', 'class', 'battlecruisers']\n",
      "['It', 'also', 'decided', 'that', 'the', 'barbette', 'armour', 'of', 'the', 'earlier', 'ships', 'was', 'tooth', 'in', 'and', 'wanted', 'a', 'modest', 'increase', 'in', 'speed', 'to', 'partially', 'counter', 'the', 'higher', 'speeds', 'of', 'the', 'latest', 'foreign', 'ships', 'like', 'the', 'British', 'Queen', 'Elizabeth', 'class', 'battleships', 'and', 'Russian', 'unk', 'class', 'battlecruisers']\n",
      "['This', 'reduced', 'the', 'crew', 's', 'accommodations', 'despite', 'a', 'significant', 'increase', 'in', 'the', 'crew', 's', 'numbers', 'and', 'naval', 'historian', 'unk', 'unk', 'believed', 'that', 'these', 'ships', 'had', 'the', 'worst', 'unk', 'of', 'any', 'Japanese', 'capital', 'ship']\n",
      "['This', 'reduced', 'the', 'crews', 'accommodations', 'despite', 'a', 'significant', 'increase', 'in', 'the', 'crews', 'numbers', 'and', 'naval', 'historian', 'unk', 'unk', 'believed', 'that', 'these', 'ships', 'had', 'the', 'worst', 'unk', 'of', 'any', 'Japanese', 'capital', 'ship']\n",
      "['18', 'metres', 'unk', 'ft', '0', 'in', 'overall', 'a', 'beam', 'of', '28']\n",
      "['18', 'metres', 'unk', 'ft', '0', 'in', 'overall', 'abeam', 'of', '28']\n",
      "['Their', 'displacement', 'increased', 'over', '5', '000', 'long', 'tons', '5', '100', 't', 'to', '42', '001', 'long', 'tons', '42', 'unk', 't', 'at', 'deep', 'load']\n",
      "['Their', 'displacement', 'increased', 'over', '5000', 'long', 'tons', '5', '100', 't', 'to', '4', '2001', 'long', 'tons', '42', 'unk', 't', 'at', 'deep', 'load']\n",
      "['The', 'unk', 'class', 'ships', 'had', 'two', 'sets', 'of', 'direct', 'drive', 'steam', 'turbines', 'each', 'of', 'which', 'drove', 'two', 'propeller', 'shafts', 'with', '3']\n",
      "['The', 'unk', 'class', 'ships', 'had', 'two', 'sets', 'of', 'direct', 'drives', 'team', 'turbines', 'each', 'of', 'which', 'drove', 'two', 'propeller', 'shafts', 'with', '3']\n",
      "['9', 'kg', 'unk', '1', '275', '1', 'unk', 'unk', '185', '240', 'unk']\n",
      "['9', 'kg', 'unk', '1275', '1', 'unk', 'unk', '1852', '40', 'unk']\n",
      "['Each', 'of', 'the', 'boilers', 'consumed', 'a', 'mixture', 'of', 'coal', 'and', 'oil', 'and', 'the', 'ships', 'had', 'a', 'stowage', 'capacity', 'of', '4', 'unk', 'long', 'tons', '4', 'unk', 't', 'of', 'coal', 'and', '1', 'unk', 'long', 'tons', '1', 'unk', 't', 'of', 'fuel', 'oil', 'which', 'gave', 'them', 'a', 'range', 'of', '9', '680', 'nautical', 'miles', '17', '930', 'km', '11', '140', 'mi', 'at', 'a', 'speed', 'of', '14', 'knots', '26', 'km', 'h', '16', 'mph']\n",
      "['Each', 'of', 'the', 'boilers', 'consumed', 'a', 'mixture', 'of', 'coal', 'and', 'oil', 'and', 'the', 'ships', 'had', 'a', 'stowage', 'capacity', 'of', '4', 'unk', 'long', 'tons', '4', 'unk', 't', 'of', 'coal', 'and', '1', 'unk', 'long', 'tons', '1', 'unk', 't', 'of', 'fuel', 'oil', 'which', 'gave', 'them', 'a', 'range', 'of', '96', '80', 'nautical', 'miles', '1793', '0', 'km', '11', '140', 'mi', 'at', 'a', 'speed', 'of', '14', 'knots', '26', 'km', 'h', '16', 'mph']\n",
      "['On', 'her', 'trials', 'unk', 'reached', 'a', 'top', 'speed', 'of', '25']\n",
      "['On', 'her', 'trials', 'unk', 'reached', 'atop', 'speed', 'of', '25']\n",
      "['The', 'fuel', 'storage', 'of', 'the', 'ships', 'was', 'increased', 'to', 'a', 'total', 'of', '5', '113', 'long', 'tons', '5', '195', 't', 'of', 'fuel', 'oil', 'that', 'gave', 'them', 'a', 'range', 'of', '7', 'unk', 'nautical', 'miles', '14', '580', 'km', '9', '060', 'mi', 'at', 'a', 'speed', 'of', '16', 'knots', '30', 'km', 'h', '18', 'mph']\n",
      "['The', 'fuel', 'storage', 'of', 'the', 'ships', 'was', 'increased', 'to', 'a', 'total', 'of', '51', '13', 'long', 'tons', '51', '95', 't', 'of', 'fuel', 'oil', 'that', 'gave', 'them', 'a', 'range', 'of', '7', 'unk', 'nautical', 'miles', '145', '80', 'km', '90', '60', 'mi', 'at', 'a', 'speed', 'of', '16', 'knots', '30', 'km', 'h', '18', 'mph']\n",
      "['The', 'unk', 'powered', 'turrets', 'had', 'an', 'elevation', 'capability', 'of', '5', '20', 'degrees']\n",
      "['The', 'unk', 'powered', 'turrets', 'had', 'an', 'elevation', 'capability', 'of', '520', 'degrees']\n",
      "['5', '2', 'rounds', 'per', 'minute', 'and', 'could', 'be', 'loaded', 'at', 'any', 'angle', 'between', 'unk', 'and', '20', 'degrees']\n",
      "['52', 'rounds', 'per', 'minute', 'and', 'could', 'be', 'loaded', 'at', 'any', 'angle', 'between', 'unk', 'and', '20', 'degrees']\n",
      "['5', 'kilograms', '1', 'unk', 'lb', 'and', 'was', 'fired', 'at', 'a', 'muzzle', 'velocity', 'of', '770', '775', 'metres', 'per', 'second', '2', 'unk', '2', '540', 'ft', 's']\n",
      "['5', 'kilograms', '1', 'unk', 'lb', 'and', 'was', 'fire', 'data', 'muzzle', 'velocity', 'of', '770', '775', 'metres', 'per', 'second', '2', 'unk', '25', '40', 'ft', 's']\n",
      "['Also', 'available', 'was', 'a', '625', 'kilogram', '1', 'unk', 'lb', 'high', 'explosive', 'shell', 'that', 'had', 'a', 'muzzle', 'velocity', 'of', '805', 'metres', 'per', 'second', '2', '640', 'ft', 's']\n",
      "['Also', 'available', 'was', 'a', '625', 'kilogram', '1', 'unk', 'lb', 'high', 'explosive', 'shell', 'that', 'had', 'a', 'muzzle', 'velocity', 'of', '805', 'metres', 'per', 'second', '26', '40', 'ft', 's']\n",
      "['They', 'had', 'three', 'settings', 'for', 'range', 'and', 'speed', '15', '000', 'metres', '16', '000', 'yd', 'at', '26', 'knots', '48', 'km', 'h', '30', 'mph', '10', '000', 'metres', '11', '000', 'yd', 'at', '32', 'knots', '59', 'km', 'h', '37', 'mph', 'or', '7', '000', 'metres', '7', '700', 'yd', 'at', '37', 'knots', '69', 'km', 'h', '43', 'mph']\n",
      "['They', 'had', 'three', 'settings', 'for', 'range', 'and', 'speed', '15', '000', 'metres', '16', '000', 'yd', 'at', '26', 'knots', '48', 'km', 'h', '30', 'mph', '10', '000', 'metres', '11', '000', 'yd', 'at', '32', 'knots', '59', 'km', 'h', '37', 'mph', 'or', '7000', 'metres', '7', '700', 'yd', 'at', '37', 'knots', '69', 'km', 'h', '43', 'mph']\n",
      "['When', 'firing', 'at', 'surface', 'targets', 'the', 'guns', 'had', 'a', 'range', 'of', '14', '700', 'metres', '16', '100', 'yd', 'they', 'had', 'a', 'ceiling', 'of', '9', '440', 'metres', '30', '970', 'ft', 'at', 'their', 'maximum', 'elevation', 'of', '90', 'degrees']\n",
      "['When', 'firing', 'at', 'surface', 'targets', 'the', 'guns', 'had', 'a', 'range', 'of', '14', '700', 'metres', '16', '100', 'yd', 'they', 'had', 'a', 'ceiling', 'of', '94', '40', 'metres', '30', '970', 'ft', 'at', 'their', 'maximum', 'elevation', 'of', '90', 'degrees']\n",
      "['98', 'in', 'guns', 'had', 'an', 'effective', 'range', 'of', '1', '500', '3', '000', 'metres', '1', '600', '3', '300', 'yd', 'and', 'an', 'effective', 'ceiling', 'of', '5', '500', 'metres', '18', '000', 'ft', 'at', 'an', 'elevation', 'of', '85', 'degrees']\n",
      "['98', 'in', 'guns', 'had', 'an', 'effective', 'range', 'of', '1500', '3000', 'metres', '1600', '3', '300', 'yd', 'and', 'an', 'effective', 'ceiling', 'of', '5', '500', 'metres', '18', '000', 'ft', 'at', 'an', 'elevation', 'of', '85', 'degrees']\n",
      "['While', 'the', 'details', 'of', 'the', 'ship', 's', 'fire', 'control', 'instruments', 'are', 'not', 'fully', 'available', 'it', 'is', 'known', 'that', 'the', 'ships', 'were', 'fitted', 'with', 'a', 'fire', 'control', 'director', 'after', 'completion']\n",
      "['While', 'the', 'details', 'of', 'the', 'ships', 'fire', 'control', 'instruments', 'are', 'not', 'fully', 'available', 'it', 'is', 'known', 'that', 'the', 'ships', 'were', 'fitted', 'with', 'a', 'fire', 'control', 'director', 'after', 'completion']\n",
      "['unk', '2', '3', 'and', '5', 'were', 'built', 'with', 'imported', '6', 'metre', '19', 'ft', '8', 'in', 'unk', 'unk', 'rangefinders']\n",
      "['unk', '23', 'and', '5', 'were', 'built', 'with', 'imported', '6', 'metre', '19', 'ft', '8', 'in', 'unk', 'unk', 'rangefinders']\n",
      "['81', 'metres', '9', 'ft', '3', 'in', 'at', 'full', 'load', 'as', 'a', 'result', 'of', 'the', 'reduction', 'in', 'the', 'displacement', 'by', 'over', '2', '000', 'tonnes', '2', '000', 'long', 'tons', 'to', '40', 'unk', 'tonnes', '39', '805', 'long', 'tons']\n",
      "['81', 'metres', '9', 'ft', '3', 'in', 'at', 'full', 'load', 'as', 'a', 'result', 'of', 'the', 'reduction', 'in', 'the', 'displacement', 'by', 'over', '2000', 'tonnes', '2000', 'long', 'tons', 'to', '40', 'unk', 'tonnes', '39', '805', 'long', 'tons']\n",
      "['unk', 'had', 'an', 'explosion', 'in', 'one', 'of', 'her', 'main', 'gun', 'turrets', 'that', 'killed', '11', 'men', 'and', 'injured', '25', 'in', '1919', 'the', 'following', 'year', 'she', 'accidentally', 'collided', 'with', 'and', 'sank', 'a', 'schooner', 'losing', 'two', 'crewmen']\n",
      "['unk', 'had', 'an', 'explosion', 'in', 'one', 'of', 'her', 'main', 'gun', 'turrets', 'that', 'killed', '11', 'men', 'and', 'injured', '25', 'in', '1919', 'the', 'following', 'years', 'he', 'accidentally', 'collided', 'with', 'and', 'sank', 'a', 'schooner', 'losing', 'two', 'crewmen']\n",
      "['unk', 'hosted', 'Edward', 'Prince', 'of', 'Wales', 'and', 'his', 'aide', 'de', 'camp', 'Lieutenant', 'Louis', 'unk', 'in', '1922', 'during', 'the', 'prince', 's', 'visit', 'to', 'Japan']\n",
      "['unk', 'hosted', 'Edward', 'Prince', 'of', 'Wales', 'and', 'his', 'aide', 'de', 'camp', 'Lieutenant', 'Louis', 'unk', 'in', '1922', 'during', 'the', 'princes', 'visit', 'to', 'Japan']\n",
      "['On', '11', 'May', 'a', 'valve', 'in', 'unk', 's', 'No']\n",
      "['On', '11', 'Maya', 'valve', 'in', 'unk', 's', 'No']\n",
      "['The', 'division', 's', 'unk', 'Naval', 'Air', 'Group', 'was', 'formed', 'that', 'same', 'day', 'and', 'conducted', 'its', 'first', 'catapult', 'launches', 'in', 'late', 'June']\n",
      "['The', 'divisions', 'unk', 'Naval', 'Air', 'Group', 'was', 'formed', 'that', 'same', 'day', 'and', 'conducted', 'its', 'first', 'catapult', 'launches', 'in', 'late', 'June']\n",
      "['The', 'Americans', 'finally', 'spotted', 'the', 'Japanese', 'carriers', 'at', '16', '40', 'some', '200', 'miles', '320', 'km', 'east', 'of', 'Cape', 'unk', 'the', 'northeastern', 'tip', 'of', 'Luzon']\n",
      "['The', 'Americans', 'finally', 'spotted', 'the', 'Japanese', 'carriers', 'at', '1640', 'some', '200', 'miles', '320', 'km', 'east', 'of', 'Cape', 'unk', 'the', 'northeastern', 'tip', 'of', 'Luzon']\n",
      "['The', 'sisters', 'were', 'not', 'heavily', 'engaged', 'by', 'the', 'early', 'airstrikes', 'which', 'are', 'focusing', 'on', 'the', 'group', 's', 'aircraft', 'carriers']\n",
      "['The', 'sisters', 'were', 'not', 'heavily', 'engaged', 'by', 'the', 'early', 'airstrikes', 'which', 'are', 'focusing', 'on', 'the', 'groups', 'aircraft', 'carriers']\n",
      "['While', 'an', 'exact', 'total', 'of', 'her', 'casualties', 'is', 'not', 'available', 'it', 'has', 'been', 'estimated', 'that', '5', 'men', 'were', 'killed', 'and', 'some', '111', '121', 'crewmen', 'were', 'wounded', 'during', 'this', 'attack']\n",
      "['While', 'an', 'exact', 'total', 'of', 'her', 'casualties', 'is', 'not', 'available', 'it', 'has', 'been', 'estimated', 'that', '5', 'men', 'were', 'killed', 'and', 'some', '11', '1121', 'crewmen', 'were', 'wounded', 'during', 'this', 'attack']\n",
      "['unk', 'was', 'unsuccessfully', 'attacked', 'by', 'an', 'American', 'submarine', 'at', '18', '43']\n",
      "['unk', 'was', 'unsuccessfully', 'attacked', 'by', 'an', 'American', 'submarine', 'at', '1843']\n",
      "['Around', '19', '00', 'Ozawa', 'learned', 'about', 'a', 'force', 'of', 'destroyers', 'and', 'cruisers', 'that', 'drove', 'off', 'the', 'Japanese', 'destroyers', 'rescuing', 'survivors', 'from', 'some', 'of', 'the', 'carriers', 'lost', 'earlier', 'in', 'the', 'day', 'and', 'sank', 'unk']\n",
      "['Around', '1900', 'Ozawa', 'learned', 'about', 'a', 'force', 'of', 'destroyers', 'and', 'cruisers', 'that', 'drove', 'off', 'the', 'Japanese', 'destroyers', 'rescuing', 'survivors', 'from', 'some', 'of', 'the', 'carriers', 'lost', 'earlier', 'in', 'the', 'day', 'and', 'sank', 'unk']\n",
      "['Also', 'carrying', 'some', '1', '150', 'unk', 'workers', 'they', 'were', 'escorted', 'by', 'unk', 'and', 'three', 'destroyers']\n",
      "['Also', 'carrying', 'some', '1150', 'unk', 'workers', 'they', 'were', 'escorted', 'by', 'unk', 'and', 'three', 'destroyers']\n",
      "['In', 'an', 'article', 'titled', 'unk', 'and', 'unk', 'Time', 'reported', 'on', 'unk', 's', 'performance', 'Of', 'the', 'few', 'teams', 'already', 'in', 'action', 'Michigan', 's', 'teens', 'rang', 'the', 'freshman', 'bell', 'unk', 'last', 'week', 'by', 'winning', 'their', 'opener', '12', 'unk', '7', 'against', 'the', 'strong', 'Iowa', 'Seahawks', 'Naval', 'Pre', 'Flight', '6', 'ft']\n",
      "['In', 'an', 'article', 'titled', 'unk', 'and', 'unk', 'Time', 'reported', 'on', 'unk', 's', 'performance', 'Of', 'the', 'few', 'teams', 'already', 'inaction', 'Michigan', 's', 'teens', 'rang', 'the', 'freshman', 'bell', 'unk', 'last', 'week', 'by', 'winning', 'their', 'opener', '12', 'unk', '7', 'against', 'the', 'strong', 'Iowa', 'Seahawks', 'Naval', 'Pre', 'Flight', '6', 'ft']\n",
      "['unk', 'continued', 'to', 'scramble', 'unk', 'signals', 'as', 'unk', 's', 'teammates', 'laughed', 'at', 'his', 'scheme']\n",
      "['unk', 'continued', 'to', 'scramble', 'unk', 'signals', 'as', 'unk', 's', 'teammates', 'laughed', 'a', 'this', 'scheme']\n",
      "['In', 'the', 'January', '1', '1948', 'Rose', 'Bowl', 'that', 'season', 'Michigan', 'rolled', 'to', 'a', '49', '0', 'victory', 'over', 'USC', 'and', 'they', 'unk', 'the', 'Trojans', '491', 'yards', 'to', '133']\n",
      "['In', 'the', 'January', '1', '1948', 'Rose', 'Bowl', 'that', 'season', 'Michigan', 'rolled', 'to', 'a', '490', 'victory', 'over', 'USC', 'and', 'they', 'unk', 'the', 'Trojans', '491', 'yards', 'to', '133']\n",
      "['unk', 'caught', 'a', '29', 'yard', 'pass', 'for', 'the', 'game', 's', 'final', 'score']\n",
      "['unk', 'caught', 'a', '29', 'yard', 'pass', 'for', 'the', 'games', 'final', 'score']\n",
      "['In', 'four', 'seasons', 'with', 'the', 'Michigan', 'Wolverines', 'unk', 'played', 'in', '32', 'games', 'and', 'had', 'over', '1', '000', 'yards', 'of', 'total', 'offense']\n",
      "['In', 'four', 'seasons', 'with', 'the', 'Michigan', 'Wolverines', 'unk', 'played', 'in', '32', 'games', 'and', 'had', 'over', '1000', 'yards', 'of', 'total', 'offense']\n",
      "['This', 'was', 'an', 'early', 'foray', 'into', 'television', 'by', 'the', 'Buffalo', 'Evening', 'News']\n",
      "['This', 'was', 'a', 'nearly', 'foray', 'into', 'television', 'by', 'the', 'Buffalo', 'Evening', 'News']\n",
      "['In', 'the', '1950s', 'unk', 'hosted', 'a', 'popular', 'panel', 'show', 'called', 'Let', 's', 'Talk', 'Sports', 'in', 'Buffalo', 'and', 'also', 'pioneered', 'an', 'early', 'morning', 'exercise', 'program']\n",
      "['In', 'the', '1950s', 'unk', 'hosted', 'a', 'popular', 'panel', 'show', 'called', 'Let', 's', 'Talk', 'Sports', 'in', 'Buffalo', 'and', 'also', 'pioneered', 'a', 'nearly', 'morning', 'exercise', 'program']\n",
      "['He', 'also', 'worked', 'for', 'unk', 'AM', 'and', 'unk', 'FM', 'and', 'as', 'the', 'unk', 'announcer', 'for', 'Buffalo', 'Bills', 'games', 'along', 'with', 'Van', 'Miller', 'the', 'long', 'time', 'Bills', 'play', 'by', 'play', 'announcer']\n",
      "['He', 'also', 'worked', 'for', 'unk', 'AM', 'and', 'unk', 'FM', 'and', 'as', 'the', 'unk', 'announcer', 'for', 'Buffalo', 'Bills', 'games', 'along', 'with', 'Van', 'Miller', 'the', 'longtime', 'Bills', 'play', 'by', 'play', 'announcer']\n",
      "['After', '30', 'years', 'with', 'unk', 'and', 'a', 'change', 'in', 'ownership', 'for', 'the', 'station', 'his', 'show', 'was', 'replaced', 'with', 'the', 'unk', 'Network', 's', 'The', 'Larry', 'King', 'Show']\n",
      "['After', '30', 'years', 'with', 'unk', 'and', 'a', 'change', 'in', 'ownership', 'for', 'the', 'station', 'his', 'show', 'was', 'replaced', 'with', 'the', 'unk', 'Networks', 'The', 'Larry', 'King', 'Show']\n",
      "['In', 'her', 'acceptance', 'speech', 'Jane', 'unk', 'observed', 'that', 'despite', 'all', 'of', 'her', 'late', 'husband', 's', 'achievements', 'there', 'was', 'one', 'thing', 'he', 'had', 'never', 'received', 'He', 'had', 'a', 'great', 'career', 'but', 'he', 'never', 'had', 'a', 'trophy']\n",
      "['In', 'her', 'acceptance', 'speech', 'Jane', 'unk', 'observed', 'that', 'despite', 'all', 'of', 'her', 'late', 'husbands', 'achievements', 'there', 'was', 'one', 'thing', 'he', 'had', 'never', 'received', 'He', 'had', 'a', 'great', 'career', 'but', 'he', 'never', 'had', 'a', 'trophy']\n",
      "['It', 'acquired', 'peak', 'winds', 'of', '140', 'miles', 'per', 'hour', '225', 'km', 'h', 'and', 'passed', 'over', 'portions', 'of', 'the', 'Bahamas', 'on', 'September', '3', 'including', 'unk', 'and', 'Harbour', 'Island', 'causing', 'severe', 'damage', 'to', 'crops', 'buildings', 'and', 'infrastructure']\n",
      "['It', 'acquired', 'peak', 'winds', 'of', '140', 'miles', 'per', 'hour', '225', 'km', 'hand', 'passed', 'over', 'portions', 'of', 'the', 'Bahamas', 'on', 'September', '3', 'including', 'unk', 'and', 'Harbour', 'Island', 'causing', 'severe', 'damage', 'to', 'crops', 'buildings', 'and', 'infrastructure']\n",
      "['98', 'inHg', 'unk', 'mb', 'during', 'a', '40', 'minute', 'period', 'of', 'the', 'eye', 's', 'passage', 'this', 'suggested', 'a', 'landfall', 'strength', 'of', '125', 'mph', '201', 'km', 'h']\n",
      "['98', 'inHg', 'unk', 'mb', 'during', 'a', '40', 'minute', 'period', 'of', 'the', 'eyes', 'passage', 'this', 'suggested', 'a', 'landfall', 'strength', 'of', '125', 'mph', '201', 'km', 'h']\n",
      "['About', '2', '500', 'people', 'evacuated', 'by', 'train', 'from', 'areas', 'around', 'Lake', 'Okeechobee']\n",
      "['About', '2500', 'people', 'evacuated', 'by', 'train', 'from', 'areas', 'around', 'Lake', 'Okeechobee']\n",
      "['Winds', 'reached', '110', 'mph', '177', 'km', 'h', 'at', 'Governor', 's', 'Harbour', '100', 'mph', '161', 'km', 'h', 'on', 'unk', 'and', '120', 'mph', '193', 'km', 'h', 'on', 'the', 'unk', 'Islands']\n",
      "['Winds', 'reached', '110', 'mph', '177', 'km', 'hat', 'Governors', 'Harbour', '100', 'mph', '161', 'km', 'h', 'on', 'unk', 'and', '120', 'mph', '193', 'km', 'h', 'on', 'the', 'unk', 'Islands']\n",
      "['Fort', 'Pierce', 'estimated', 'peak', 'winds', 'of', '80', 'to', '90', 'mph', '129', 'to', '145', 'km', 'h', 'and', 'pressures', 'dipped', 'to', '29']\n",
      "['Fort', 'Pierce', 'estimated', 'peak', 'winds', 'of', '80', 'to', '90', 'mph', '129', 'to', '145', 'km', 'hand', 'pressures', 'dipped', 'to', '29']\n",
      "['Winds', 'also', 'tore', 'the', 'roof', 'off', 'an', 'ice', 'plant']\n",
      "['Winds', 'also', 'tore', 'the', 'roof', 'off', 'a', 'nice', 'plant']\n",
      "['Of', 'the', '7', '900', 'families', 'adversely', 'affected', 'by', 'the', 'hurricane', '4', '325', 'required', 'assistance', 'from', 'the', 'American', 'Red', 'Cross']\n",
      "['Of', 'the', '7', '900', 'families', 'adversely', 'affected', 'by', 'the', 'hurricane', '43', '25', 'required', 'assistance', 'from', 'the', 'American', 'Red', 'Cross']\n",
      "['It', 'was', 'a', 'part', 'of', 'the', 'Battle', 'of', 'Pusan', 'Perimeter', 'and', 'was', 'one', 'of', 'several', 'large', 'engagements', 'fought', 'simultaneously']\n",
      "['It', 'was', 'apart', 'of', 'the', 'Battle', 'of', 'Pusan', 'Perimeter', 'and', 'was', 'one', 'of', 'several', 'large', 'engagements', 'fought', 'simultaneously']\n",
      "['The', 'division', 'which', 'was', 'unk', 'in', 'combat', 'was', 'struck', 'with', 'a', 'strong', 'attack', 'by', 'several', 'divisions', 'of', 'the', 'Korean', 'People', 's', 'Army', 'which', 'crossed', 'the', 'river', 'and', 'struck', 'all', 'along', 'the', 'division', 's', 'line']\n",
      "['The', 'division', 'which', 'was', 'unk', 'in', 'combat', 'was', 'struck', 'with', 'a', 'strong', 'attack', 'by', 'several', 'divisions', 'of', 'the', 'Korean', 'Peoples', 'Army', 'which', 'crossed', 'the', 'river', 'and', 'struck', 'all', 'along', 'the', 'divisions', 'line']\n",
      "['The', 'urgency', 'of', 'the', 'threat', 'to', 'Pusan', 'Perimeter', 'prompted', 'the', 'US', 'Marine', 'Corps', '1st', 'Provisional', 'Marine', 'Brigade', 'to', 'be', 'brought', 'in', 'to', 'reinforce', 'the', 'US', 'Army', 'troops']\n",
      "['The', 'urgency', 'of', 'the', 'threat', 'to', 'Pusan', 'Perimeter', 'prompted', 'the', 'US', 'Marine', 'Corps', '1st', 'Provisional', 'Marine', 'Brigade', 'to', 'be', 'brought', 'into', 'reinforce', 'the', 'US', 'Army', 'troops']\n",
      "['From', 'the', 'outbreak', 'of', 'the', 'Korean', 'War', 'and', 'the', 'invasion', 'of', 'South', 'Korea', 'by', 'the', 'North', 'the', 'North', 'Korean', 'People', 's', 'Army', 'had', 'enjoyed', 'superiority', 'in', 'both', 'manpower', 'and', 'equipment', 'over', 'both', 'the', 'Republic', 'of', 'Korea', 'Army', 'and', 'the', 'United', 'Nations', 'forces', 'dispatched', 'to', 'South', 'Korea', 'to', 'prevent', 'it', 'from', 'collapsing']\n",
      "['From', 'the', 'outbreak', 'of', 'the', 'Korean', 'War', 'and', 'the', 'invasion', 'of', 'South', 'Korea', 'by', 'the', 'North', 'the', 'North', 'Korean', 'Peoples', 'Army', 'had', 'enjoyed', 'superiority', 'in', 'both', 'manpower', 'and', 'equipment', 'over', 'both', 'the', 'Republic', 'of', 'Korea', 'Army', 'and', 'the', 'United', 'Nations', 'forces', 'dispatched', 'to', 'South', 'Korea', 'to', 'prevent', 'it', 'from', 'collapsing']\n",
      "['In', 'the', 'First', 'Battle', 'of', 'unk', 'unk', 'the', 'North', 'Korean', 'division', 'was', 'unable', 'to', 'hold', 'its', 'bridgehead', 'across', 'the', 'river', 'as', 'large', 'numbers', 'of', 'US', 'reserve', 'forces', 'were', 'brought', 'in', 'to', 'repel', 'it', 'and', 'on', 'August', '19', 'the', 'unk', '4th', 'Division', 'was', 'forced', 'back', 'across', 'the', 'river', 'with', '50', 'percent', 'casualties']\n",
      "['In', 'the', 'First', 'Battle', 'of', 'unk', 'unk', 'the', 'North', 'Korean', 'division', 'was', 'unable', 'to', 'hold', 'its', 'bridgehead', 'across', 'the', 'river', 'as', 'large', 'numbers', 'of', 'US', 'reserve', 'forces', 'were', 'brought', 'into', 'repel', 'it', 'and', 'on', 'August', '19', 'the', 'unk', '4th', 'Division', 'was', 'forced', 'back', 'across', 'the', 'river', 'with', '50', 'percent', 'casualties']\n",
      "['These', 'attacks', 'would', 'overwhelm', 'the', 'UN', 'defenders', 'and', 'allow', 'the', 'North', 'Koreans', 'to', 'break', 'through', 'the', 'lines', 'in', 'at', 'least', 'one', 'place', 'to', 'force', 'the', 'UN', 'forces', 'back']\n",
      "['These', 'attacks', 'would', 'overwhelm', 'the', 'UN', 'defenders', 'and', 'allow', 'the', 'North', 'Koreans', 'to', 'breakthrough', 'the', 'lines', 'in', 'at', 'least', 'one', 'place', 'to', 'force', 'the', 'UN', 'forces', 'back']\n",
      "['The', 'center', 'attack', 'called', 'for', 'the', 'unk', '9th', 'Division', 'unk', '4th', 'Division', 'unk', '2nd', 'Division', 'and', 'unk', '10th', 'Division', 'break', 'through', 'the', 'US', '2nd', 'Infantry', 'Division', 'at', 'the', 'unk', 'unk', 'to', 'unk', 'and', 'unk']\n",
      "['The', 'center', 'attack', 'called', 'for', 'the', 'unk', '9th', 'Division', 'unk', '4th', 'Division', 'unk', '2nd', 'Division', 'and', 'unk', '10th', 'Division', 'breakthrough', 'the', 'US', '2nd', 'Infantry', 'Division', 'at', 'the', 'unk', 'unk', 'to', 'unk', 'and', 'unk']\n",
      "['During', 'the', 'North', 'Koreans', 'September', '1', 'offensive', 'the', 'US', '25th', 'Infantry', 'Division', 's', 'US', '35th', 'Infantry', 'Regiment', 'was', 'heavily', 'engaged', 'in', 'the', 'Battle', 'of', 'unk', 'River', 'north', 'of', 'unk']\n",
      "['During', 'the', 'North', 'Koreans', 'September', '1', 'offensive', 'the', 'US', '25th', 'Infantry', 'Divisions', 'US', '35th', 'Infantry', 'Regiment', 'was', 'heavily', 'engaged', 'in', 'the', 'Battle', 'of', 'unk', 'River', 'north', 'of', 'unk']\n",
      "['On', 'the', '35th', 'Regiment', 's', 'right', 'flank', 'just', 'north', 'of', 'the', 'confluence', 'of', 'the', 'unk', 'River', 'and', 'the', 'unk', 'River', 'was', 'the', 'US', '9th', 'Infantry', 'Regiment', 'US', '2nd', 'Infantry', 'Division']\n",
      "['On', 'the', '35th', 'Regiments', 'right', 'flank', 'just', 'north', 'of', 'the', 'confluence', 'of', 'the', 'unk', 'River', 'and', 'the', 'unk', 'River', 'was', 'the', 'US', '9th', 'Infantry', 'Regiment', 'US', '2nd', 'Infantry', 'Division']\n",
      "['Each', 'US', 'infantry', 'company', 'on', 'the', 'river', 'line', 'here', 'had', 'a', 'front', 'of', '3', '000', 'feet', '910', 'm', 'to', '4', '000', 'feet', '1', '200', 'm', 'and', 'they', 'held', 'only', 'key', 'hills', 'and', 'observation', 'points', 'as', 'the', 'units', 'were', 'extremely', 'spread', 'out', 'along', 'the', 'wide', 'front']\n",
      "['Each', 'US', 'infantry', 'company', 'on', 'the', 'river', 'line', 'here', 'had', 'a', 'front', 'of', '3000', 'feet', '910', 'm', 'to', '4000', 'feet', '1200', 'm', 'and', 'they', 'held', 'only', 'key', 'hills', 'and', 'observation', 'points', 'as', 'the', 'units', 'were', 'extremely', 'spread', 'out', 'along', 'the', 'wide', 'front']\n",
      "['Its', 'mission', 'in', 'the', 'forthcoming', 'attack', 'was', 'to', 'outflank', 'and', 'destroy', 'the', 'US', 'troops', 'at', 'unk', 'unk', 'by', 'capturing', 'the', 'unk', 'and', 'unk', 'areas', 'to', 'cut', 'off', 'the', 'US', '2nd', 'Division', 's', 'route', 'of', 'supply', 'and', 'withdrawal', 'between', 'unk', 'and', 'Pusan']\n",
      "['Its', 'mission', 'in', 'the', 'forthcoming', 'attack', 'was', 'to', 'outflank', 'and', 'destroy', 'the', 'US', 'troops', 'at', 'unk', 'unk', 'by', 'capturing', 'the', 'unk', 'and', 'unk', 'areas', 'to', 'cut', 'off', 'the', 'US', '2nd', 'Divisions', 'route', 'of', 'supply', 'and', 'withdrawal', 'between', 'unk', 'and', 'Pusan']\n",
      "['However', 'the', 'North', 'Koreans', 'weren', 't', 'aware', 'that', 'the', 'US', '2nd', 'Infantry', 'Division', 'had', 'recently', 'replaced', 'the', 'US', '24th', 'Infantry', 'Division', 'in', 'positions', 'along', 'the', 'unk', 'River']\n",
      "['However', 'the', 'North', 'Koreans', 'we', 'rent', 'aware', 'that', 'the', 'US', '2nd', 'Infantry', 'Division', 'had', 'recently', 'replaced', 'the', 'US', '24th', 'Infantry', 'Division', 'in', 'positions', 'along', 'the', 'unk', 'River']\n",
      "['The', 'North', 'Koreans', 'began', 'crossing', 'the', 'unk', 'River', 'under', 'cover', 'of', 'darkness', 'at', 'certain', 'points']\n",
      "['The', 'North', 'Koreans', 'began', 'crossing', 'the', 'unk', 'River', 'undercover', 'of', 'darkness', 'at', 'certain', 'points']\n",
      "['On', 'the', 'southern', 'most', 'flank', 'of', 'the', '9th', 'Infantry', 'river', 'line', 'just', 'above', 'the', 'junction', 'of', 'the', 'unk', 'River', 'with', 'the', 'unk', 'A', 'Company', 'of', 'the', '1st', 'Battalion', 'was', 'dug', 'in', 'on', 'a', 'long', 'finger', 'ridge', 'unk', 'the', 'unk', 'that', 'terminates', 'in', 'Hill', '94', 'at', 'the', 'unk', 'ferry', 'site']\n",
      "['On', 'the', 'southernmost', 'flank', 'of', 'the', '9th', 'Infantry', 'river', 'line', 'just', 'above', 'the', 'junction', 'of', 'the', 'unk', 'River', 'with', 'the', 'unk', 'A', 'Company', 'of', 'the', '1st', 'Battalion', 'was', 'dug', 'in', 'on', 'along', 'finger', 'ridge', 'unk', 'the', 'unk', 'that', 'terminates', 'in', 'Hill', '94', 'at', 'the', 'unk', 'ferry', 'site']\n",
      "['At', '20', '00', 'a', 'heavy', 'fog', 'covered', 'the', 'river', 'and', 'at', '22', '00', 'mortar', 'shells', 'began', 'falling', 'on', 'the', 'American', 'held', 'side', 'of', 'the', 'river']\n",
      "['At', '2000', 'a', 'heavy', 'fog', 'covered', 'the', 'river', 'and', 'at', '2', '200', 'mortar', 'shells', 'began', 'falling', 'on', 'the', 'American', 'held', 'side', 'of', 'the', 'river']\n",
      "['unk', 's', 'four', 'vehicles', 'attacked', 'this', 'structure', 'and', 'after', 'about', 'a', 'minute', 'of', 'heavy', 'fire', 'the', 'bridge', 'collapsed', 'and', 'the', 'unk', 'boats', 'used', 'to', 'hold', 'the', 'bridge', 'in', 'place', 'were', 'sunk']\n",
      "['unk', 's', 'four', 'vehicles', 'attacked', 'this', 'structure', 'and', 'after', 'about', 'a', 'minute', 'of', 'heavy', 'fire', 'the', 'bridge', 'collapsed', 'and', 'the', 'unk', 'boats', 'used', 'to', 'hold', 'the', 'bridge', 'in', 'place', 'were', 's', 'unk']\n",
      "['At', '23', '00', 'a', 'small', 'arms', 'fight', 'flared', 'around', 'the', 'left', 'side', 'of', 'A', 'Company', 'north', 'of', 'the', 'tanks']\n",
      "['At', '2300', 'a', 'small', 'arms', 'fight', 'flared', 'around', 'the', 'left', 'side', 'of', 'A', 'Company', 'north', 'of', 'the', 'tanks']\n",
      "['The', 'unk', '9th', 'Division', 's', 'infantry', 'crossing', 'of', 'the', 'unk', 'and', 'attack', 'on', 'its', 'east', 'side', 'near', 'midnight', 'quickly', 'overran', 'the', 'positions', 'of', 'C', 'Company', 'north', 'of', 'A', 'Company']\n",
      "['The', 'unk', '9th', 'Divisions', 'infantry', 'crossing', 'of', 'the', 'unk', 'and', 'attack', 'on', 'its', 'east', 'side', 'near', 'midnight', 'quickly', 'overran', 'the', 'positions', 'of', 'C', 'Company', 'north', 'of', 'A', 'Company']\n",
      "['2', 'inch', 'mortar', 'platoon', 'to', 'its', 'position', 'at', 'the', 'base', 'of', 'Hill', 'unk', 'where', 'the', 'unk', 'prepared', 'to', 'set', 'up', 'their', 'weapons']\n",
      "['2', 'inch', 'mortar', 'platoon', 'to', 'its', 'position', 'at', 'the', 'base', 'of', 'Hill', 'unk', 'where', 'the', 'unk', 'prepared', 'to', 'setup', 'their', 'weapons']\n",
      "['By', '21', '00', 'the', 'closest', 'front', 'line', 'unit', 'was', 'B', 'Company', 'on', 'top', 'of', 'Hill', 'unk', '1', 'mile', '1']\n",
      "['By', '2100', 'the', 'closest', 'front', 'line', 'unit', 'was', 'B', 'Company', 'on', 'top', 'of', 'Hill', 'unk', '1', 'mile', '1']\n",
      "['6', 'km', 'north', 'of', 'the', 'river', 'road', 'which', 'curved', 'around', 'the', 'hill', 's', 'southern', 'base']\n",
      "['6', 'km', 'north', 'of', 'the', 'river', 'road', 'which', 'curved', 'around', 'the', 'hills', 'southern', 'base']\n",
      "['They', 'soon', 'discovered', 'a', 'long', 'line', 'of', 'North', 'Korean', 'soldiers', 'wading', 'the', 'river']\n",
      "['They', 'soon', 'discovered', 'along', 'line', 'of', 'North', 'Korean', 'soldiers', 'wading', 'the', 'river']\n",
      "['It', 'unk', 'on', 'to', 'the', 'top', 'where', 'the', 'advance', 'group', 'waited', 'and', 'there', 'all', 'hastily', 'dug', 'in', 'on', 'a', 'small', 'perimeter']\n",
      "['It', 'unk', 'onto', 'the', 'top', 'where', 'the', 'advance', 'group', 'waited', 'and', 'there', 'all', 'hastily', 'dug', 'in', 'on', 'a', 'small', 'perimeter']\n",
      "['At', '02', '00', 'B', 'Company', 'was', 'attacked']\n",
      "['At', '0', '200', 'B', 'Company', 'was', 'attacked']\n",
      "['But', 'higher', 'up', 'on', 'Hill', 'unk', 'the', 'North', 'Koreans', 'drove', 'B', 'Company', 'from', 'its', 'position', 'inflicting', 'very', 'heavy', 'casualties', 'on', 'it']\n",
      "['But', 'higher', 'upon', 'Hill', 'unk', 'the', 'North', 'Koreans', 'drove', 'B', 'Company', 'from', 'its', 'position', 'inflicting', 'very', 'heavy', 'casualties', 'on', 'it']\n",
      "['At', '03', '00', '1', 'September', 'the', '9th', 'Infantry', 'Regiment', 'ordered', 'its', 'only', 'reserve', 'E', 'Company', 'to', 'move', 'west', 'along', 'the', 'unk', 'unk', 'River', 'road', 'and', 'take', 'a', 'blocking', 'position', 'at', 'the', 'pass', 'between', 'unk', 'Hill', 'and', 'unk', 'unk', 'Ridge', '3', 'miles', '4']\n",
      "['At', '0300', '1', 'September', 'the', '9th', 'Infantry', 'Regiment', 'ordered', 'its', 'only', 'reserve', 'E', 'Company', 'to', 'move', 'west', 'along', 'the', 'unk', 'unk', 'River', 'road', 'and', 'take', 'a', 'blocking', 'position', 'at', 'the', 'pass', 'between', 'unk', 'Hill', 'and', 'unk', 'unk', 'Ridge', '3', 'miles', '4']\n",
      "['Fighting', 'began', 'at', 'the', 'pass', 'at', '02', '30', 'when', 'an', 'American', 'medium', 'tank', 'of', 'A', 'Company', '72nd', 'Tank', 'Battalion', 'knocked', 'out', 'a', 'T', '34', 'at', 'unk', 'also', 'called', 'unk']\n",
      "['Fighting', 'began', 'at', 'the', 'pass', 'at', '0', '230', 'when', 'an', 'American', 'medium', 'tank', 'of', 'A', 'Company', '72nd', 'Tank', 'Battalion', 'knocked', 'out', 'a', 'T', '34', 'at', 'unk', 'also', 'called', 'unk']\n",
      "['A', 'northern', 'secondary', 'road', 'curved', 'around', 'unk', 'and', 'lakes', 'the', 'largest', 'of', 'which', 'was', 'Lake', 'U', 'p', 'unk', 'to', 'unk']\n",
      "['A', 'northern', 'secondary', 'road', 'curved', 'around', 'unk', 'and', 'lakes', 'the', 'largest', 'of', 'which', 'was', 'Lake', 'Up', 'unk', 'to', 'unk']\n",
      "['The', 'artillery', 'forward', 'observer', 'who', 'estimated', 'the', 'column', 'at', '2', '000', 'people', 'thought', 'they', 'were', 'refugees']\n",
      "['The', 'artillery', 'forward', 'observer', 'who', 'estimated', 'the', 'column', 'at', '2000', 'people', 'thought', 'they', 'were', 'refugees']\n",
      "['At', '21', '00', 'the', 'first', 'shells', 'of', 'what', 'proved', 'to', 'be', 'a', 'two', 'hour', 'North', 'Korean', 'artillery', 'and', 'mortar', 'preparation', 'against', 'the', 'American', 'river', 'positions', 'of', '2nd', 'Platoon']\n",
      "['At', '2100', 'the', 'first', 'shells', 'of', 'what', 'proved', 'to', 'be', 'a', 'two', 'hour', 'North', 'Korean', 'artillery', 'and', 'mortar', 'preparation', 'against', 'the', 'American', 'river', 'positions', 'of', '2nd', 'Platoon']\n",
      "['As', 'the', 'barrage', 'rolled', 'on', 'North', 'Korean', 'infantry', 'crossed', 'the', 'river', 'and', 'climbed', 'the', 'hills', 'in', 'the', 'darkness', 'under', 'cover', 'of', 'its', 'fire']\n",
      "['As', 'the', 'barrage', 'rolled', 'on', 'North', 'Korean', 'infantry', 'crossed', 'the', 'river', 'and', 'climbed', 'the', 'hills', 'in', 'the', 'darkness', 'undercover', 'of', 'its', 'fire']\n",
      "['At', '23', '00', 'the', 'barrage', 'lifted', 'and', 'the', 'North', 'Koreans', 'attacked', '2nd', 'Platoon', 'forcing', 'it', 'from', 'the', 'hill', 'after', 'a', 'short', 'fight']\n",
      "['At', '2300', 'the', 'barrage', 'lifted', 'and', 'the', 'North', 'Koreans', 'attacked', '2nd', 'Platoon', 'forcing', 'it', 'from', 'the', 'hill', 'after', 'a', 'short', 'fight']\n",
      "['As', 'the', 'North', 'Korean', 'attack', 'developed', 'during', 'the', 'night', '1st', 'Battalion', 'succeeded', 'in', 'withdrawing', 'a', 'large', 'part', 'of', 'its', 'force', 'less', 'C', 'Company', 'just', 'north', 'of', 'Lake', 'U', 'p', 'unk', 'and', 'the', 'hills', 'there', 'covering', 'the', 'northern', 'road', 'into', 'unk', '3', 'miles', '4']\n",
      "['As', 'the', 'North', 'Korean', 'attack', 'developed', 'during', 'the', 'night', '1st', 'Battalion', 'succeeded', 'in', 'withdrawing', 'a', 'large', 'part', 'of', 'its', 'force', 'less', 'C', 'Company', 'just', 'north', 'of', 'Lake', 'Up', 'unk', 'and', 'the', 'hills', 'the', 'recovering', 'the', 'northern', 'road', 'into', 'unk', '3', 'miles', '4']\n",
      "['The', 'US', '2nd', 'Division', 'released', 'E', 'Company', 'to', 'the', 'regiment', 'and', 'the', 'next', 'day', 'it', 'joined', 'F', 'Company', 'to', 'build', 'up', 'what', 'became', 'the', 'main', 'defensive', 'position', 'of', 'the', 'unk', 'Regiment', 'in', 'front', 'of', 'unk']\n",
      "['The', 'US', '2nd', 'Division', 'released', 'E', 'Company', 'to', 'the', 'regiment', 'and', 'the', 'next', 'day', 'it', 'joined', 'F', 'Company', 'to', 'buildup', 'what', 'became', 'the', 'main', 'defensive', 'position', 'of', 'the', 'unk', 'Regiment', 'in', 'front', 'of', 'unk']\n",
      "['North', 'Korean', 'troops', 'during', 'the', 'night', 'passed', 'around', 'the', 'right', 'flank', 'of', '1st', 'Battalion', 's', 'northern', 'blocking', 'position', 'and', 'reached', 'the', 'road', 'three', 'miles', 'behind', 'him', 'near', 'the', 'division', 'artillery', 'positions']\n",
      "['North', 'Korean', 'troops', 'during', 'the', 'night', 'passed', 'around', 'the', 'right', 'flank', 'of', '1st', 'Battalions', 'northern', 'blocking', 'position', 'and', 'reached', 'the', 'road', 'three', 'miles', 'behind', 'him', 'near', 'the', 'division', 'artillery', 'positions']\n",
      "['Before', 'the', 'morning', 'of', '1', 'September', 'had', 'passed', 'reports', 'coming', 'in', 'to', 'US', '2nd', 'Division', 'headquarters', 'made', 'it', 'clear', 'that', 'North', 'Koreans', 'had', 'penetrated', 'to', 'the', 'north', 'south', 'unk', 'unk', 'road', 'and', 'cut', 'the', 'division', 'in', 'two', 'the', '38th', 'and', 'unk', 'Infantry', 'Regiments', 'with', 'the', 'bulk', 'of', 'the', 'division', 'artillery', 'in', 'the', 'north', 'were', 'separated', 'from', 'the', 'division', 'headquarters', 'and', 'the', '9th', 'Infantry', 'Regiment', 'in', 'the', 'south']\n",
      "['Before', 'the', 'morning', 'of', '1', 'September', 'had', 'passed', 'reports', 'coming', 'into', 'US', '2nd', 'Division', 'headquarters', 'made', 'it', 'clear', 'that', 'North', 'Koreans', 'had', 'penetrated', 'to', 'the', 'north', 'south', 'unk', 'unk', 'road', 'and', 'cut', 'the', 'division', 'in', 'two', 'the', '38th', 'and', 'unk', 'Infantry', 'Regiments', 'with', 'the', 'bulk', 'of', 'the', 'division', 'artillery', 'in', 'the', 'north', 'were', 'separated', 'from', 'the', 'division', 'headquarters', 'and', 'the', '9th', 'Infantry', 'Regiment', 'in', 'the', 'south']\n",
      "['The', 'unk', '2nd', 'Division', 'concentrated', 'in', 'the', 'unk', 'unk', 'area', 'west', 'of', 'the', 'river', 'had', 'in', 'effect', 'attacked', 'straight', 'east', 'across', 'the', 'river', 'and', 'was', 'trying', 'to', 'seize', 'the', 'two', 'avenues', 'of', 'advance', 'into', 'unk', 'above', 'and', 'below', 'Lake', 'U', 'p', 'unk']\n",
      "['The', 'unk', '2nd', 'Division', 'concentrated', 'in', 'the', 'unk', 'unk', 'area', 'west', 'of', 'the', 'river', 'had', 'in', 'effect', 'attacked', 'straight', 'east', 'across', 'the', 'river', 'and', 'was', 'trying', 'to', 'seize', 'the', 'two', 'avenues', 'of', 'advance', 'into', 'unk', 'above', 'and', 'below', 'Lake', 'Up', 'unk']\n",
      "['On', 'August', '31', '1950', 'Lake', 'U', 'p', 'unk', 'was', 'a', 'large', 'body', 'of', 'water', 'although', 'in', 'most', 'places', 'very', 'shallow']\n",
      "['On', 'August', '31', '1950', 'Lake', 'Up', 'unk', 'was', 'a', 'large', 'body', 'of', 'water', 'although', 'in', 'most', 'places', 'very', 'shallow']\n",
      "['At', '09', '00', 'Walker', 'requested', 'the', 'US', 'Air', 'Force', 'to', 'make', 'a', 'maximum', 'effort', 'along', 'the', 'unk', 'River', 'from', 'unk', 'dong', 'just', 'above', 'the', 'US', '2nd', 'Division', 'boundary', 'southward', 'and', 'to', 'a', 'depth', 'of', '15', 'miles', '24', 'km', 'west', 'of', 'the', 'river']\n",
      "['At', '0', '900', 'Walker', 'requested', 'the', 'US', 'Air', 'Force', 'to', 'make', 'a', 'maximum', 'effort', 'along', 'the', 'unk', 'River', 'from', 'unk', 'dong', 'just', 'above', 'the', 'US', '2nd', 'Division', 'boundary', 'southward', 'and', 'to', 'a', 'depth', 'of', '15', 'miles', '24', 'km', 'west', 'of', 'the', 'river']\n",
      "['Walker', 'came', 'to', 'the', 'US', '2nd', 'Division', 'front', 'at', '12', '00', 'and', 'ordered', 'the', 'division', 'to', 'hold', 'at', 'all', 'costs']\n",
      "['Walker', 'came', 'to', 'the', 'US', '2nd', 'Division', 'front', 'at', '1200', 'and', 'ordered', 'the', 'division', 'to', 'hold', 'at', 'all', 'costs']\n",
      "['7', 'km', 'northeast', 'of', 'unk', 'preparing', 'for', 'movement', 'to', 'the', 'port', 'of', 'Pusan', 'the', 'US', '27th', 'Infantry', 'Regiment', 'of', 'the', '25th', 'Division', 'which', 'had', 'arrived', 'at', 'unk', 'only', 'the', 'night', 'before', 'at', '20', '30', 'to', 'relieve', 'the', '5th', 'Regimental', 'Combat', 'Team', 'which', 'was', 'then', 'to', 'join', 'the', '24th', 'Division', 'in', 'the', 'unk', 'area', 'and', 'the', 'US', '19th', 'Infantry', 'Regiment', 'of', 'the', 'US', '24th', 'Infantry', 'Division', 'then', 'with', 'that', 'division', 's', 'headquarters', 'at', 'unk', 'southeast', 'of', 'unk']\n",
      "['7', 'km', 'northeast', 'of', 'unk', 'preparing', 'for', 'movement', 'to', 'the', 'port', 'of', 'Pusan', 'the', 'US', '27th', 'Infantry', 'Regiment', 'of', 'the', '25th', 'Division', 'which', 'had', 'arrived', 'at', 'unk', 'only', 'the', 'night', 'before', 'at', '20', '30', 'to', 'relieve', 'the', '5th', 'Regimental', 'Combat', 'Team', 'which', 'was', 'then', 'to', 'join', 'the', '24th', 'Division', 'in', 'the', 'unk', 'area', 'and', 'the', 'US', '19th', 'Infantry', 'Regiment', 'of', 'the', 'US', '24th', 'Infantry', 'Division', 'then', 'with', 'that', 'divisions', 'headquarters', 'at', 'unk', 'southeast', 'of', 'unk']\n",
      "['Walker', 'alerted', 'both', 'the', '24th', 'Division', 'headquarters', 'together', 'with', 'its', '19th', 'Regiment', 'and', 'the', '1st', 'Provisional', 'Marine', 'Brigade', 'to', 'move', 'at', 'a', 'moment', 's', 'notice', 'the', '24th', 'Division', 'either', 'to', 'the', '2nd', 'or', '25th', 'Division', 'fronts', 'and', 'the', 'marines', 'to', 'an', 'unk', 'destination']\n",
      "['Walker', 'alerted', 'both', 'the', '24th', 'Division', 'headquarters', 'together', 'with', 'its', '19th', 'Regiment', 'and', 'the', '1st', 'Provisional', 'Marine', 'Brigade', 'to', 'move', 'at', 'a', 'moments', 'notice', 'the', '24th', 'Division', 'either', 'to', 'the', '2nd', 'or', '25th', 'Division', 'fronts', 'and', 'the', 'marines', 'to', 'an', 'unk', 'destination']\n",
      "['At', '11', '00', 'Walker', 'ordered', 'US', 'Marine', 'Corps', 'Brigadier', 'General', 'Edward', 'A']\n",
      "['At', '1100', 'Walker', 'ordered', 'US', 'Marine', 'Corps', 'Brigadier', 'General', 'Edward', 'A']\n",
      "['The', 'marines', 'made', 'ready', 'to', 'depart', 'for', 'the', 'unk', 'unk', 'at', '13', '30']\n",
      "['The', 'marines', 'made', 'ready', 'to', 'depart', 'for', 'the', 'unk', 'unk', 'at', '1330']\n",
      "['From', 'a', 'hill', 'at', '12', '00', 'after', 'the', 'fog', 'had', 'lifted', 'the', 'men', 'looked', 'down', 'on', 'the', 'Battle', 'of', 'unk', 'which', 'was', 'then', 'in', 'progress']\n",
      "['From', 'a', 'hill', 'at', '1200', 'after', 'the', 'fog', 'had', 'lifted', 'the', 'men', 'looked', 'down', 'on', 'the', 'Battle', 'of', 'unk', 'which', 'was', 'then', 'in', 'progress']\n"
     ]
    },
    {
     "data": {
      "text/plain": [
       "(861, 1000)"
      ]
     },
     "execution_count": 85,
     "metadata": {},
     "output_type": "execute_result"
    }
   ],
   "source": [
    "test_model(tests[:1000], bigramProbRTL)"
   ]
  },
  {
   "cell_type": "code",
   "execution_count": 86,
   "metadata": {},
   "outputs": [
    {
     "name": "stdout",
     "output_type": "stream",
     "text": [
      "['unk', 'you', 'know', 'what', 'you', 're', 'talking', 'about', 'when', 'you', 'don', 't', 'is', 'very', 'bizarre', 'but', 'there', 'are', 'advisers', 'on', 'set', 'who', 'are', 'fantastic', 'at', 'taking', 'you', 'through', 'procedures', 'and', 'giving', 'you', 'the', 'confidence', 'to', 'stand', 'there', 'and', 'look', 'like', 'you', 'know', 'what', 'you', 're', 'doing']\n",
      "['unk', 'you', 'know', 'what', 'you', 're', 'talking', 'about', 'when', 'you', 'don', 'tis', 'very', 'bizarre', 'but', 'there', 'are', 'advisers', 'onset', 'who', 'are', 'fantastic', 'at', 'taking', 'you', 'through', 'procedures', 'and', 'giving', 'you', 'the', 'confidence', 'to', 'stand', 'there', 'and', 'look', 'like', 'you', 'know', 'what', 'you', 're', 'doing']\n",
      "['Stephen', 'Owen', 'suggests', 'a', 'third', 'factor', 'particular', 'to', 'Du', 'Fu', 'arguing', 'that', 'the', 'variety', 'of', 'the', 'poet', 's', 'work', 'required', 'consideration', 'of', 'his', 'whole', 'life', 'rather', 'than', 'the', 'unk', 'unk', 'used', 'for', 'more', 'limited', 'poets']\n",
      "['Stephen', 'Owen', 'suggests', 'a', 'third', 'factor', 'particular', 'to', 'Du', 'Fu', 'arguing', 'that', 'the', 'variety', 'of', 'the', 'poets', 'work', 'required', 'consideration', 'of', 'his', 'whole', 'life', 'rather', 'than', 'the', 'unk', 'unk', 'used', 'for', 'more', 'limited', 'poets']\n",
      "['Du', 'Fu', 'would', 'have', 'been', 'allowed', 'to', 'enter', 'the', 'civil', 'service', 'because', 'of', 'his', 'father', 's', 'rank', 'but', 'he', 'is', 'thought', 'to', 'have', 'given', 'up', 'the', 'privilege', 'in', 'favour', 'of', 'one', 'of', 'his', 'half', 'brothers']\n",
      "['Du', 'Fu', 'would', 'have', 'been', 'allowed', 'to', 'enter', 'the', 'civil', 'service', 'because', 'of', 'his', 'fathers', 'rank', 'but', 'he', 'is', 'thought', 'to', 'have', 'given', 'up', 'the', 'privilege', 'in', 'favour', 'of', 'one', 'of', 'his', 'half', 'brothers']\n",
      "['Like', 'many', 'other', 'poems', 'in', 'the', 'Tang', 'it', 'featured', 'the', 'theme', 'of', 'a', 'long', 'parting', 'between', 'friends', 'which', 'was', 'often', 'due', 'to', 'officials', 'being', 'frequently', 'transferred', 'to', 'the', 'provinces']\n",
      "['Like', 'many', 'other', 'poems', 'in', 'the', 'Tang', 'it', 'featured', 'the', 'theme', 'of', 'along', 'parting', 'between', 'friends', 'which', 'was', 'often', 'due', 'to', 'officials', 'being', 'frequently', 'transferred', 'to', 'the', 'provinces']\n",
      "['Du', 'Fu', 's', 'political', 'comments', 'are', 'based', 'on', 'emotion', 'rather', 'than', 'calculation', 'his', 'unk', 'have', 'been', 'unk', 'as', 'Let', 'us', 'all', 'be', 'less', 'selfish', 'let', 'us', 'all', 'do', 'what', 'we', 'are', 'supposed', 'to', 'do']\n",
      "['Du', 'Fu', 's', 'political', 'comments', 'are', 'based', 'one', 'motion', 'rather', 'than', 'calculation', 'his', 'unk', 'have', 'been', 'unk', 'as', 'Let', 'us', 'all', 'be', 'less', 'selfish', 'let', 'us', 'all', 'do', 'what', 'we', 'are', 'supposed', 'to', 'do']\n",
      "['A', 'second', 'favourite', 'epithet', 'of', 'Chinese', 'critics', 'is', 'that', 'of', 'poet', 'sage', 'unk', 'unk', 'unk', 'a', 'counterpart', 'to', 'the', 'philosophical', 'sage', 'unk']\n",
      "['A', 'second', 'favourite', 'epithet', 'of', 'Chinese', 'critics', 'is', 'that', 'of', 'poets', 'age', 'unk', 'unk', 'unk', 'a', 'counterpart', 'to', 'the', 'philosophical', 'sage', 'unk']\n",
      "['Early', 'positive', 'comments', 'came', 'from', 'unk', 'unk', 'who', 'praised', 'the', 'moral', 'sentiments', 'of', 'some', 'of', 'Du', 'Fu', 's', 'works', 'although', 'he', 'found', 'these', 'in', 'only', 'a', 'small', 'fraction', 'of', 'the', 'poems', 'and', 'from', 'Han', 'Yu', 'who', 'wrote', 'a', 'piece', 'defending', 'Du', 'Fu', 'and', 'Li', 'unk', 'on', 'aesthetic', 'grounds', 'from', 'attacks', 'made', 'against', 'them']\n",
      "['Early', 'positive', 'comments', 'came', 'from', 'unk', 'unk', 'who', 'praised', 'the', 'moral', 'sentiments', 'of', 'some', 'of', 'Du', 'Fu', 's', 'works', 'although', 'he', 'found', 'these', 'in', 'only', 'a', 'small', 'fraction', 'of', 'the', 'poems', 'and', 'from', 'Han', 'Yu', 'who', 'wrote', 'apiece', 'defending', 'Du', 'Fu', 'and', 'Li', 'unk', 'on', 'aesthetic', 'grounds', 'from', 'attacks', 'made', 'against', 'them']\n",
      "['Since', 'the', 'establishment', 'of', 'the', 'People', 's', 'Republic', 'of', 'China', 'Du', 'Fu', 's', 'loyalty', 'to', 'the', 'state', 'and', 'concern', 'for', 'the', 'poor', 'have', 'been', 'interpreted', 'as', 'embryonic', 'nationalism', 'and', 'socialism', 'and', 'he', 'has', 'been', 'praised', 'for', 'his', 'use', 'of', 'simple', 'people', 's', 'language']\n",
      "['Since', 'the', 'establishment', 'of', 'the', 'Peoples', 'Republic', 'of', 'China', 'Du', 'Fu', 's', 'loyalty', 'to', 'the', 'state', 'and', 'concern', 'for', 'the', 'poor', 'have', 'been', 'interpreted', 'as', 'embryonic', 'nationalism', 'and', 'socialism', 'and', 'he', 'has', 'been', 'praised', 'for', 'his', 'use', 'of', 'simple', 'peoples', 'language']\n",
      "['While', 'there', 'was', 'never', 'another', 'Du', 'Fu', 'individual', 'poets', 'followed', 'in', 'the', 'traditions', 'of', 'specific', 'aspects', 'of', 'his', 'work', 'unk', 'unk', 's', 'concern', 'for', 'the', 'poor', 'Lu', 'You', 's', 'patriotism', 'and', 'unk', 'unk', 's', 'unk', 'on', 'the', 'unk', 'are', 'a', 'few', 'examples']\n",
      "['While', 'there', 'was', 'never', 'another', 'Du', 'Fu', 'individual', 'poets', 'followed', 'in', 'the', 'traditions', 'of', 'specific', 'aspects', 'of', 'his', 'work', 'unk', 'unk', 's', 'concern', 'for', 'the', 'poor', 'Lu', 'You', 's', 'patriotism', 'and', 'unk', 'unk', 's', 'unk', 'on', 'the', 'unk', 'area', 'few', 'examples']\n",
      "['More', 'broadly', 'Du', 'Fu', 's', 'work', 'in', 'transforming', 'the', 'unk', 'from', 'mere', 'word', 'play', 'into', 'a', 'vehicle', 'for', 'serious', 'poetic', 'unk', 'set', 'the', 'stage', 'for', 'every', 'subsequent', 'writer', 'in', 'the', 'genre']\n",
      "['More', 'broadly', 'Du', 'Fu', 's', 'work', 'in', 'transforming', 'the', 'unk', 'from', 'mere', 'wordplay', 'into', 'a', 'vehicle', 'for', 'serious', 'poetic', 'unk', 'set', 'the', 'stage', 'for', 'every', 'subsequent', 'writer', 'in', 'the', 'genre']\n",
      "['It', 'is', 'said', 'that', 'when', 'he', 'died', 'in', 'Osaka', 'during', 'a', 'long', 'travel', 'a', 'copy', 'of', 'Du', 'Fu', 's', 'poetry', 'was', 'found', 'with', 'him', 'as', 'one', 'of', 'a', 'few', 'precious', 'items', 'which', 'he', 'was', 'able', 'to', 'carry', 'around']\n",
      "['It', 'is', 'said', 'that', 'when', 'he', 'died', 'in', 'Osaka', 'during', 'along', 'travel', 'a', 'copy', 'of', 'Du', 'Fu', 's', 'poetry', 'was', 'found', 'with', 'him', 'as', 'one', 'of', 'a', 'few', 'precious', 'items', 'which', 'he', 'was', 'able', 'to', 'carry', 'around']\n",
      "['It', 'was', 'released', 'as', 'the', 'record', 's', 'second', 'single', 'in', 'Germany', 'and', 'the', 'third', 'overall', 'single', 'on', '7', 'January', '2013']\n",
      "['It', 'was', 'released', 'as', 'the', 'records', 'second', 'single', 'in', 'Germany', 'and', 'the', 'third', 'overall', 'single', 'on', '7', 'January', '2013']\n",
      "['Kiss', 'You', 'is', 'an', 'upbeat', 'power', 'pop', 'song', 'with', 'electronic', 'effects', 'the', 'lyrics', 'detail', 'a', 'protagonist', 's', 'infatuation', 'with', 'a', 'significant', 'other']\n",
      "['Kiss', 'You', 'is', 'an', 'upbeat', 'power', 'pop', 'song', 'with', 'electronic', 'effects', 'the', 'lyrics', 'detail', 'a', 'protagonists', 'infatuation', 'with', 'a', 'significant', 'other']\n",
      "['Critics', 'praised', 'the', 'song', 'for', 'its', 'production', 'calling', 'it', 'a', 'stand', 'out', 'track', 'on', 'Take', 'Me', 'Home']\n",
      "['Critics', 'praised', 'the', 'song', 'for', 'its', 'production', 'calling', 'it', 'a', 'standout', 'track', 'on', 'Take', 'Me', 'Home']\n",
      "['The', 'track', 'became', 'the', 'group', 's', 'sixth', 'top', 'ten', 'hit', 'in', 'Ireland', 'and', 'the', 'United', 'Kingdom', 'while', 'attaining', 'top', 'forty', 'positions', 'in', 'both', 'Belgian', 'territories', 'Flanders', 'and', 'Wallonia', 'as', 'well', 'as', 'in', 'Australia', 'Canada', 'Denmark', 'France', 'New', 'Zealand', 'and', 'the', 'Netherlands']\n",
      "['The', 'track', 'became', 'the', 'groups', 'sixth', 'top', 'ten', 'hit', 'in', 'Ireland', 'and', 'the', 'United', 'Kingdom', 'while', 'attaining', 'top', 'forty', 'positions', 'in', 'both', 'Belgian', 'territories', 'Flanders', 'and', 'Wallonia', 'as', 'well', 'as', 'in', 'Australia', 'Canada', 'Denmark', 'France', 'New', 'Zealand', 'and', 'the', 'Netherlands']\n",
      "['An', 'accompanying', 'music', 'video', 'designed', 'to', 'display', 'the', 'group', 's', 'comedic', 'timing', 'was', 'directed', 'by', 'Vaughan', 'unk', 'who', 'had', 'previously', 'worked', 'with', 'the', 'group', 'on', 'two', 'other', 'music', 'videos']\n",
      "['An', 'accompanying', 'music', 'video', 'designed', 'to', 'display', 'the', 'groups', 'comedic', 'timing', 'was', 'directed', 'by', 'Vaughan', 'unk', 'who', 'had', 'previously', 'worked', 'with', 'the', 'group', 'on', 'two', 'other', 'music', 'videos']\n",
      "['unk', 'unk', 'and', 'unk', 'had', 'unk', 'composed', 'One', 'Direction', 's', 'previous', 'hit', 'singles', 'What', 'Makes', 'You', 'Beautiful', 'One', 'Thing', 'and', 'Live', 'While', 'We', 're', 'Young']\n",
      "['unk', 'unk', 'and', 'unk', 'had', 'unk', 'composed', 'One', 'Directions', 'previous', 'hit', 'singles', 'What', 'Makes', 'You', 'Beautiful', 'One', 'Thing', 'and', 'Live', 'While', 'Were', 'Young']\n",
      "['In', 'April', '2012', 'The', 'Independent', 'reported', 'that', 'Simon', 'Cowell', 'the', 'group', 's', 'manager', 'had', 'challenged', 'prominent', 'songwriters', 'to', 'compete', 'for', 'space', 'on', 'One', 'Direction', 's', 'second', 'album']\n",
      "['In', 'April', '2012', 'The', 'Independent', 'reported', 'that', 'Simon', 'Cowell', 'the', 'groups', 'manager', 'had', 'challenged', 'prominent', 'songwriters', 'to', 'compete', 'for', 'space', 'on', 'One', 'Directions', 'second', 'album']\n",
      "['unk', 'said', 'It', 's', 'important', 'to', 'get', 'their', 'personalities', 'on', 'the', 'music']\n",
      "['unk', 'said', 'Its', 'important', 'to', 'get', 'their', 'personalities', 'on', 'the', 'music']\n",
      "['Liam', 'Payne', 'a', 'group', 'member', 'in', 'a', 'November', '2012', 'interview', 'with', 'MTV', 'News', 'explained', 'why', 'they', 'chose', 'Kiss', 'You', 'as', 'the', 'album', 's', 'second', 'single', 'in', 'the', 'US']\n",
      "['Liam', 'Payne', 'a', 'group', 'member', 'in', 'a', 'November', '2012', 'interview', 'with', 'MTV', 'News', 'explained', 'why', 'they', 'chose', 'Kiss', 'You', 'as', 'the', 'albums', 'second', 'single', 'in', 'the', 'US']\n",
      "['The', 'track', 'however', 'was', 'released', 'by', 'Sony', 'Music', 'Entertainment', 'on', '8', 'February', '2013', 'as', 'the', 'record', 's', 'second', 'single', 'in', 'Germany']\n",
      "['The', 'track', 'however', 'was', 'released', 'by', 'Sony', 'Music', 'Entertainment', 'on', '8', 'February', '2013', 'as', 'the', 'records', 'second', 'single', 'in', 'Germany']\n",
      "['Kiss', 'You', 'is', 'an', 'uptempo', 'upbeat', 'power', 'pop', 'song', 'which', 'runs', 'for', 'a', 'duration', 'of', '3', '04', '3', 'minutes', 'four', 'seconds']\n",
      "['Kiss', 'You', 'is', 'an', 'uptempo', 'upbeat', 'power', 'pop', 'song', 'which', 'runs', 'for', 'a', 'duration', 'of', '30', '43', 'minutes', 'four', 'seconds']\n",
      "['The', 'track', 'features', 'electronic', 'effects', 'colossal', 'hooks', 'a', 'na', 'na', 'na', 'breakdown', 'and', 'a', 'Motown', 'unk', 'melody']\n",
      "['The', 'track', 'features', 'electronic', 'effects', 'colossal', 'hooks', 'an', 'an', 'an', 'a', 'breakdown', 'and', 'a', 'Motown', 'unk', 'melody']\n",
      "['One', 'Direction', 's', 'vocal', 'range', 'in', 'the', 'song', 'span', 'from', 'the', 'note', 'of', 'E4', 'to', 'C', '6']\n",
      "['One', 'Directions', 'vocal', 'range', 'in', 'the', 'song', 'span', 'from', 'the', 'note', 'of', 'E4', 'to', 'C', '6']\n",
      "['Written', 'in', 'the', 'key', 'of', 'E', 'major', 'the', 'beat', 'is', 'set', 'in', 'common', 'time', 'and', 'moves', 'at', 'a', 'quick', '90', 'beats', 'per', 'minute', 'according', 'to', 'the', 'digital', 'sheet', 'music', 'published', 'at', 'Musicnotes']\n",
      "['Written', 'in', 'the', 'key', 'of', 'E', 'major', 'the', 'beat', 'is', 'set', 'in', 'common', 'time', 'and', 'moves', 'at', 'a', 'quick', '90', 'beats', 'per', 'minute', 'according', 'to', 'the', 'digital', 'sheet', 'music', 'published', 'at', 'Music', 'notes']\n",
      "['com', 'by', 'Sony', 'ATV', 'Music', 'Publishing']\n",
      "['co', 'm', 'by', 'Sony', 'ATV', 'Music', 'Publishing']\n",
      "['The', 'lyrical', 'content', 'regards', 'the', 'protagonist', 's', 'infatuation', 'with', 'a', 'significant', 'other', 'and', 'incorporates', 'unk', 'for', 'sexual', 'intercourse', 'in', 'the', 'lines', 'If', 'you', 'don', 't', 'wanna', 'take', 'it', 'slow', 'And', 'you', 'just', 'wanna', 'take', 'me', 'home', 'Baby', 'say', 'yeah', 'yeah', 'yeah', 'yeah', 'yeah']\n",
      "['The', 'lyrical', 'content', 'regards', 'the', 'protagonists', 'infatuation', 'with', 'a', 'significant', 'other', 'and', 'incorporates', 'unk', 'for', 'sexual', 'intercourse', 'in', 'the', 'lines', 'If', 'you', 'don', 't', 'wanna', 'take', 'its', 'low', 'And', 'you', 'just', 'wanna', 'take', 'me', 'home', 'Baby', 'say', 'yeah', 'yeah', 'yeah', 'yeah', 'yeah']\n",
      "['Both', 'Rolling', 'Stone', 's', 'Jon', 'Dolan', 'who', 'praised', 'its', 'effectiveness', 'and', 'Chris', 'Payne', 'of', 'Billboard', 'who', 'appreciated', 'the', 'melody', 'described', 'Kiss', 'You', 'as', 'one', 'of', 'the', 'album', 's', 'highlights']\n",
      "['Both', 'Rolling', 'Stones', 'Jon', 'Dolan', 'who', 'praised', 'its', 'effectiveness', 'and', 'Chris', 'Payne', 'of', 'Billboard', 'who', 'appreciated', 'the', 'melody', 'described', 'Kiss', 'You', 'as', 'one', 'of', 'the', 'albums', 'highlights']\n",
      "['Alexis', 'unk', 'for', 'The', 'Guardian', 'commended', 'the', 'track', 's', 'chorus', 'as', 'hard', 'to', 'unk', 'from', 'your', 'brain']\n",
      "['Alexis', 'unk', 'for', 'The', 'Guardian', 'commended', 'the', 'tracks', 'chorus', 'as', 'hard', 'to', 'unk', 'from', 'your', 'brain']\n",
      "['Robert', 'Copsey', 'of', 'Digital', 'Spy', 'noted', 'the', 'song', 's', 'possibility', 'to', 'become', 'an', 'international', 'hit', 'unk', 'it', 'unk']\n",
      "['Robert', 'Copsey', 'of', 'Digital', 'Spy', 'noted', 'the', 'songs', 'possibility', 'to', 'become', 'an', 'international', 'hit', 'unk', 'it', 'unk']\n",
      "['A', 'reviewer', 'for', 'MTV', 'News', 'described', 'the', 'track', 's', 'unk', 'as', 'butterflies', 'inducing', 'and', 'Sam', 'unk', 'of', 'Idolator', 'wrote', 'that', 'Kiss', 'You', 'is', 'noticeably', 'a', 'stand', 'out', 'track', 'on', 'its', 'parent', 'album']\n",
      "['A', 'reviewer', 'for', 'MTV', 'News', 'described', 'the', 'tracks', 'unk', 'as', 'butterflies', 'inducing', 'and', 'Sam', 'unk', 'of', 'Idolator', 'wrote', 'that', 'Kiss', 'You', 'is', 'noticeably', 'a', 'standout', 'track', 'on', 'its', 'parent', 'album']\n",
      "['Melinda', 'Newman', 'writing', 'for', 'HitFix', 'regarded', 'the', 'song', 'as', 'a', 'unk', 'electronic', 'infectious', 'ditty', 'while', 'Chris', 'unk', 'a', 'critic', 'from', 'unk', 'deemed', 'it', 'an', 'amazing', 'pop', 'song', 'lauding', 'the', 'group', 's', 'falsetto', 'and', 'its', 'head', 'unk', 'unk', 'chorus']\n",
      "['Melinda', 'Newman', 'writing', 'for', 'HitFix', 'regarded', 'the', 'song', 'as', 'a', 'unk', 'electronic', 'infectious', 'ditty', 'while', 'Chris', 'unk', 'a', 'critic', 'from', 'unk', 'deemed', 'it', 'an', 'amazing', 'pop', 'song', 'lauding', 'the', 'groups', 'falsetto', 'and', 'its', 'head', 'unk', 'unk', 'chorus']\n",
      "['It', 'peaked', 'at', 'number', 'nine', 'on', 'the', 'UK', 'Singles', 'Chart', 'on', '26', 'January', '2013', 'becoming', 'One', 'Direction', 's', 'sixth', 'top', 'ten', 'hit', 'in', 'the', 'United', 'Kingdom']\n",
      "['It', 'peaked', 'at', 'number', 'nine', 'on', 'the', 'UK', 'Singles', 'Chart', 'on', '26', 'January', '2013', 'becoming', 'One', 'Directions', 'sixth', 'top', 'ten', 'hit', 'in', 'the', 'United', 'Kingdom']\n",
      "['The', 'song', 'became', 'One', 'Direction', 's', 'fourth', 'top', 'forty', 'hit', 'on', 'the', 'Canadian', 'Hot', '100', 'peaking', 'at', 'number', '30']\n",
      "['The', 'song', 'became', 'One', 'Directions', 'fourth', 'top', 'forty', 'hit', 'on', 'the', 'Canadian', 'Hot', '100', 'peaking', 'at', 'number', '30']\n",
      "['The', 'single', 'bowed', 'at', 'number', '13', 'on', 'the', 'Australian', 'Singles', 'Chart', 'on', '27', 'January', '2013', 'marking', 'its', 'peak', 'position', 'and', 'the', 'group', 's', 'fourth', 'top', 'twenty', 'hit', 'in', 'Australia']\n",
      "['The', 'single', 'bowed', 'at', 'number', '13', 'on', 'the', 'Australian', 'Singles', 'Chart', 'on', '27', 'January', '2013', 'marking', 'its', 'peak', 'position', 'and', 'the', 'groups', 'fourth', 'top', 'twenty', 'hit', 'in', 'Australia']\n",
      "['It', 'peaked', 'at', 'number', '13', 'in', 'its', 'third', 'and', 'fourth', 'charting', 'weeks', 'unk', 'the', 'group', 's', 'sixth', 'top', 'forty', 'appearance', 'in', 'New', 'Zealand']\n",
      "['It', 'peaked', 'at', 'number', '13', 'in', 'its', 'third', 'and', 'fourth', 'charting', 'weeks', 'unk', 'the', 'groups', 'sixth', 'top', 'forty', 'appearance', 'in', 'New', 'Zealand']\n",
      "['The', 'accompanying', 'music', 'video', 'directed', 'by', 'Vaughan', 'unk', 'who', 'had', 'previously', 'directed', 'One', 'Direction', 's', 'music', 'videos', 'for', 'Live', 'While', 'We', 're', 'Young', 'and', 'Little', 'Things', 'was', 'designed', 'to', 'showcase', 'the', 'group', 's', 'comedic', 'timing']\n",
      "['The', 'accompanying', 'music', 'video', 'directed', 'by', 'Vaughan', 'unk', 'who', 'had', 'previously', 'directed', 'One', 'Directions', 'music', 'videos', 'for', 'Live', 'While', 'Were', 'Young', 'and', 'Little', 'Things', 'was', 'designed', 'to', 'showcase', 'the', 'groups', 'comedic', 'timing']\n",
      "['Inspired', 'by', 'the', 'Beach', 'Boys', 'cult', 'surfing', 'films', 'old', 'Hollywood', 'and', 'British', 'cinema', 'the', 'music', 'video', 'incorporates', 'a', 'unk', 'vibe', 'and', 'a', 'British', 'kind', 'of', 'romp', 'as', 'noted', 'by', 'unk', 'in', 'a', 'MTV', 'News', 'interview']\n",
      "['Inspired', 'by', 'the', 'Beach', 'Boys', 'cult', 'surfing', 'film', 'sold', 'Hollywood', 'and', 'British', 'cinema', 'the', 'music', 'video', 'incorporates', 'a', 'unk', 'vibe', 'and', 'a', 'British', 'kind', 'of', 'romp', 'as', 'noted', 'by', 'unk', 'in', 'a', 'MTV', 'News', 'interview']\n",
      "['Shot', 'by', 'November', '2012', 'the', 'music', 'video', 'was', 'characterised', 'in', 'several', 'MTV', 'News', 'interviews', 'as', 'bigger', 'than', 'anything', 'we', 've', 'done', 'before', 'by', 'unk', 'unk', 'as', 'a', 'lot', 'of', 'hard', 'work', 'by', 'Payne', 'as', 'pure', 'unk', 'by', 'Louis', 'unk', 'and', 'as', 'I', 'wouldn', 't', 'say', 'it', 's', 'comedy', 'it', 's', 'all', 'tongue', 'in', 'cheek', 'by', 'unk']\n",
      "['Shot', 'by', 'November', '2012', 'the', 'music', 'video', 'was', 'characterised', 'in', 'several', 'MTV', 'News', 'interviews', 'as', 'bigger', 'than', 'anything', 'we', 've', 'done', 'before', 'by', 'unk', 'unk', 'as', 'a', 'lot', 'of', 'hard', 'work', 'by', 'Payne', 'as', 'pure', 'unk', 'by', 'Louis', 'unk', 'and', 'as', 'I', 'wouldn', 't', 'say', 'its', 'comedy', 'its', 'all', 'tongue', 'in', 'cheek', 'by', 'unk']\n",
      "['Despite', 'a', '34', 'gain', 'in', 'weekly', 'activity', 'to', 'their', 'unk', 'channel', 'with', 'the', 'clip', 's', 'success', 'and', 'preceding', 'teaser', 'videos', 'earning', '38', 'million', 'views', 'during', 'the', 'week', 'One', 'Direction', 'held', 'at', 'number', 'two', 'on', 'the', 'Billboard', 's', 'Social', '50', 'chart', 'A', '15', 'rise', 'in', 'Facebook', 'reaction', 'gave', 'way', 'to', 'a', '154', '000', 'increase', 'in', 'Facebook', 'likes', 'during', 'the', 'week']\n",
      "['Despite', 'a', '34', 'gain', 'in', 'weekly', 'activity', 'to', 'their', 'unk', 'channel', 'with', 'the', 'clips', 'success', 'and', 'preceding', 'teaser', 'videos', 'earning', '38', 'million', 'views', 'during', 'the', 'week', 'One', 'Direction', 'held', 'at', 'number', 'two', 'on', 'the', 'Billboard', 's', 'Social', '50', 'chart', 'A', '15', 'rise', 'in', 'Facebook', 'reaction', 'gave', 'way', 'to', 'a', '154', '000', 'increase', 'in', 'Facebook', 'likes', 'during', 'the', 'week']\n",
      "['191', '000', 'Twitter', 'followers', 'added', 'contributed', 'to', 'their', 'overall', 'fan', 'base', 'increase', 'as', 'well']\n",
      "['19', '1000', 'Twitter', 'followers', 'added', 'contributed', 'to', 'their', 'overall', 'fanbase', 'increase', 'as', 'well']\n",
      "['Melinda', 'Newman', 'a', 'contributor', 'for', 'HitFix', 'favoured', 'the', 'clip', 'as', 'having', 'everything', 'a', 'video', 'by', 'a', 'boy', 'band', 'should', 'be', 'and', 'found', 'group', 's', 'careless', 'tone', 'delightful']\n",
      "['Melinda', 'Newman', 'a', 'contributor', 'for', 'HitFix', 'favoured', 'the', 'clip', 'as', 'having', 'everything', 'a', 'video', 'by', 'a', 'boy', 'band', 'should', 'be', 'and', 'found', 'groups', 'careless', 'tone', 'delightful']\n",
      "['Kiss', 'You', 'was', 'included', 'in', 'the', 'set', 'list', 'of', 'the', 'group', 's', '3', 'December', '2012', 'sold', 'out', 'show', 'at', 'New', 'York', 'City', 's', 'Madison', 'Square', 'Garden']\n",
      "['Kiss', 'You', 'was', 'included', 'in', 'the', 'setlist', 'of', 'the', 'groups', '3', 'December', '2012', 'sold', 'out', 'show', 'at', 'New', 'York', 'City', 's', 'Madison', 'Square', 'Garden']\n",
      "['Considering', 'One', 'Direction', 'the', 'franchise', 's', 'biggest', 'success', 'story', 'an', 'editor', 'for', 'The', 'Huffington', 'Post', 'opined', 'that', 'the', 'boy', 'band', 's', 'prominent', 'presence', 'on', 'both', 'the', 'US', 'and', 'UK', 'versions', 'of', 'The', 'X', 'Factor', 'seemed', 'fitting']\n",
      "['Considering', 'One', 'Direction', 'the', 'franchises', 'biggest', 'success', 'story', 'an', 'editor', 'for', 'The', 'Huffington', 'Post', 'opined', 'that', 'the', 'boy', 'bands', 'prominent', 'presence', 'on', 'both', 'the', 'US', 'and', 'UK', 'versions', 'of', 'The', 'X', 'Factor', 'seemed', 'fitting']\n",
      "['They', 'were', 'modernized', 'in', '1934', '37', 'with', 'improvements', 'to', 'their', 'armour', 'and', 'machinery', 'and', 'a', 'rebuilt', 'superstructure', 'in', 'the', 'pagoda', 'mast', 'style']\n",
      "['They', 'were', 'modernized', 'in', '1934', '37', 'with', 'improvements', 'to', 'their', 'armour', 'and', 'machinery', 'and', 'are', 'built', 'superstructure', 'in', 'the', 'pagoda', 'mast', 'style']\n",
      "['The', 'sisters', 'were', 'then', 'reduced', 'to', 'reserve', 'until', 'they', 'were', 'sunk', 'during', 'American', 'airstrikes', 'in', 'July']\n",
      "['The', 'sisters', 'were', 'then', 'reduced', 'to', 'reserve', 'until', 'they', 'were', 's', 'unk', 'during', 'American', 'airstrikes', 'in', 'July']\n",
      "['Accordingly', 'the', '1907', 'Imperial', 'Defence', 'Policy', 'called', 'for', 'the', 'construction', 'of', 'a', 'battle', 'fleet', 'of', 'eight', 'modern', 'battleships', '20', '000', 'long', 'tons', '20', '321', 't', 'each', 'and', 'eight', 'modern', 'armoured', 'cruisers', '18', '000', 'long', 'tons', '18', 'unk', 't', 'each']\n",
      "['Accordingly', 'the', '1907', 'Imperial', 'Defence', 'Policy', 'called', 'for', 'the', 'construction', 'of', 'a', 'battle', 'fleet', 'of', 'eight', 'modern', 'battleships', '20', '000', 'long', 'tons', '203', '21', 'teach', 'and', 'eight', 'modern', 'armoured', 'cruisers', '18', '000', 'long', 'tons', '18', 'unk', 'teach']\n",
      "['This', 'was', 'the', 'genesis', 'of', 'the', 'Eight', 'Eight', 'Fleet', 'Program', 'the', 'development', 'of', 'a', 'cohesive', 'battle', 'line', 'of', 'sixteen', 'capital', 'ships']\n",
      "['This', 'was', 'the', 'genesis', 'of', 'the', 'Eight', 'Eight', 'Fleet', 'Program', 'the', 'development', 'of', 'a', 'cohesive', 'battleline', 'of', 'sixteen', 'capital', 'ships']\n",
      "['It', 'also', 'decided', 'that', 'the', 'barbette', 'armour', 'of', 'the', 'earlier', 'ships', 'was', 'too', 'thin', 'and', 'wanted', 'a', 'modest', 'increase', 'in', 'speed', 'to', 'partially', 'counter', 'the', 'higher', 'speeds', 'of', 'the', 'latest', 'foreign', 'ships', 'like', 'the', 'British', 'Queen', 'Elizabeth', 'class', 'battleships', 'and', 'Russian', 'unk', 'class', 'battlecruisers']\n",
      "['It', 'also', 'decided', 'that', 'the', 'barbette', 'armour', 'of', 'the', 'earlier', 'ships', 'was', 'tooth', 'in', 'and', 'wanted', 'a', 'modest', 'increase', 'in', 'speed', 'to', 'partially', 'counter', 'the', 'higher', 'speeds', 'of', 'the', 'latest', 'foreign', 'ships', 'like', 'the', 'British', 'Queen', 'Elizabeth', 'class', 'battleships', 'and', 'Russian', 'unk', 'class', 'battlecruisers']\n",
      "['This', 'reduced', 'the', 'crew', 's', 'accommodations', 'despite', 'a', 'significant', 'increase', 'in', 'the', 'crew', 's', 'numbers', 'and', 'naval', 'historian', 'unk', 'unk', 'believed', 'that', 'these', 'ships', 'had', 'the', 'worst', 'unk', 'of', 'any', 'Japanese', 'capital', 'ship']\n",
      "['This', 'reduced', 'the', 'crews', 'accommodations', 'despite', 'a', 'significant', 'increase', 'in', 'the', 'crews', 'numbers', 'and', 'naval', 'historian', 'unk', 'unk', 'believed', 'that', 'these', 'ships', 'had', 'the', 'worst', 'unk', 'of', 'any', 'Japanese', 'capital', 'ship']\n",
      "['18', 'metres', 'unk', 'ft', '0', 'in', 'overall', 'a', 'beam', 'of', '28']\n",
      "['18', 'metres', 'unk', 'ft', '0', 'in', 'overall', 'abeam', 'of', '28']\n",
      "['Their', 'displacement', 'increased', 'over', '5', '000', 'long', 'tons', '5', '100', 't', 'to', '42', '001', 'long', 'tons', '42', 'unk', 't', 'at', 'deep', 'load']\n",
      "['Their', 'displacement', 'increased', 'over', '5000', 'long', 'tons', '5', '100', 't', 'to', '4', '2001', 'long', 'tons', '42', 'unk', 't', 'at', 'deep', 'load']\n",
      "['The', 'unk', 'class', 'ships', 'had', 'two', 'sets', 'of', 'direct', 'drive', 'steam', 'turbines', 'each', 'of', 'which', 'drove', 'two', 'propeller', 'shafts', 'with', '3']\n",
      "['The', 'unk', 'class', 'ships', 'had', 'two', 'sets', 'of', 'direct', 'drives', 'team', 'turbines', 'each', 'of', 'which', 'drove', 'two', 'propeller', 'shafts', 'with', '3']\n",
      "['9', 'kg', 'unk', '1', '275', '1', 'unk', 'unk', '185', '240', 'unk']\n",
      "['9', 'kg', 'unk', '1275', '1', 'unk', 'unk', '1852', '40', 'unk']\n",
      "['Each', 'of', 'the', 'boilers', 'consumed', 'a', 'mixture', 'of', 'coal', 'and', 'oil', 'and', 'the', 'ships', 'had', 'a', 'stowage', 'capacity', 'of', '4', 'unk', 'long', 'tons', '4', 'unk', 't', 'of', 'coal', 'and', '1', 'unk', 'long', 'tons', '1', 'unk', 't', 'of', 'fuel', 'oil', 'which', 'gave', 'them', 'a', 'range', 'of', '9', '680', 'nautical', 'miles', '17', '930', 'km', '11', '140', 'mi', 'at', 'a', 'speed', 'of', '14', 'knots', '26', 'km', 'h', '16', 'mph']\n",
      "['Each', 'of', 'the', 'boilers', 'consumed', 'a', 'mixture', 'of', 'coal', 'and', 'oil', 'and', 'the', 'ships', 'had', 'a', 'stowage', 'capacity', 'of', '4', 'unk', 'long', 'tons', '4', 'unk', 't', 'of', 'coal', 'and', '1', 'unk', 'long', 'tons', '1', 'unk', 't', 'of', 'fuel', 'oil', 'which', 'gave', 'them', 'a', 'range', 'of', '96', '80', 'nautical', 'miles', '1793', '0', 'km', '11', '140', 'mi', 'at', 'a', 'speed', 'of', '14', 'knots', '26', 'km', 'h', '16', 'mph']\n",
      "['On', 'her', 'trials', 'unk', 'reached', 'a', 'top', 'speed', 'of', '25']\n",
      "['On', 'her', 'trials', 'unk', 'reached', 'atop', 'speed', 'of', '25']\n",
      "['The', 'fuel', 'storage', 'of', 'the', 'ships', 'was', 'increased', 'to', 'a', 'total', 'of', '5', '113', 'long', 'tons', '5', '195', 't', 'of', 'fuel', 'oil', 'that', 'gave', 'them', 'a', 'range', 'of', '7', 'unk', 'nautical', 'miles', '14', '580', 'km', '9', '060', 'mi', 'at', 'a', 'speed', 'of', '16', 'knots', '30', 'km', 'h', '18', 'mph']\n",
      "['The', 'fuel', 'storage', 'of', 'the', 'ships', 'was', 'increased', 'to', 'a', 'total', 'of', '51', '13', 'long', 'tons', '51', '95', 't', 'of', 'fuel', 'oil', 'that', 'gave', 'them', 'a', 'range', 'of', '7', 'unk', 'nautical', 'miles', '145', '80', 'km', '90', '60', 'mi', 'at', 'a', 'speed', 'of', '16', 'knots', '30', 'km', 'h', '18', 'mph']\n",
      "['The', 'unk', 'powered', 'turrets', 'had', 'an', 'elevation', 'capability', 'of', '5', '20', 'degrees']\n",
      "['The', 'unk', 'powered', 'turrets', 'had', 'an', 'elevation', 'capability', 'of', '520', 'degrees']\n",
      "['5', '2', 'rounds', 'per', 'minute', 'and', 'could', 'be', 'loaded', 'at', 'any', 'angle', 'between', 'unk', 'and', '20', 'degrees']\n",
      "['52', 'rounds', 'per', 'minute', 'and', 'could', 'be', 'loaded', 'at', 'any', 'angle', 'between', 'unk', 'and', '20', 'degrees']\n",
      "['5', 'kilograms', '1', 'unk', 'lb', 'and', 'was', 'fired', 'at', 'a', 'muzzle', 'velocity', 'of', '770', '775', 'metres', 'per', 'second', '2', 'unk', '2', '540', 'ft', 's']\n",
      "['5', 'kilograms', '1', 'unk', 'lb', 'and', 'was', 'fire', 'data', 'muzzle', 'velocity', 'of', '770', '775', 'metres', 'per', 'second', '2', 'unk', '25', '40', 'ft', 's']\n",
      "['Also', 'available', 'was', 'a', '625', 'kilogram', '1', 'unk', 'lb', 'high', 'explosive', 'shell', 'that', 'had', 'a', 'muzzle', 'velocity', 'of', '805', 'metres', 'per', 'second', '2', '640', 'ft', 's']\n",
      "['Also', 'available', 'was', 'a', '625', 'kilogram', '1', 'unk', 'lb', 'high', 'explosive', 'shell', 'that', 'had', 'a', 'muzzle', 'velocity', 'of', '805', 'metres', 'per', 'second', '26', '40', 'ft', 's']\n",
      "['They', 'had', 'three', 'settings', 'for', 'range', 'and', 'speed', '15', '000', 'metres', '16', '000', 'yd', 'at', '26', 'knots', '48', 'km', 'h', '30', 'mph', '10', '000', 'metres', '11', '000', 'yd', 'at', '32', 'knots', '59', 'km', 'h', '37', 'mph', 'or', '7', '000', 'metres', '7', '700', 'yd', 'at', '37', 'knots', '69', 'km', 'h', '43', 'mph']\n",
      "['They', 'had', 'three', 'settings', 'for', 'range', 'and', 'speed', '15', '000', 'metres', '16', '000', 'yd', 'at', '26', 'knots', '48', 'km', 'h', '30', 'mph', '10', '000', 'metres', '11', '000', 'yd', 'at', '32', 'knots', '59', 'km', 'h', '37', 'mph', 'or', '7000', 'metres', '7', '700', 'yd', 'at', '37', 'knots', '69', 'km', 'h', '43', 'mph']\n",
      "['When', 'firing', 'at', 'surface', 'targets', 'the', 'guns', 'had', 'a', 'range', 'of', '14', '700', 'metres', '16', '100', 'yd', 'they', 'had', 'a', 'ceiling', 'of', '9', '440', 'metres', '30', '970', 'ft', 'at', 'their', 'maximum', 'elevation', 'of', '90', 'degrees']\n",
      "['When', 'firing', 'at', 'surface', 'targets', 'the', 'guns', 'had', 'a', 'range', 'of', '14', '700', 'metres', '16', '100', 'yd', 'they', 'had', 'a', 'ceiling', 'of', '94', '40', 'metres', '30', '970', 'ft', 'at', 'their', 'maximum', 'elevation', 'of', '90', 'degrees']\n",
      "['98', 'in', 'guns', 'had', 'an', 'effective', 'range', 'of', '1', '500', '3', '000', 'metres', '1', '600', '3', '300', 'yd', 'and', 'an', 'effective', 'ceiling', 'of', '5', '500', 'metres', '18', '000', 'ft', 'at', 'an', 'elevation', 'of', '85', 'degrees']\n",
      "['98', 'in', 'guns', 'had', 'an', 'effective', 'range', 'of', '1500', '3000', 'metres', '1600', '3', '300', 'yd', 'and', 'an', 'effective', 'ceiling', 'of', '5', '500', 'metres', '18', '000', 'ft', 'at', 'an', 'elevation', 'of', '85', 'degrees']\n",
      "['While', 'the', 'details', 'of', 'the', 'ship', 's', 'fire', 'control', 'instruments', 'are', 'not', 'fully', 'available', 'it', 'is', 'known', 'that', 'the', 'ships', 'were', 'fitted', 'with', 'a', 'fire', 'control', 'director', 'after', 'completion']\n",
      "['While', 'the', 'details', 'of', 'the', 'ships', 'fire', 'control', 'instruments', 'are', 'not', 'fully', 'available', 'it', 'is', 'known', 'that', 'the', 'ships', 'were', 'fitted', 'with', 'a', 'fire', 'control', 'director', 'after', 'completion']\n",
      "['unk', '2', '3', 'and', '5', 'were', 'built', 'with', 'imported', '6', 'metre', '19', 'ft', '8', 'in', 'unk', 'unk', 'rangefinders']\n",
      "['unk', '23', 'and', '5', 'were', 'built', 'with', 'imported', '6', 'metre', '19', 'ft', '8', 'in', 'unk', 'unk', 'rangefinders']\n",
      "['81', 'metres', '9', 'ft', '3', 'in', 'at', 'full', 'load', 'as', 'a', 'result', 'of', 'the', 'reduction', 'in', 'the', 'displacement', 'by', 'over', '2', '000', 'tonnes', '2', '000', 'long', 'tons', 'to', '40', 'unk', 'tonnes', '39', '805', 'long', 'tons']\n",
      "['81', 'metres', '9', 'ft', '3', 'in', 'at', 'full', 'load', 'as', 'a', 'result', 'of', 'the', 'reduction', 'in', 'the', 'displacement', 'by', 'over', '2000', 'tonnes', '2000', 'long', 'tons', 'to', '40', 'unk', 'tonnes', '39', '805', 'long', 'tons']\n",
      "['unk', 'had', 'an', 'explosion', 'in', 'one', 'of', 'her', 'main', 'gun', 'turrets', 'that', 'killed', '11', 'men', 'and', 'injured', '25', 'in', '1919', 'the', 'following', 'year', 'she', 'accidentally', 'collided', 'with', 'and', 'sank', 'a', 'schooner', 'losing', 'two', 'crewmen']\n",
      "['unk', 'had', 'an', 'explosion', 'in', 'one', 'of', 'her', 'main', 'gun', 'turrets', 'that', 'killed', '11', 'men', 'and', 'injured', '25', 'in', '1919', 'the', 'following', 'years', 'he', 'accidentally', 'collided', 'with', 'and', 'sank', 'a', 'schooner', 'losing', 'two', 'crewmen']\n",
      "['unk', 'hosted', 'Edward', 'Prince', 'of', 'Wales', 'and', 'his', 'aide', 'de', 'camp', 'Lieutenant', 'Louis', 'unk', 'in', '1922', 'during', 'the', 'prince', 's', 'visit', 'to', 'Japan']\n",
      "['unk', 'hosted', 'Edward', 'Prince', 'of', 'Wales', 'and', 'his', 'aide', 'de', 'camp', 'Lieutenant', 'Louis', 'unk', 'in', '1922', 'during', 'the', 'princes', 'visit', 'to', 'Japan']\n",
      "['On', '11', 'May', 'a', 'valve', 'in', 'unk', 's', 'No']\n",
      "['On', '11', 'Maya', 'valve', 'in', 'unk', 's', 'No']\n",
      "['The', 'division', 's', 'unk', 'Naval', 'Air', 'Group', 'was', 'formed', 'that', 'same', 'day', 'and', 'conducted', 'its', 'first', 'catapult', 'launches', 'in', 'late', 'June']\n",
      "['The', 'divisions', 'unk', 'Naval', 'Air', 'Group', 'was', 'formed', 'that', 'same', 'day', 'and', 'conducted', 'its', 'first', 'catapult', 'launches', 'in', 'late', 'June']\n",
      "['The', 'Americans', 'finally', 'spotted', 'the', 'Japanese', 'carriers', 'at', '16', '40', 'some', '200', 'miles', '320', 'km', 'east', 'of', 'Cape', 'unk', 'the', 'northeastern', 'tip', 'of', 'Luzon']\n",
      "['The', 'Americans', 'finally', 'spotted', 'the', 'Japanese', 'carriers', 'at', '1640', 'some', '200', 'miles', '320', 'km', 'east', 'of', 'Cape', 'unk', 'the', 'northeastern', 'tip', 'of', 'Luzon']\n",
      "['The', 'sisters', 'were', 'not', 'heavily', 'engaged', 'by', 'the', 'early', 'airstrikes', 'which', 'are', 'focusing', 'on', 'the', 'group', 's', 'aircraft', 'carriers']\n",
      "['The', 'sisters', 'were', 'not', 'heavily', 'engaged', 'by', 'the', 'early', 'airstrikes', 'which', 'are', 'focusing', 'on', 'the', 'groups', 'aircraft', 'carriers']\n",
      "['While', 'an', 'exact', 'total', 'of', 'her', 'casualties', 'is', 'not', 'available', 'it', 'has', 'been', 'estimated', 'that', '5', 'men', 'were', 'killed', 'and', 'some', '111', '121', 'crewmen', 'were', 'wounded', 'during', 'this', 'attack']\n",
      "['While', 'an', 'exact', 'total', 'of', 'her', 'casualties', 'is', 'not', 'available', 'it', 'has', 'been', 'estimated', 'that', '5', 'men', 'were', 'killed', 'and', 'some', '11', '1121', 'crewmen', 'were', 'wounded', 'during', 'this', 'attack']\n",
      "['unk', 'was', 'unsuccessfully', 'attacked', 'by', 'an', 'American', 'submarine', 'at', '18', '43']\n",
      "['unk', 'was', 'unsuccessfully', 'attacked', 'by', 'an', 'American', 'submarine', 'at', '1843']\n",
      "['Around', '19', '00', 'Ozawa', 'learned', 'about', 'a', 'force', 'of', 'destroyers', 'and', 'cruisers', 'that', 'drove', 'off', 'the', 'Japanese', 'destroyers', 'rescuing', 'survivors', 'from', 'some', 'of', 'the', 'carriers', 'lost', 'earlier', 'in', 'the', 'day', 'and', 'sank', 'unk']\n",
      "['Around', '1900', 'Ozawa', 'learned', 'about', 'a', 'force', 'of', 'destroyers', 'and', 'cruisers', 'that', 'drove', 'off', 'the', 'Japanese', 'destroyers', 'rescuing', 'survivors', 'from', 'some', 'of', 'the', 'carriers', 'lost', 'earlier', 'in', 'the', 'day', 'and', 'sank', 'unk']\n",
      "['Also', 'carrying', 'some', '1', '150', 'unk', 'workers', 'they', 'were', 'escorted', 'by', 'unk', 'and', 'three', 'destroyers']\n",
      "['Also', 'carrying', 'some', '1150', 'unk', 'workers', 'they', 'were', 'escorted', 'by', 'unk', 'and', 'three', 'destroyers']\n",
      "['In', 'an', 'article', 'titled', 'unk', 'and', 'unk', 'Time', 'reported', 'on', 'unk', 's', 'performance', 'Of', 'the', 'few', 'teams', 'already', 'in', 'action', 'Michigan', 's', 'teens', 'rang', 'the', 'freshman', 'bell', 'unk', 'last', 'week', 'by', 'winning', 'their', 'opener', '12', 'unk', '7', 'against', 'the', 'strong', 'Iowa', 'Seahawks', 'Naval', 'Pre', 'Flight', '6', 'ft']\n",
      "['In', 'an', 'article', 'titled', 'unk', 'and', 'unk', 'Time', 'reported', 'on', 'unk', 's', 'performance', 'Of', 'the', 'few', 'teams', 'already', 'inaction', 'Michigan', 's', 'teens', 'rang', 'the', 'freshman', 'bell', 'unk', 'last', 'week', 'by', 'winning', 'their', 'opener', '12', 'unk', '7', 'against', 'the', 'strong', 'Iowa', 'Seahawks', 'Naval', 'Pre', 'Flight', '6', 'ft']\n",
      "['unk', 'continued', 'to', 'scramble', 'unk', 'signals', 'as', 'unk', 's', 'teammates', 'laughed', 'at', 'his', 'scheme']\n",
      "['unk', 'continued', 'to', 'scramble', 'unk', 'signals', 'as', 'unk', 's', 'teammates', 'laughed', 'a', 'this', 'scheme']\n",
      "['In', 'the', 'January', '1', '1948', 'Rose', 'Bowl', 'that', 'season', 'Michigan', 'rolled', 'to', 'a', '49', '0', 'victory', 'over', 'USC', 'and', 'they', 'unk', 'the', 'Trojans', '491', 'yards', 'to', '133']\n",
      "['In', 'the', 'January', '1', '1948', 'Rose', 'Bowl', 'that', 'season', 'Michigan', 'rolled', 'to', 'a', '490', 'victory', 'over', 'USC', 'and', 'they', 'unk', 'the', 'Trojans', '491', 'yards', 'to', '133']\n",
      "['unk', 'caught', 'a', '29', 'yard', 'pass', 'for', 'the', 'game', 's', 'final', 'score']\n",
      "['unk', 'caught', 'a', '29', 'yard', 'pass', 'for', 'the', 'games', 'final', 'score']\n",
      "['In', 'four', 'seasons', 'with', 'the', 'Michigan', 'Wolverines', 'unk', 'played', 'in', '32', 'games', 'and', 'had', 'over', '1', '000', 'yards', 'of', 'total', 'offense']\n",
      "['In', 'four', 'seasons', 'with', 'the', 'Michigan', 'Wolverines', 'unk', 'played', 'in', '32', 'games', 'and', 'had', 'over', '1000', 'yards', 'of', 'total', 'offense']\n",
      "['This', 'was', 'an', 'early', 'foray', 'into', 'television', 'by', 'the', 'Buffalo', 'Evening', 'News']\n",
      "['This', 'was', 'a', 'nearly', 'foray', 'into', 'television', 'by', 'the', 'Buffalo', 'Evening', 'News']\n",
      "['In', 'the', '1950s', 'unk', 'hosted', 'a', 'popular', 'panel', 'show', 'called', 'Let', 's', 'Talk', 'Sports', 'in', 'Buffalo', 'and', 'also', 'pioneered', 'an', 'early', 'morning', 'exercise', 'program']\n",
      "['In', 'the', '1950s', 'unk', 'hosted', 'a', 'popular', 'panel', 'show', 'called', 'Let', 's', 'Talk', 'Sports', 'in', 'Buffalo', 'and', 'also', 'pioneered', 'a', 'nearly', 'morning', 'exercise', 'program']\n",
      "['He', 'also', 'worked', 'for', 'unk', 'AM', 'and', 'unk', 'FM', 'and', 'as', 'the', 'unk', 'announcer', 'for', 'Buffalo', 'Bills', 'games', 'along', 'with', 'Van', 'Miller', 'the', 'long', 'time', 'Bills', 'play', 'by', 'play', 'announcer']\n",
      "['He', 'also', 'worked', 'for', 'unk', 'AM', 'and', 'unk', 'FM', 'and', 'as', 'the', 'unk', 'announcer', 'for', 'Buffalo', 'Bills', 'games', 'along', 'with', 'Van', 'Miller', 'the', 'longtime', 'Bills', 'play', 'by', 'play', 'announcer']\n",
      "['After', '30', 'years', 'with', 'unk', 'and', 'a', 'change', 'in', 'ownership', 'for', 'the', 'station', 'his', 'show', 'was', 'replaced', 'with', 'the', 'unk', 'Network', 's', 'The', 'Larry', 'King', 'Show']\n",
      "['After', '30', 'years', 'with', 'unk', 'and', 'a', 'change', 'in', 'ownership', 'for', 'the', 'station', 'his', 'show', 'was', 'replaced', 'with', 'the', 'unk', 'Networks', 'The', 'Larry', 'King', 'Show']\n",
      "['In', 'her', 'acceptance', 'speech', 'Jane', 'unk', 'observed', 'that', 'despite', 'all', 'of', 'her', 'late', 'husband', 's', 'achievements', 'there', 'was', 'one', 'thing', 'he', 'had', 'never', 'received', 'He', 'had', 'a', 'great', 'career', 'but', 'he', 'never', 'had', 'a', 'trophy']\n",
      "['In', 'her', 'acceptance', 'speech', 'Jane', 'unk', 'observed', 'that', 'despite', 'all', 'of', 'her', 'late', 'husbands', 'achievements', 'there', 'was', 'one', 'thing', 'he', 'had', 'never', 'received', 'He', 'had', 'a', 'great', 'career', 'but', 'he', 'never', 'had', 'a', 'trophy']\n",
      "['It', 'acquired', 'peak', 'winds', 'of', '140', 'miles', 'per', 'hour', '225', 'km', 'h', 'and', 'passed', 'over', 'portions', 'of', 'the', 'Bahamas', 'on', 'September', '3', 'including', 'unk', 'and', 'Harbour', 'Island', 'causing', 'severe', 'damage', 'to', 'crops', 'buildings', 'and', 'infrastructure']\n",
      "['It', 'acquired', 'peak', 'winds', 'of', '140', 'miles', 'per', 'hour', '225', 'km', 'hand', 'passed', 'over', 'portions', 'of', 'the', 'Bahamas', 'on', 'September', '3', 'including', 'unk', 'and', 'Harbour', 'Island', 'causing', 'severe', 'damage', 'to', 'crops', 'buildings', 'and', 'infrastructure']\n",
      "['98', 'inHg', 'unk', 'mb', 'during', 'a', '40', 'minute', 'period', 'of', 'the', 'eye', 's', 'passage', 'this', 'suggested', 'a', 'landfall', 'strength', 'of', '125', 'mph', '201', 'km', 'h']\n",
      "['98', 'inHg', 'unk', 'mb', 'during', 'a', '40', 'minute', 'period', 'of', 'the', 'eyes', 'passage', 'this', 'suggested', 'a', 'landfall', 'strength', 'of', '125', 'mph', '201', 'km', 'h']\n",
      "['About', '2', '500', 'people', 'evacuated', 'by', 'train', 'from', 'areas', 'around', 'Lake', 'Okeechobee']\n",
      "['About', '2500', 'people', 'evacuated', 'by', 'train', 'from', 'areas', 'around', 'Lake', 'Okeechobee']\n",
      "['Winds', 'reached', '110', 'mph', '177', 'km', 'h', 'at', 'Governor', 's', 'Harbour', '100', 'mph', '161', 'km', 'h', 'on', 'unk', 'and', '120', 'mph', '193', 'km', 'h', 'on', 'the', 'unk', 'Islands']\n",
      "['Winds', 'reached', '110', 'mph', '177', 'km', 'hat', 'Governors', 'Harbour', '100', 'mph', '161', 'km', 'h', 'on', 'unk', 'and', '120', 'mph', '193', 'km', 'h', 'on', 'the', 'unk', 'Islands']\n",
      "['Fort', 'Pierce', 'estimated', 'peak', 'winds', 'of', '80', 'to', '90', 'mph', '129', 'to', '145', 'km', 'h', 'and', 'pressures', 'dipped', 'to', '29']\n",
      "['Fort', 'Pierce', 'estimated', 'peak', 'winds', 'of', '80', 'to', '90', 'mph', '129', 'to', '145', 'km', 'hand', 'pressures', 'dipped', 'to', '29']\n",
      "['Winds', 'also', 'tore', 'the', 'roof', 'off', 'an', 'ice', 'plant']\n",
      "['Winds', 'also', 'tore', 'the', 'roof', 'off', 'a', 'nice', 'plant']\n",
      "['Of', 'the', '7', '900', 'families', 'adversely', 'affected', 'by', 'the', 'hurricane', '4', '325', 'required', 'assistance', 'from', 'the', 'American', 'Red', 'Cross']\n",
      "['Of', 'the', '7', '900', 'families', 'adversely', 'affected', 'by', 'the', 'hurricane', '43', '25', 'required', 'assistance', 'from', 'the', 'American', 'Red', 'Cross']\n",
      "['It', 'was', 'a', 'part', 'of', 'the', 'Battle', 'of', 'Pusan', 'Perimeter', 'and', 'was', 'one', 'of', 'several', 'large', 'engagements', 'fought', 'simultaneously']\n",
      "['It', 'was', 'apart', 'of', 'the', 'Battle', 'of', 'Pusan', 'Perimeter', 'and', 'was', 'one', 'of', 'several', 'large', 'engagements', 'fought', 'simultaneously']\n",
      "['The', 'division', 'which', 'was', 'unk', 'in', 'combat', 'was', 'struck', 'with', 'a', 'strong', 'attack', 'by', 'several', 'divisions', 'of', 'the', 'Korean', 'People', 's', 'Army', 'which', 'crossed', 'the', 'river', 'and', 'struck', 'all', 'along', 'the', 'division', 's', 'line']\n",
      "['The', 'division', 'which', 'was', 'unk', 'in', 'combat', 'was', 'struck', 'with', 'a', 'strong', 'attack', 'by', 'several', 'divisions', 'of', 'the', 'Korean', 'Peoples', 'Army', 'which', 'crossed', 'the', 'river', 'and', 'struck', 'all', 'along', 'the', 'divisions', 'line']\n",
      "['The', 'urgency', 'of', 'the', 'threat', 'to', 'Pusan', 'Perimeter', 'prompted', 'the', 'US', 'Marine', 'Corps', '1st', 'Provisional', 'Marine', 'Brigade', 'to', 'be', 'brought', 'in', 'to', 'reinforce', 'the', 'US', 'Army', 'troops']\n",
      "['The', 'urgency', 'of', 'the', 'threat', 'to', 'Pusan', 'Perimeter', 'prompted', 'the', 'US', 'Marine', 'Corps', '1st', 'Provisional', 'Marine', 'Brigade', 'to', 'be', 'brought', 'into', 'reinforce', 'the', 'US', 'Army', 'troops']\n",
      "['From', 'the', 'outbreak', 'of', 'the', 'Korean', 'War', 'and', 'the', 'invasion', 'of', 'South', 'Korea', 'by', 'the', 'North', 'the', 'North', 'Korean', 'People', 's', 'Army', 'had', 'enjoyed', 'superiority', 'in', 'both', 'manpower', 'and', 'equipment', 'over', 'both', 'the', 'Republic', 'of', 'Korea', 'Army', 'and', 'the', 'United', 'Nations', 'forces', 'dispatched', 'to', 'South', 'Korea', 'to', 'prevent', 'it', 'from', 'collapsing']\n",
      "['From', 'the', 'outbreak', 'of', 'the', 'Korean', 'War', 'and', 'the', 'invasion', 'of', 'South', 'Korea', 'by', 'the', 'North', 'the', 'North', 'Korean', 'Peoples', 'Army', 'had', 'enjoyed', 'superiority', 'in', 'both', 'manpower', 'and', 'equipment', 'over', 'both', 'the', 'Republic', 'of', 'Korea', 'Army', 'and', 'the', 'United', 'Nations', 'forces', 'dispatched', 'to', 'South', 'Korea', 'to', 'prevent', 'it', 'from', 'collapsing']\n",
      "['In', 'the', 'First', 'Battle', 'of', 'unk', 'unk', 'the', 'North', 'Korean', 'division', 'was', 'unable', 'to', 'hold', 'its', 'bridgehead', 'across', 'the', 'river', 'as', 'large', 'numbers', 'of', 'US', 'reserve', 'forces', 'were', 'brought', 'in', 'to', 'repel', 'it', 'and', 'on', 'August', '19', 'the', 'unk', '4th', 'Division', 'was', 'forced', 'back', 'across', 'the', 'river', 'with', '50', 'percent', 'casualties']\n",
      "['In', 'the', 'First', 'Battle', 'of', 'unk', 'unk', 'the', 'North', 'Korean', 'division', 'was', 'unable', 'to', 'hold', 'its', 'bridgehead', 'across', 'the', 'river', 'as', 'large', 'numbers', 'of', 'US', 'reserve', 'forces', 'were', 'brought', 'into', 'repel', 'it', 'and', 'on', 'August', '19', 'the', 'unk', '4th', 'Division', 'was', 'forced', 'back', 'across', 'the', 'river', 'with', '50', 'percent', 'casualties']\n",
      "['These', 'attacks', 'would', 'overwhelm', 'the', 'UN', 'defenders', 'and', 'allow', 'the', 'North', 'Koreans', 'to', 'break', 'through', 'the', 'lines', 'in', 'at', 'least', 'one', 'place', 'to', 'force', 'the', 'UN', 'forces', 'back']\n",
      "['These', 'attacks', 'would', 'overwhelm', 'the', 'UN', 'defenders', 'and', 'allow', 'the', 'North', 'Koreans', 'to', 'breakthrough', 'the', 'lines', 'in', 'at', 'least', 'one', 'place', 'to', 'force', 'the', 'UN', 'forces', 'back']\n",
      "['The', 'center', 'attack', 'called', 'for', 'the', 'unk', '9th', 'Division', 'unk', '4th', 'Division', 'unk', '2nd', 'Division', 'and', 'unk', '10th', 'Division', 'break', 'through', 'the', 'US', '2nd', 'Infantry', 'Division', 'at', 'the', 'unk', 'unk', 'to', 'unk', 'and', 'unk']\n",
      "['The', 'center', 'attack', 'called', 'for', 'the', 'unk', '9th', 'Division', 'unk', '4th', 'Division', 'unk', '2nd', 'Division', 'and', 'unk', '10th', 'Division', 'breakthrough', 'the', 'US', '2nd', 'Infantry', 'Division', 'at', 'the', 'unk', 'unk', 'to', 'unk', 'and', 'unk']\n",
      "['During', 'the', 'North', 'Koreans', 'September', '1', 'offensive', 'the', 'US', '25th', 'Infantry', 'Division', 's', 'US', '35th', 'Infantry', 'Regiment', 'was', 'heavily', 'engaged', 'in', 'the', 'Battle', 'of', 'unk', 'River', 'north', 'of', 'unk']\n",
      "['During', 'the', 'North', 'Koreans', 'September', '1', 'offensive', 'the', 'US', '25th', 'Infantry', 'Divisions', 'US', '35th', 'Infantry', 'Regiment', 'was', 'heavily', 'engaged', 'in', 'the', 'Battle', 'of', 'unk', 'River', 'north', 'of', 'unk']\n",
      "['On', 'the', '35th', 'Regiment', 's', 'right', 'flank', 'just', 'north', 'of', 'the', 'confluence', 'of', 'the', 'unk', 'River', 'and', 'the', 'unk', 'River', 'was', 'the', 'US', '9th', 'Infantry', 'Regiment', 'US', '2nd', 'Infantry', 'Division']\n",
      "['On', 'the', '35th', 'Regiments', 'right', 'flank', 'just', 'north', 'of', 'the', 'confluence', 'of', 'the', 'unk', 'River', 'and', 'the', 'unk', 'River', 'was', 'the', 'US', '9th', 'Infantry', 'Regiment', 'US', '2nd', 'Infantry', 'Division']\n",
      "['Each', 'US', 'infantry', 'company', 'on', 'the', 'river', 'line', 'here', 'had', 'a', 'front', 'of', '3', '000', 'feet', '910', 'm', 'to', '4', '000', 'feet', '1', '200', 'm', 'and', 'they', 'held', 'only', 'key', 'hills', 'and', 'observation', 'points', 'as', 'the', 'units', 'were', 'extremely', 'spread', 'out', 'along', 'the', 'wide', 'front']\n",
      "['Each', 'US', 'infantry', 'company', 'on', 'the', 'river', 'line', 'here', 'had', 'a', 'front', 'of', '3000', 'feet', '910', 'm', 'to', '4000', 'feet', '1200', 'm', 'and', 'they', 'held', 'only', 'key', 'hills', 'and', 'observation', 'points', 'as', 'the', 'units', 'were', 'extremely', 'spread', 'out', 'along', 'the', 'wide', 'front']\n",
      "['Its', 'mission', 'in', 'the', 'forthcoming', 'attack', 'was', 'to', 'outflank', 'and', 'destroy', 'the', 'US', 'troops', 'at', 'unk', 'unk', 'by', 'capturing', 'the', 'unk', 'and', 'unk', 'areas', 'to', 'cut', 'off', 'the', 'US', '2nd', 'Division', 's', 'route', 'of', 'supply', 'and', 'withdrawal', 'between', 'unk', 'and', 'Pusan']\n",
      "['Its', 'mission', 'in', 'the', 'forthcoming', 'attack', 'was', 'to', 'outflank', 'and', 'destroy', 'the', 'US', 'troops', 'at', 'unk', 'unk', 'by', 'capturing', 'the', 'unk', 'and', 'unk', 'areas', 'to', 'cut', 'off', 'the', 'US', '2nd', 'Divisions', 'route', 'of', 'supply', 'and', 'withdrawal', 'between', 'unk', 'and', 'Pusan']\n",
      "['However', 'the', 'North', 'Koreans', 'weren', 't', 'aware', 'that', 'the', 'US', '2nd', 'Infantry', 'Division', 'had', 'recently', 'replaced', 'the', 'US', '24th', 'Infantry', 'Division', 'in', 'positions', 'along', 'the', 'unk', 'River']\n",
      "['However', 'the', 'North', 'Koreans', 'we', 'rent', 'aware', 'that', 'the', 'US', '2nd', 'Infantry', 'Division', 'had', 'recently', 'replaced', 'the', 'US', '24th', 'Infantry', 'Division', 'in', 'positions', 'along', 'the', 'unk', 'River']\n",
      "['The', 'North', 'Koreans', 'began', 'crossing', 'the', 'unk', 'River', 'under', 'cover', 'of', 'darkness', 'at', 'certain', 'points']\n",
      "['The', 'North', 'Koreans', 'began', 'crossing', 'the', 'unk', 'River', 'undercover', 'of', 'darkness', 'at', 'certain', 'points']\n",
      "['On', 'the', 'southern', 'most', 'flank', 'of', 'the', '9th', 'Infantry', 'river', 'line', 'just', 'above', 'the', 'junction', 'of', 'the', 'unk', 'River', 'with', 'the', 'unk', 'A', 'Company', 'of', 'the', '1st', 'Battalion', 'was', 'dug', 'in', 'on', 'a', 'long', 'finger', 'ridge', 'unk', 'the', 'unk', 'that', 'terminates', 'in', 'Hill', '94', 'at', 'the', 'unk', 'ferry', 'site']\n",
      "['On', 'the', 'southernmost', 'flank', 'of', 'the', '9th', 'Infantry', 'river', 'line', 'just', 'above', 'the', 'junction', 'of', 'the', 'unk', 'River', 'with', 'the', 'unk', 'A', 'Company', 'of', 'the', '1st', 'Battalion', 'was', 'dug', 'in', 'on', 'along', 'finger', 'ridge', 'unk', 'the', 'unk', 'that', 'terminates', 'in', 'Hill', '94', 'at', 'the', 'unk', 'ferry', 'site']\n",
      "['At', '20', '00', 'a', 'heavy', 'fog', 'covered', 'the', 'river', 'and', 'at', '22', '00', 'mortar', 'shells', 'began', 'falling', 'on', 'the', 'American', 'held', 'side', 'of', 'the', 'river']\n",
      "['At', '2000', 'a', 'heavy', 'fog', 'covered', 'the', 'river', 'and', 'at', '2', '200', 'mortar', 'shells', 'began', 'falling', 'on', 'the', 'American', 'held', 'side', 'of', 'the', 'river']\n",
      "['unk', 's', 'four', 'vehicles', 'attacked', 'this', 'structure', 'and', 'after', 'about', 'a', 'minute', 'of', 'heavy', 'fire', 'the', 'bridge', 'collapsed', 'and', 'the', 'unk', 'boats', 'used', 'to', 'hold', 'the', 'bridge', 'in', 'place', 'were', 'sunk']\n",
      "['unk', 's', 'four', 'vehicles', 'attacked', 'this', 'structure', 'and', 'after', 'about', 'a', 'minute', 'of', 'heavy', 'fire', 'the', 'bridge', 'collapsed', 'and', 'the', 'unk', 'boats', 'used', 'to', 'hold', 'the', 'bridge', 'in', 'place', 'were', 's', 'unk']\n",
      "['At', '23', '00', 'a', 'small', 'arms', 'fight', 'flared', 'around', 'the', 'left', 'side', 'of', 'A', 'Company', 'north', 'of', 'the', 'tanks']\n",
      "['At', '2300', 'a', 'small', 'arms', 'fight', 'flared', 'around', 'the', 'left', 'side', 'of', 'A', 'Company', 'north', 'of', 'the', 'tanks']\n",
      "['The', 'unk', '9th', 'Division', 's', 'infantry', 'crossing', 'of', 'the', 'unk', 'and', 'attack', 'on', 'its', 'east', 'side', 'near', 'midnight', 'quickly', 'overran', 'the', 'positions', 'of', 'C', 'Company', 'north', 'of', 'A', 'Company']\n",
      "['The', 'unk', '9th', 'Divisions', 'infantry', 'crossing', 'of', 'the', 'unk', 'and', 'attack', 'on', 'its', 'east', 'side', 'near', 'midnight', 'quickly', 'overran', 'the', 'positions', 'of', 'C', 'Company', 'north', 'of', 'A', 'Company']\n",
      "['2', 'inch', 'mortar', 'platoon', 'to', 'its', 'position', 'at', 'the', 'base', 'of', 'Hill', 'unk', 'where', 'the', 'unk', 'prepared', 'to', 'set', 'up', 'their', 'weapons']\n",
      "['2', 'inch', 'mortar', 'platoon', 'to', 'its', 'position', 'at', 'the', 'base', 'of', 'Hill', 'unk', 'where', 'the', 'unk', 'prepared', 'to', 'setup', 'their', 'weapons']\n",
      "['By', '21', '00', 'the', 'closest', 'front', 'line', 'unit', 'was', 'B', 'Company', 'on', 'top', 'of', 'Hill', 'unk', '1', 'mile', '1']\n",
      "['By', '2100', 'the', 'closest', 'front', 'line', 'unit', 'was', 'B', 'Company', 'on', 'top', 'of', 'Hill', 'unk', '1', 'mile', '1']\n",
      "['6', 'km', 'north', 'of', 'the', 'river', 'road', 'which', 'curved', 'around', 'the', 'hill', 's', 'southern', 'base']\n",
      "['6', 'km', 'north', 'of', 'the', 'river', 'road', 'which', 'curved', 'around', 'the', 'hills', 'southern', 'base']\n",
      "['They', 'soon', 'discovered', 'a', 'long', 'line', 'of', 'North', 'Korean', 'soldiers', 'wading', 'the', 'river']\n",
      "['They', 'soon', 'discovered', 'along', 'line', 'of', 'North', 'Korean', 'soldiers', 'wading', 'the', 'river']\n",
      "['It', 'unk', 'on', 'to', 'the', 'top', 'where', 'the', 'advance', 'group', 'waited', 'and', 'there', 'all', 'hastily', 'dug', 'in', 'on', 'a', 'small', 'perimeter']\n",
      "['It', 'unk', 'onto', 'the', 'top', 'where', 'the', 'advance', 'group', 'waited', 'and', 'there', 'all', 'hastily', 'dug', 'in', 'on', 'a', 'small', 'perimeter']\n",
      "['At', '02', '00', 'B', 'Company', 'was', 'attacked']\n",
      "['At', '0', '200', 'B', 'Company', 'was', 'attacked']\n",
      "['But', 'higher', 'up', 'on', 'Hill', 'unk', 'the', 'North', 'Koreans', 'drove', 'B', 'Company', 'from', 'its', 'position', 'inflicting', 'very', 'heavy', 'casualties', 'on', 'it']\n",
      "['But', 'higher', 'upon', 'Hill', 'unk', 'the', 'North', 'Koreans', 'drove', 'B', 'Company', 'from', 'its', 'position', 'inflicting', 'very', 'heavy', 'casualties', 'on', 'it']\n",
      "['At', '03', '00', '1', 'September', 'the', '9th', 'Infantry', 'Regiment', 'ordered', 'its', 'only', 'reserve', 'E', 'Company', 'to', 'move', 'west', 'along', 'the', 'unk', 'unk', 'River', 'road', 'and', 'take', 'a', 'blocking', 'position', 'at', 'the', 'pass', 'between', 'unk', 'Hill', 'and', 'unk', 'unk', 'Ridge', '3', 'miles', '4']\n",
      "['At', '0300', '1', 'September', 'the', '9th', 'Infantry', 'Regiment', 'ordered', 'its', 'only', 'reserve', 'E', 'Company', 'to', 'move', 'west', 'along', 'the', 'unk', 'unk', 'River', 'road', 'and', 'take', 'a', 'blocking', 'position', 'at', 'the', 'pass', 'between', 'unk', 'Hill', 'and', 'unk', 'unk', 'Ridge', '3', 'miles', '4']\n",
      "['Fighting', 'began', 'at', 'the', 'pass', 'at', '02', '30', 'when', 'an', 'American', 'medium', 'tank', 'of', 'A', 'Company', '72nd', 'Tank', 'Battalion', 'knocked', 'out', 'a', 'T', '34', 'at', 'unk', 'also', 'called', 'unk']\n",
      "['Fighting', 'began', 'at', 'the', 'pass', 'at', '0', '230', 'when', 'an', 'American', 'medium', 'tank', 'of', 'A', 'Company', '72nd', 'Tank', 'Battalion', 'knocked', 'out', 'a', 'T', '34', 'at', 'unk', 'also', 'called', 'unk']\n",
      "['A', 'northern', 'secondary', 'road', 'curved', 'around', 'unk', 'and', 'lakes', 'the', 'largest', 'of', 'which', 'was', 'Lake', 'U', 'p', 'unk', 'to', 'unk']\n",
      "['A', 'northern', 'secondary', 'road', 'curved', 'around', 'unk', 'and', 'lakes', 'the', 'largest', 'of', 'which', 'was', 'Lake', 'Up', 'unk', 'to', 'unk']\n",
      "['The', 'artillery', 'forward', 'observer', 'who', 'estimated', 'the', 'column', 'at', '2', '000', 'people', 'thought', 'they', 'were', 'refugees']\n",
      "['The', 'artillery', 'forward', 'observer', 'who', 'estimated', 'the', 'column', 'at', '2000', 'people', 'thought', 'they', 'were', 'refugees']\n",
      "['At', '21', '00', 'the', 'first', 'shells', 'of', 'what', 'proved', 'to', 'be', 'a', 'two', 'hour', 'North', 'Korean', 'artillery', 'and', 'mortar', 'preparation', 'against', 'the', 'American', 'river', 'positions', 'of', '2nd', 'Platoon']\n",
      "['At', '2100', 'the', 'first', 'shells', 'of', 'what', 'proved', 'to', 'be', 'a', 'two', 'hour', 'North', 'Korean', 'artillery', 'and', 'mortar', 'preparation', 'against', 'the', 'American', 'river', 'positions', 'of', '2nd', 'Platoon']\n",
      "['As', 'the', 'barrage', 'rolled', 'on', 'North', 'Korean', 'infantry', 'crossed', 'the', 'river', 'and', 'climbed', 'the', 'hills', 'in', 'the', 'darkness', 'under', 'cover', 'of', 'its', 'fire']\n",
      "['As', 'the', 'barrage', 'rolled', 'on', 'North', 'Korean', 'infantry', 'crossed', 'the', 'river', 'and', 'climbed', 'the', 'hills', 'in', 'the', 'darkness', 'undercover', 'of', 'its', 'fire']\n",
      "['At', '23', '00', 'the', 'barrage', 'lifted', 'and', 'the', 'North', 'Koreans', 'attacked', '2nd', 'Platoon', 'forcing', 'it', 'from', 'the', 'hill', 'after', 'a', 'short', 'fight']\n",
      "['At', '2300', 'the', 'barrage', 'lifted', 'and', 'the', 'North', 'Koreans', 'attacked', '2nd', 'Platoon', 'forcing', 'it', 'from', 'the', 'hill', 'after', 'a', 'short', 'fight']\n",
      "['As', 'the', 'North', 'Korean', 'attack', 'developed', 'during', 'the', 'night', '1st', 'Battalion', 'succeeded', 'in', 'withdrawing', 'a', 'large', 'part', 'of', 'its', 'force', 'less', 'C', 'Company', 'just', 'north', 'of', 'Lake', 'U', 'p', 'unk', 'and', 'the', 'hills', 'there', 'covering', 'the', 'northern', 'road', 'into', 'unk', '3', 'miles', '4']\n",
      "['As', 'the', 'North', 'Korean', 'attack', 'developed', 'during', 'the', 'night', '1st', 'Battalion', 'succeeded', 'in', 'withdrawing', 'a', 'large', 'part', 'of', 'its', 'force', 'less', 'C', 'Company', 'just', 'north', 'of', 'Lake', 'Up', 'unk', 'and', 'the', 'hills', 'the', 'recovering', 'the', 'northern', 'road', 'into', 'unk', '3', 'miles', '4']\n",
      "['The', 'US', '2nd', 'Division', 'released', 'E', 'Company', 'to', 'the', 'regiment', 'and', 'the', 'next', 'day', 'it', 'joined', 'F', 'Company', 'to', 'build', 'up', 'what', 'became', 'the', 'main', 'defensive', 'position', 'of', 'the', 'unk', 'Regiment', 'in', 'front', 'of', 'unk']\n",
      "['The', 'US', '2nd', 'Division', 'released', 'E', 'Company', 'to', 'the', 'regiment', 'and', 'the', 'next', 'day', 'it', 'joined', 'F', 'Company', 'to', 'buildup', 'what', 'became', 'the', 'main', 'defensive', 'position', 'of', 'the', 'unk', 'Regiment', 'in', 'front', 'of', 'unk']\n",
      "['North', 'Korean', 'troops', 'during', 'the', 'night', 'passed', 'around', 'the', 'right', 'flank', 'of', '1st', 'Battalion', 's', 'northern', 'blocking', 'position', 'and', 'reached', 'the', 'road', 'three', 'miles', 'behind', 'him', 'near', 'the', 'division', 'artillery', 'positions']\n",
      "['North', 'Korean', 'troops', 'during', 'the', 'night', 'passed', 'around', 'the', 'right', 'flank', 'of', '1st', 'Battalions', 'northern', 'blocking', 'position', 'and', 'reached', 'the', 'road', 'three', 'miles', 'behind', 'him', 'near', 'the', 'division', 'artillery', 'positions']\n",
      "['Before', 'the', 'morning', 'of', '1', 'September', 'had', 'passed', 'reports', 'coming', 'in', 'to', 'US', '2nd', 'Division', 'headquarters', 'made', 'it', 'clear', 'that', 'North', 'Koreans', 'had', 'penetrated', 'to', 'the', 'north', 'south', 'unk', 'unk', 'road', 'and', 'cut', 'the', 'division', 'in', 'two', 'the', '38th', 'and', 'unk', 'Infantry', 'Regiments', 'with', 'the', 'bulk', 'of', 'the', 'division', 'artillery', 'in', 'the', 'north', 'were', 'separated', 'from', 'the', 'division', 'headquarters', 'and', 'the', '9th', 'Infantry', 'Regiment', 'in', 'the', 'south']\n",
      "['Before', 'the', 'morning', 'of', '1', 'September', 'had', 'passed', 'reports', 'coming', 'into', 'US', '2nd', 'Division', 'headquarters', 'made', 'it', 'clear', 'that', 'North', 'Koreans', 'had', 'penetrated', 'to', 'the', 'north', 'south', 'unk', 'unk', 'road', 'and', 'cut', 'the', 'division', 'in', 'two', 'the', '38th', 'and', 'unk', 'Infantry', 'Regiments', 'with', 'the', 'bulk', 'of', 'the', 'division', 'artillery', 'in', 'the', 'north', 'were', 'separated', 'from', 'the', 'division', 'headquarters', 'and', 'the', '9th', 'Infantry', 'Regiment', 'in', 'the', 'south']\n",
      "['The', 'unk', '2nd', 'Division', 'concentrated', 'in', 'the', 'unk', 'unk', 'area', 'west', 'of', 'the', 'river', 'had', 'in', 'effect', 'attacked', 'straight', 'east', 'across', 'the', 'river', 'and', 'was', 'trying', 'to', 'seize', 'the', 'two', 'avenues', 'of', 'advance', 'into', 'unk', 'above', 'and', 'below', 'Lake', 'U', 'p', 'unk']\n",
      "['The', 'unk', '2nd', 'Division', 'concentrated', 'in', 'the', 'unk', 'unk', 'area', 'west', 'of', 'the', 'river', 'had', 'in', 'effect', 'attacked', 'straight', 'east', 'across', 'the', 'river', 'and', 'was', 'trying', 'to', 'seize', 'the', 'two', 'avenues', 'of', 'advance', 'into', 'unk', 'above', 'and', 'below', 'Lake', 'Up', 'unk']\n",
      "['On', 'August', '31', '1950', 'Lake', 'U', 'p', 'unk', 'was', 'a', 'large', 'body', 'of', 'water', 'although', 'in', 'most', 'places', 'very', 'shallow']\n",
      "['On', 'August', '31', '1950', 'Lake', 'Up', 'unk', 'was', 'a', 'large', 'body', 'of', 'water', 'although', 'in', 'most', 'places', 'very', 'shallow']\n",
      "['At', '09', '00', 'Walker', 'requested', 'the', 'US', 'Air', 'Force', 'to', 'make', 'a', 'maximum', 'effort', 'along', 'the', 'unk', 'River', 'from', 'unk', 'dong', 'just', 'above', 'the', 'US', '2nd', 'Division', 'boundary', 'southward', 'and', 'to', 'a', 'depth', 'of', '15', 'miles', '24', 'km', 'west', 'of', 'the', 'river']\n",
      "['At', '0', '900', 'Walker', 'requested', 'the', 'US', 'Air', 'Force', 'to', 'make', 'a', 'maximum', 'effort', 'along', 'the', 'unk', 'River', 'from', 'unk', 'dong', 'just', 'above', 'the', 'US', '2nd', 'Division', 'boundary', 'southward', 'and', 'to', 'a', 'depth', 'of', '15', 'miles', '24', 'km', 'west', 'of', 'the', 'river']\n",
      "['Walker', 'came', 'to', 'the', 'US', '2nd', 'Division', 'front', 'at', '12', '00', 'and', 'ordered', 'the', 'division', 'to', 'hold', 'at', 'all', 'costs']\n",
      "['Walker', 'came', 'to', 'the', 'US', '2nd', 'Division', 'front', 'at', '1200', 'and', 'ordered', 'the', 'division', 'to', 'hold', 'at', 'all', 'costs']\n",
      "['7', 'km', 'northeast', 'of', 'unk', 'preparing', 'for', 'movement', 'to', 'the', 'port', 'of', 'Pusan', 'the', 'US', '27th', 'Infantry', 'Regiment', 'of', 'the', '25th', 'Division', 'which', 'had', 'arrived', 'at', 'unk', 'only', 'the', 'night', 'before', 'at', '20', '30', 'to', 'relieve', 'the', '5th', 'Regimental', 'Combat', 'Team', 'which', 'was', 'then', 'to', 'join', 'the', '24th', 'Division', 'in', 'the', 'unk', 'area', 'and', 'the', 'US', '19th', 'Infantry', 'Regiment', 'of', 'the', 'US', '24th', 'Infantry', 'Division', 'then', 'with', 'that', 'division', 's', 'headquarters', 'at', 'unk', 'southeast', 'of', 'unk']\n",
      "['7', 'km', 'northeast', 'of', 'unk', 'preparing', 'for', 'movement', 'to', 'the', 'port', 'of', 'Pusan', 'the', 'US', '27th', 'Infantry', 'Regiment', 'of', 'the', '25th', 'Division', 'which', 'had', 'arrived', 'at', 'unk', 'only', 'the', 'night', 'before', 'at', '20', '30', 'to', 'relieve', 'the', '5th', 'Regimental', 'Combat', 'Team', 'which', 'was', 'then', 'to', 'join', 'the', '24th', 'Division', 'in', 'the', 'unk', 'area', 'and', 'the', 'US', '19th', 'Infantry', 'Regiment', 'of', 'the', 'US', '24th', 'Infantry', 'Division', 'then', 'with', 'that', 'divisions', 'headquarters', 'at', 'unk', 'southeast', 'of', 'unk']\n",
      "['Walker', 'alerted', 'both', 'the', '24th', 'Division', 'headquarters', 'together', 'with', 'its', '19th', 'Regiment', 'and', 'the', '1st', 'Provisional', 'Marine', 'Brigade', 'to', 'move', 'at', 'a', 'moment', 's', 'notice', 'the', '24th', 'Division', 'either', 'to', 'the', '2nd', 'or', '25th', 'Division', 'fronts', 'and', 'the', 'marines', 'to', 'an', 'unk', 'destination']\n",
      "['Walker', 'alerted', 'both', 'the', '24th', 'Division', 'headquarters', 'together', 'with', 'its', '19th', 'Regiment', 'and', 'the', '1st', 'Provisional', 'Marine', 'Brigade', 'to', 'move', 'at', 'a', 'moments', 'notice', 'the', '24th', 'Division', 'either', 'to', 'the', '2nd', 'or', '25th', 'Division', 'fronts', 'and', 'the', 'marines', 'to', 'an', 'unk', 'destination']\n",
      "['At', '11', '00', 'Walker', 'ordered', 'US', 'Marine', 'Corps', 'Brigadier', 'General', 'Edward', 'A']\n",
      "['At', '1100', 'Walker', 'ordered', 'US', 'Marine', 'Corps', 'Brigadier', 'General', 'Edward', 'A']\n",
      "['The', 'marines', 'made', 'ready', 'to', 'depart', 'for', 'the', 'unk', 'unk', 'at', '13', '30']\n",
      "['The', 'marines', 'made', 'ready', 'to', 'depart', 'for', 'the', 'unk', 'unk', 'at', '1330']\n",
      "['From', 'a', 'hill', 'at', '12', '00', 'after', 'the', 'fog', 'had', 'lifted', 'the', 'men', 'looked', 'down', 'on', 'the', 'Battle', 'of', 'unk', 'which', 'was', 'then', 'in', 'progress']\n",
      "['From', 'a', 'hill', 'at', '1200', 'after', 'the', 'fog', 'had', 'lifted', 'the', 'men', 'looked', 'down', 'on', 'the', 'Battle', 'of', 'unk', 'which', 'was', 'then', 'in', 'progress']\n"
     ]
    },
    {
     "data": {
      "text/plain": [
       "(861, 1000)"
      ]
     },
     "execution_count": 86,
     "metadata": {},
     "output_type": "execute_result"
    }
   ],
   "source": [
    "test_model(tests[:1000], bigramProbLTR)"
   ]
  },
  {
   "cell_type": "markdown",
   "metadata": {},
   "source": [
    "Surprisingly, the unigram model have a better result than the bigram model. Look like a simple model with enough data is good enough for segmentation task. Of course this still have quite a lot of wrong assumption, but the unigram model is still the best model we have for now. "
   ]
  }
 ],
 "metadata": {
  "kernelspec": {
   "display_name": "Python 3",
   "language": "python",
   "name": "python3"
  },
  "language_info": {
   "codemirror_mode": {
    "name": "ipython",
    "version": 3
   },
   "file_extension": ".py",
   "mimetype": "text/x-python",
   "name": "python",
   "nbconvert_exporter": "python",
   "pygments_lexer": "ipython3",
   "version": "3.7.0"
  }
 },
 "nbformat": 4,
 "nbformat_minor": 4
}
